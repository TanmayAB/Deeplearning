{
 "cells": [
  {
   "cell_type": "markdown",
   "metadata": {},
   "source": [
    "### Tanmay Bhatt\n",
    "### 011499072\n",
    "CMPE 258 <br />\n",
    "Mid term exam - 2 <br />\n",
    "Date: 04/15/2018 <br />"
   ]
  },
  {
   "cell_type": "markdown",
   "metadata": {},
   "source": [
    "## Best accuracy achieved with Learning rate = 0.04 and Dropout 0.8\n",
    "\n",
    "dropout probability :  0.5 <br />\n",
    "Learning rate :  0.004 <br />\n",
    "<br />\n",
    "Final cost : 0.05231717 <br/>\n",
    "\n",
    "Training accuracy : 99.21% <br />\n",
    "Testing accuracy : 95%"
   ]
  },
  {
   "cell_type": "code",
   "execution_count": 1,
   "metadata": {},
   "outputs": [],
   "source": [
    "import numpy as np\n",
    "import tensorflow as tf\n",
    "import matplotlib.pyplot as plt\n",
    "tf.set_random_seed(10)"
   ]
  },
  {
   "cell_type": "markdown",
   "metadata": {},
   "source": [
    "## 1. (10pts) Define functions\n",
    "You may need to define the following functions. <br />\n",
    "One-hot encoding<br />\n",
    "Create placeholders<br />\n",
    "initialize parameters<br />\n",
    "forward propagation with regularization<br />\n",
    "compute cost<br />"
   ]
  },
  {
   "cell_type": "code",
   "execution_count": 2,
   "metadata": {},
   "outputs": [],
   "source": [
    "def zero_pad(X,p):\n",
    "    return np.pad(X, [(0,0), (p,p), (p,p), (0,0)], 'constant', constant_values=(0))"
   ]
  },
  {
   "cell_type": "code",
   "execution_count": 3,
   "metadata": {},
   "outputs": [],
   "source": [
    "def placeholder_initializer():\n",
    "    X = tf.placeholder(shape=(None, 66, 66, 3), dtype=tf.float32) \n",
    "    Y = tf.placeholder(shape=(None, output_neurons), dtype=tf.float32)\n",
    "    dropout_probaility = tf.placeholder(\"float\")\n",
    "\n",
    "    return X,Y,dropout_probaility"
   ]
  },
  {
   "cell_type": "code",
   "execution_count": 4,
   "metadata": {},
   "outputs": [],
   "source": [
    "def parameters_initializer():\n",
    "    W_cn_1 = tf.get_variable(\"W_cn_1\", shape=(4,4,3,8), initializer=tf.contrib.layers.xavier_initializer(seed=0))\n",
    "    W_cn_2 = tf.get_variable(\"W_cn_2\", shape=(4,4,8,16), initializer=tf.contrib.layers.xavier_initializer(seed=0))\n",
    "    \n",
    "    \n",
    "#     B_cn_1 = tf.get_variable(\"B_cn_1\",shape=(1,1,1,8),initializer=tf.zeros_initializer(),dtype=tf.float32)\n",
    "#     B_cn_2 = tf.get_variable(\"B_cn_2\",shape=(1,1,1,8),initializer=tf.zeros_initializer(),dtype=tf.float32)\n",
    "    \n",
    "    W1 = tf.get_variable(\"W_fc_1\",shape=(input_neurons, hidden1_neurons),dtype=tf.float32,initializer=tf.contrib.layers.xavier_initializer())\n",
    "    W2 = tf.get_variable(\"W_fc_2\",shape=(hidden1_neurons,output_neurons),dtype=tf.float32,initializer=tf.contrib.layers.xavier_initializer())\n",
    "\n",
    "    B1 = tf.get_variable(\"B_fc_1\",shape=(hidden1_neurons),initializer=tf.zeros_initializer(),dtype=tf.float32)\n",
    "    B2 = tf.get_variable(\"B_fc_3\",shape=(output_neurons),initializer=tf.zeros_initializer(),dtype=tf.float32)\n",
    "    \n",
    "    \n",
    "    return W_cn_1,W_cn_2, W1, W2, B1, B2"
   ]
  },
  {
   "cell_type": "code",
   "execution_count": 5,
   "metadata": {},
   "outputs": [],
   "source": [
    "def one_hot_encoding(mat):\n",
    "    list_of_list = []\n",
    "    for i in range(0,len(mat)):\n",
    "        small_list = np.zeros(np.max(mat)+1)\n",
    "        small_list[mat[i]] = 1\n",
    "        list_of_list.append(small_list)\n",
    "    result = np.array(list_of_list)\n",
    "    return result"
   ]
  },
  {
   "cell_type": "code",
   "execution_count": 6,
   "metadata": {},
   "outputs": [],
   "source": [
    "def forward_pass(dropout_prob):\n",
    "    \n",
    "    global neural_dict\n",
    "    \n",
    "    Z1 = tf.nn.conv2d(\n",
    "        X,\n",
    "        neural_dict['Conv1']['W'],\n",
    "        neural_dict['Conv1']['params']['stride'],\n",
    "        padding=\"SAME\"\n",
    "    )\n",
    "    \n",
    "    A1 = tf.nn.relu(Z1)\n",
    "    print(\"A1 shape : \", A1.shape)\n",
    "    \n",
    "    P1 = tf.nn.max_pool(\n",
    "        value = A1,\n",
    "        ksize = neural_dict['Pool1']['params']['f'],\n",
    "        strides = neural_dict['Pool1']['params']['stride'],\n",
    "        padding = \"SAME\"\n",
    "    )\n",
    "    print(\"P1 shape : \", P1.shape)\n",
    "    \n",
    "    Z2 = tf.nn.conv2d(\n",
    "        P1,\n",
    "        neural_dict['Conv2']['W'],\n",
    "        neural_dict['Conv2']['params']['stride'],\n",
    "        padding = 'SAME'\n",
    "    )\n",
    "    \n",
    "    A2 = tf.nn.relu(Z2)\n",
    "    print(\"A2 shape : \", A2.shape)    \n",
    "    \n",
    "    P2 = tf.nn.avg_pool(\n",
    "        value = A2,\n",
    "        ksize = neural_dict['Pool2']['params']['f'],\n",
    "        strides = neural_dict['Pool2']['params']['stride'],\n",
    "        padding = 'SAME'\n",
    "    )\n",
    "    print(\"P2 shape : \", P2.shape)\n",
    "    \n",
    "    \n",
    "    F1 = tf.layers.flatten(inputs = P2)\n",
    "    print(\"F1 shape : \", F1.shape)\n",
    "    \n",
    "        \n",
    "    fz_1 = tf.add(tf.matmul(F1, neural_dict['Fc1']['W']), neural_dict['Fc1']['B'])\n",
    "    fa_1 = tf.nn.relu(fz_1)\n",
    "    \n",
    "    fa_1 = tf.nn.dropout(fa_1, dropout_prob)\n",
    "    print(\"fa_1 shape : \", fa_1.shape)\n",
    "    \n",
    "    \n",
    "    fz_2 = tf.add(tf.matmul(fa_1, neural_dict['Fc2']['W']), neural_dict['Fc2']['B'])\n",
    "    fa_2 = tf.sigmoid(fz_2)\n",
    "    \n",
    "    return fz_2\n",
    "    "
   ]
  },
  {
   "cell_type": "markdown",
   "metadata": {},
   "source": [
    "## 2. Load data\n",
    "Using Jupyter notebook, load the data."
   ]
  },
  {
   "cell_type": "code",
   "execution_count": 7,
   "metadata": {},
   "outputs": [
    {
     "name": "stdout",
     "output_type": "stream",
     "text": [
      "Train x shape : (1020, 64, 64, 3)\n",
      "Train y shape : (1020,)\n",
      "Test x shape : (180, 64, 64, 3)\n",
      "Test y shape : (180,)\n"
     ]
    }
   ],
   "source": [
    "X_train = np.load(\"./exam2_train_x.npy\")\n",
    "Y_train = np.load(\"./exam2_train_y.npy\")\n",
    "X_test = np.load(\"./exam2_test_x.npy\")\n",
    "Y_test = np.load(\"./exam2_test_y.npy\")\n",
    "print ('Train x shape :', X_train.shape)\n",
    "print ('Train y shape :', Y_train.shape)\n",
    "\n",
    "print ('Test x shape :', X_test.shape)\n",
    "print ('Test y shape :', Y_test.shape)"
   ]
  },
  {
   "cell_type": "code",
   "execution_count": 8,
   "metadata": {},
   "outputs": [],
   "source": [
    "X_train = X_train/255 - 0.5\n",
    "X_test = X_test/255 - 0.5"
   ]
  },
  {
   "cell_type": "code",
   "execution_count": 9,
   "metadata": {},
   "outputs": [],
   "source": [
    "Y_train_one_hot = one_hot_encoding(Y_train)\n",
    "Y_test_one_hot = one_hot_encoding(Y_test)"
   ]
  },
  {
   "cell_type": "code",
   "execution_count": 10,
   "metadata": {},
   "outputs": [],
   "source": [
    "X_train = zero_pad(X_train, 1)\n",
    "X_test = zero_pad(X_test, 1)"
   ]
  },
  {
   "cell_type": "code",
   "execution_count": 11,
   "metadata": {},
   "outputs": [],
   "source": [
    "input_neurons = 4624\n",
    "hidden1_neurons = 108\n",
    "output_neurons = 6"
   ]
  },
  {
   "cell_type": "code",
   "execution_count": 12,
   "metadata": {},
   "outputs": [],
   "source": [
    "X,Y, dropout_prob = placeholder_initializer()"
   ]
  },
  {
   "cell_type": "code",
   "execution_count": 13,
   "metadata": {},
   "outputs": [],
   "source": [
    "neural_dict = {\n",
    "    \n",
    "    'Conv1':{\n",
    "        'params' : {\n",
    "            'padding' : 1,\n",
    "            'stride' : [1,2,2,1]\n",
    "        }\n",
    "    },\n",
    "    'Pool1' : {\n",
    "        'params' : {\n",
    "            'f' : [1, 5, 5, 1],\n",
    "            'stride' : [1,1,1,1]\n",
    "        }\n",
    "    },\n",
    "    'Conv2' : {\n",
    "        'params' : {\n",
    "            'padding' : 0,\n",
    "            'stride' : [1,2,2,1]\n",
    "        }\n",
    "    },\n",
    "    'Pool2' : {\n",
    "        'params' : {\n",
    "            'f' : [1, 5, 5, 1],\n",
    "            'stride' : [1,1,1,1]\n",
    "        }\n",
    "    },\n",
    "    'Fc1' : {\n",
    "    },\n",
    "    'Fc2' : {\n",
    "    }\n",
    "}"
   ]
  },
  {
   "cell_type": "markdown",
   "metadata": {},
   "source": [
    "## 3. (10pts) Initialize parameters (Weights, bias for each layer)\n",
    "Please initialize weight coefficients and bias terms for each layer. Please make sure the size (dimension) of each Weights and bias.\n",
    "Please consider optimum initialization method depending on Activation function."
   ]
  },
  {
   "cell_type": "markdown",
   "metadata": {},
   "source": [
    "##  Initializing weights and biases\n",
    "Note : No need to initialize biases for Convolutional layers as tf.nn automatically takes care of it."
   ]
  },
  {
   "cell_type": "code",
   "execution_count": 14,
   "metadata": {},
   "outputs": [
    {
     "name": "stdout",
     "output_type": "stream",
     "text": [
      "WARNING:tensorflow:From /Library/Frameworks/Python.framework/Versions/3.6/lib/python3.6/site-packages/tensorflow/contrib/learn/python/learn/datasets/base.py:198: retry (from tensorflow.contrib.learn.python.learn.datasets.base) is deprecated and will be removed in a future version.\n",
      "Instructions for updating:\n",
      "Use the retry module or similar alternatives.\n"
     ]
    }
   ],
   "source": [
    "neural_dict['Conv1']['W'], neural_dict['Conv2']['W'], neural_dict['Fc1']['W'], neural_dict['Fc2']['W'], neural_dict['Fc1']['B'], neural_dict['Fc2']['B'] = parameters_initializer()"
   ]
  },
  {
   "cell_type": "code",
   "execution_count": 15,
   "metadata": {},
   "outputs": [],
   "source": [
    "plot_object = {}"
   ]
  },
  {
   "cell_type": "markdown",
   "metadata": {},
   "source": [
    "### Hyper parameters"
   ]
  },
  {
   "cell_type": "code",
   "execution_count": 16,
   "metadata": {},
   "outputs": [],
   "source": [
    "dropout_probabilities = [0.3, 0.5, 0.8, 0.9, 1]\n",
    "rate = 0.004\n",
    "iterations = 100"
   ]
  },
  {
   "cell_type": "code",
   "execution_count": 17,
   "metadata": {
    "scrolled": true
   },
   "outputs": [
    {
     "name": "stdout",
     "output_type": "stream",
     "text": [
      "A1 shape :  (?, 33, 33, 8)\n",
      "P1 shape :  (?, 33, 33, 8)\n",
      "A2 shape :  (?, 17, 17, 16)\n",
      "P2 shape :  (?, 17, 17, 16)\n",
      "F1 shape :  (?, 4624)\n",
      "fa_1 shape :  (?, 108)\n",
      "WARNING:tensorflow:From /Library/Frameworks/Python.framework/Versions/3.6/lib/python3.6/site-packages/tensorflow/python/util/tf_should_use.py:118: initialize_all_variables (from tensorflow.python.ops.variables) is deprecated and will be removed after 2017-03-02.\n",
      "Instructions for updating:\n",
      "Use `tf.global_variables_initializer` instead.\n",
      "A1 shape :  (?, 33, 33, 8)\n",
      "P1 shape :  (?, 33, 33, 8)\n",
      "A2 shape :  (?, 17, 17, 16)\n",
      "P2 shape :  (?, 17, 17, 16)\n",
      "F1 shape :  (?, 4624)\n",
      "fa_1 shape :  (?, 108)\n"
     ]
    }
   ],
   "source": [
    "tf.set_random_seed(10)\n",
    "forward_result = forward_pass(dropout_prob)\n",
    "\n",
    "cost = tf.losses.softmax_cross_entropy(Y, forward_result)\n",
    "\n",
    "optimizer = tf.train.AdamOptimizer(learning_rate=rate).minimize(cost)\n",
    "init_op = tf.initialize_all_variables()\n",
    "\n",
    "\n",
    "accuracy = tf.metrics.accuracy(tf.argmax(Y, 1),tf.argmax(forward_pass(dropout_prob), 1))\n"
   ]
  },
  {
   "cell_type": "markdown",
   "metadata": {},
   "source": [
    "## 4. (40pts) Build Convolution Neural Network model\n",
    "Please build your CNN model with forward propagation function.\n",
    "Implement the forward_propagation function as following:\n",
    "CONV2D -> Activation -> POOL -> CONV2D -> activation -> POOL -> FLATTEN -> FULLYCONNECTED -> FULLYCONNECTED\n",
    "\n",
    "Please print (or write) your CNN architecture model as the example table (10 pts)."
   ]
  },
  {
   "cell_type": "markdown",
   "metadata": {},
   "source": [
    "### CNN and FC Architecture\n",
    "\n",
    "| Layer         | Type                           | Size    | Channels | Kernel_size | Stride  | Padding | Functions |\n",
    "|---------------|------------------------------- |---------|----------|-------------|---------|---------|-----------|\n",
    "| 0             | Input                          | 64 * 64 |    3     |             |         |         |           | \n",
    "| 1             | Convolution (C1)               | 33 * 33 |    8     | 4 * 4       |   2     |   1     | ReLu      |\n",
    "| 1             | Pooling (P1)                   | 33 * 33 |    16    | 5 * 5       |   1     |   0     | Max       |\n",
    "| 2             | Convolution (C2)               | 17 * 17 |    16    | 4 * 4       |   2     |   0     | ReLu      |\n",
    "| 2             | Pooling (P2)                   | 17 * 17 |          | 5 * 5       |   1     |   0     | Avg       |\n",
    "| 3             | Flatten (F1)                   | 4624    |          |             |         |         |           |\n",
    "| 4             | Fully Connected (FC1) (dropout)| 108     |          |             |         |         | ReLu      |\n",
    "| 5             | Fully Connected (FC2) (Output) | 06      |          |             |         |         | Sigmoid   |"
   ]
  },
  {
   "cell_type": "markdown",
   "metadata": {},
   "source": [
    "## 5. (20pts) Optimization of Convolution Neural Network model\n",
    "Please optimize your model using your preferred optimization method.\n",
    "Please print out cost with number of iteration as below (10 pts)."
   ]
  },
  {
   "cell_type": "code",
   "execution_count": 19,
   "metadata": {
    "scrolled": false
   },
   "outputs": [
    {
     "name": "stdout",
     "output_type": "stream",
     "text": [
      "dropout probability :  0.3\n",
      "Learning rate :  0.004\n",
      "\n",
      "At Iteration : 10 Cost is 1.739299\n",
      "At Iteration : 20 Cost is 1.310114\n",
      "At Iteration : 30 Cost is 1.058070\n",
      "At Iteration : 40 Cost is 0.864297\n",
      "At Iteration : 50 Cost is 0.752528\n",
      "At Iteration : 60 Cost is 0.672667\n",
      "At Iteration : 70 Cost is 0.553175\n",
      "At Iteration : 80 Cost is 0.528488\n",
      "At Iteration : 90 Cost is 0.423377\n",
      "At Iteration : 100 Cost is 0.438068\n",
      "\n",
      "Final cost is :  0.43806803\n",
      "\n",
      "Train accuracy :  0.9401961\n",
      "Test accuracy :  0.9\n",
      "\n",
      "**********\n",
      "\n",
      "dropout probability :  0.5\n",
      "Learning rate :  0.004\n",
      "\n",
      "At Iteration : 10 Cost is 1.637487\n",
      "At Iteration : 20 Cost is 1.090984\n",
      "At Iteration : 30 Cost is 0.796724\n",
      "At Iteration : 40 Cost is 0.561925\n",
      "At Iteration : 50 Cost is 0.485758\n",
      "At Iteration : 60 Cost is 0.336768\n",
      "At Iteration : 70 Cost is 0.279133\n",
      "At Iteration : 80 Cost is 0.226683\n",
      "At Iteration : 90 Cost is 0.162964\n",
      "At Iteration : 100 Cost is 0.184205\n",
      "\n",
      "Final cost is :  0.18420486\n",
      "\n",
      "Train accuracy :  0.9823529\n",
      "Test accuracy :  0.9444444\n",
      "\n",
      "**********\n",
      "\n",
      "dropout probability :  0.8\n",
      "Learning rate :  0.004\n",
      "\n",
      "At Iteration : 10 Cost is 1.594522\n",
      "At Iteration : 20 Cost is 1.046563\n",
      "At Iteration : 30 Cost is 0.704703\n",
      "At Iteration : 40 Cost is 0.501634\n",
      "At Iteration : 50 Cost is 0.343734\n",
      "At Iteration : 60 Cost is 0.246672\n",
      "At Iteration : 70 Cost is 0.148910\n",
      "At Iteration : 80 Cost is 0.113178\n",
      "At Iteration : 90 Cost is 0.099396\n",
      "At Iteration : 100 Cost is 0.090030\n",
      "\n",
      "Final cost is :  0.090030484\n",
      "\n",
      "Train accuracy :  0.99215686\n",
      "Test accuracy :  0.95\n",
      "\n",
      "**********\n",
      "\n",
      "dropout probability :  0.9\n",
      "Learning rate :  0.004\n",
      "\n",
      "At Iteration : 10 Cost is 1.617873\n",
      "At Iteration : 20 Cost is 1.066716\n",
      "At Iteration : 30 Cost is 0.753206\n",
      "At Iteration : 40 Cost is 0.494823\n",
      "At Iteration : 50 Cost is 0.339813\n",
      "At Iteration : 60 Cost is 0.308721\n",
      "At Iteration : 70 Cost is 0.158017\n",
      "At Iteration : 80 Cost is 0.105758\n",
      "At Iteration : 90 Cost is 0.073886\n",
      "At Iteration : 100 Cost is 0.052317\n",
      "\n",
      "Final cost is :  0.05231717\n",
      "\n",
      "Train accuracy :  0.99607843\n",
      "Test accuracy :  0.9444444\n",
      "\n",
      "**********\n",
      "\n",
      "dropout probability :  1\n",
      "Learning rate :  0.004\n",
      "\n",
      "At Iteration : 10 Cost is 1.723538\n",
      "At Iteration : 20 Cost is 1.027681\n",
      "At Iteration : 30 Cost is 0.696434\n",
      "At Iteration : 40 Cost is 0.495907\n",
      "At Iteration : 50 Cost is 0.342841\n",
      "At Iteration : 60 Cost is 0.281595\n",
      "At Iteration : 70 Cost is 0.193088\n",
      "At Iteration : 80 Cost is 0.136997\n",
      "At Iteration : 90 Cost is 0.100048\n",
      "At Iteration : 100 Cost is 0.078622\n",
      "\n",
      "Final cost is :  0.07862222\n",
      "\n",
      "Train accuracy :  0.97843134\n",
      "Test accuracy :  0.90555555\n",
      "\n",
      "**********\n",
      "\n"
     ]
    }
   ],
   "source": [
    "tf.set_random_seed(10)\n",
    "for dropout in dropout_probabilities:\n",
    "    all_costs = []\n",
    "    with tf.Session() as sess:\n",
    "        sess.run(init_op)\n",
    "        count = 0\n",
    "        print(\"dropout probability : \",dropout)\n",
    "        print(\"Learning rate : \", rate)\n",
    "        print (\"\")\n",
    "        previous_cost = float('Inf')\n",
    "        while count < iterations:\n",
    "            result = sess.run((optimizer, cost), feed_dict = {X: X_train, Y: Y_train_one_hot, dropout_prob: dropout})\n",
    "            count +=1\n",
    "            if count % 10 == 0:\n",
    "                print (\"At Iteration : %d Cost is %f\" % (count,result[1]))\n",
    "            current_cost = result[1]\n",
    "            all_costs.append(current_cost)\n",
    "            if previous_cost == current_cost:\n",
    "                break\n",
    "            else:\n",
    "                previous_cost = current_cost\n",
    "\n",
    "        print (\"\")\n",
    "        print(\"Final cost is : \", result[1])  \n",
    "        \n",
    "\n",
    "        train_prediction = np.argmax(sess.run(forward_result, feed_dict = {X: X_train, Y: Y_train_one_hot, dropout_prob: 1.0}),1)\n",
    "        test_prediction = np.argmax(sess.run(forward_result, feed_dict = {X: X_test, Y: Y_test_one_hot, dropout_prob: 1.0}),1)\n",
    "\n",
    "        Y_train_labels = np.argmax(Y_train_one_hot,1)\n",
    "        Y_test_labels = np.argmax(Y_test_one_hot,1)\n",
    "        train_accuracy = sess.run(tf.reduce_mean(tf.cast(sess.run(tf.equal(train_prediction,Y_train_labels)), tf.float32)))\n",
    "        test_accuracy = sess.run(tf.reduce_mean(tf.cast(sess.run(tf.equal(test_prediction,Y_test_labels)), tf.float32)))\n",
    "\n",
    "        print (\"\")\n",
    "        print(\"Train accuracy : \", train_accuracy)\n",
    "        print(\"Test accuracy : \", test_accuracy)\n",
    "\n",
    "        plot_object[dropout] = {}\n",
    "        plot_object[dropout]['cost'] = result[1]\n",
    "        plot_object[dropout]['rate'] = rate\n",
    "        plot_object[dropout]['train_accuracy'] = train_accuracy\n",
    "        plot_object[dropout]['test_accuracy'] = test_accuracy\n",
    "        plot_object[dropout]['costs'] = all_costs\n",
    "\n",
    "        print (\"\")\n",
    "        print (\"**********\")\n",
    "        print (\"\")\n",
    "        sess.close()\n"
   ]
  },
  {
   "cell_type": "markdown",
   "metadata": {},
   "source": [
    "## 6. (20pts) Predictions\n",
    "Please predict SIGNS using softmax function. <br />\n",
    "\n",
    "Please print out the accuracy for the prediction using training data set and testing data set."
   ]
  },
  {
   "cell_type": "raw",
   "metadata": {},
   "source": [
    "Actual Output : \n",
    "\n",
    "dropout probability :  0.3\n",
    "Learning rate :  0.004\n",
    "\n",
    "At Iteration : 10 Cost is 1.739299\n",
    "At Iteration : 20 Cost is 1.310114\n",
    "At Iteration : 30 Cost is 1.058070\n",
    "At Iteration : 40 Cost is 0.864297\n",
    "At Iteration : 50 Cost is 0.752528\n",
    "At Iteration : 60 Cost is 0.672667\n",
    "At Iteration : 70 Cost is 0.553175\n",
    "At Iteration : 80 Cost is 0.528488\n",
    "At Iteration : 90 Cost is 0.423377\n",
    "At Iteration : 100 Cost is 0.438068\n",
    "\n",
    "Final cost is :  0.43806803\n",
    "\n",
    "Train accuracy :  0.9401961\n",
    "Test accuracy :  0.9\n",
    "\n",
    "**********\n",
    "\n",
    "dropout probability :  0.5\n",
    "Learning rate :  0.004\n",
    "\n",
    "At Iteration : 10 Cost is 1.637487\n",
    "At Iteration : 20 Cost is 1.090984\n",
    "At Iteration : 30 Cost is 0.796724\n",
    "At Iteration : 40 Cost is 0.561925\n",
    "At Iteration : 50 Cost is 0.485758\n",
    "At Iteration : 60 Cost is 0.336768\n",
    "At Iteration : 70 Cost is 0.279133\n",
    "At Iteration : 80 Cost is 0.226683\n",
    "At Iteration : 90 Cost is 0.162964\n",
    "At Iteration : 100 Cost is 0.184205\n",
    "\n",
    "Final cost is :  0.18420486\n",
    "\n",
    "Train accuracy :  0.9823529\n",
    "Test accuracy :  0.9444444\n",
    "\n",
    "**********\n",
    "\n",
    "dropout probability :  0.8\n",
    "Learning rate :  0.004\n",
    "\n",
    "At Iteration : 10 Cost is 1.594522\n",
    "At Iteration : 20 Cost is 1.046563\n",
    "At Iteration : 30 Cost is 0.704703\n",
    "At Iteration : 40 Cost is 0.501634\n",
    "At Iteration : 50 Cost is 0.343734\n",
    "At Iteration : 60 Cost is 0.246672\n",
    "At Iteration : 70 Cost is 0.148910\n",
    "At Iteration : 80 Cost is 0.113178\n",
    "At Iteration : 90 Cost is 0.099396\n",
    "At Iteration : 100 Cost is 0.090030\n",
    "\n",
    "Final cost is :  0.090030484\n",
    "\n",
    "Train accuracy :  0.99215686\n",
    "Test accuracy :  0.95\n",
    "\n",
    "**********\n",
    "\n",
    "dropout probability :  0.9\n",
    "Learning rate :  0.004\n",
    "\n",
    "At Iteration : 10 Cost is 1.617873\n",
    "At Iteration : 20 Cost is 1.066716\n",
    "At Iteration : 30 Cost is 0.753206\n",
    "At Iteration : 40 Cost is 0.494823\n",
    "At Iteration : 50 Cost is 0.339813\n",
    "At Iteration : 60 Cost is 0.308721\n",
    "At Iteration : 70 Cost is 0.158017\n",
    "At Iteration : 80 Cost is 0.105758\n",
    "At Iteration : 90 Cost is 0.073886\n",
    "At Iteration : 100 Cost is 0.052317\n",
    "\n",
    "Final cost is :  0.05231717\n",
    "\n",
    "Train accuracy :  0.99607843\n",
    "Test accuracy :  0.9444444\n",
    "\n",
    "**********\n",
    "\n",
    "dropout probability :  1\n",
    "Learning rate :  0.004\n",
    "\n",
    "At Iteration : 10 Cost is 1.723538\n",
    "At Iteration : 20 Cost is 1.027681\n",
    "At Iteration : 30 Cost is 0.696434\n",
    "At Iteration : 40 Cost is 0.495907\n",
    "At Iteration : 50 Cost is 0.342841\n",
    "At Iteration : 60 Cost is 0.281595\n",
    "At Iteration : 70 Cost is 0.193088\n",
    "At Iteration : 80 Cost is 0.136997\n",
    "At Iteration : 90 Cost is 0.100048\n",
    "At Iteration : 100 Cost is 0.078622\n",
    "\n",
    "Final cost is :  0.07862222\n",
    "\n",
    "Train accuracy :  0.97843134\n",
    "Test accuracy :  0.90555555\n",
    "\n",
    "**********\n"
   ]
  },
  {
   "cell_type": "markdown",
   "metadata": {},
   "source": [
    "### Dropout vs Accuracy"
   ]
  },
  {
   "cell_type": "code",
   "execution_count": 20,
   "metadata": {},
   "outputs": [
    {
     "data": {
      "image/png": "[encoded data removed]",
      "text/plain": [
       "<Figure size 720x432 with 1 Axes>"
      ]
     },
     "metadata": {},
     "output_type": "display_data"
    }
   ],
   "source": [
    "train = []\n",
    "test = []\n",
    "keys = []\n",
    "plt.figure(figsize=(10,6))\n",
    "plt.xlabel('Dropout')\n",
    "plt.ylabel('Training accuracy')\n",
    "plt.title(\"Dropout v Accuracy\")\n",
    "for key, value in plot_object.items():\n",
    "    keys.append(key)\n",
    "    train.append(plot_object[key]['train_accuracy'])\n",
    "    test.append(plot_object[key]['test_accuracy'])\n",
    "plt.scatter(keys,train)\n",
    "plt.scatter(keys,test)\n",
    "plt.plot(keys,train,label='Training accuracy')\n",
    "plt.plot(keys,test,label='Testing accuracy')\n",
    "plt.legend()\n",
    "plt.show()"
   ]
  },
  {
   "cell_type": "markdown",
   "metadata": {},
   "source": [
    "### Cost vs Iterations"
   ]
  },
  {
   "cell_type": "code",
   "execution_count": 22,
   "metadata": {},
   "outputs": [
    {
     "data": {
      "text/plain": [
       "<matplotlib.legend.Legend at 0x1222fc470>"
      ]
     },
     "execution_count": 22,
     "metadata": {},
     "output_type": "execute_result"
    },
    {
     "data": {
      "image/png": "[encoded data removed]",
      "text/plain": [
       "<Figure size 720x432 with 1 Axes>"
      ]
     },
     "metadata": {},
     "output_type": "display_data"
    }
   ],
   "source": [
    "plt.figure(figsize=(10,6))\n",
    "plt.xlabel('Iternations')\n",
    "plt.ylabel('Cost')\n",
    "plt.title(\"Cost v Iterations\")\n",
    "for key,value in plot_object.items():\n",
    "    plt.plot(range(0,len(plot_object[key]['costs'])),sorted(plot_object[key]['costs'],reverse=True),label='drop out' + str(key))\n",
    "plt.legend(dropout_probabilities,title=\"Drop out\")"
   ]
  }
 ],
 "metadata": {
  "kernelspec": {
   "display_name": "Python 3",
   "language": "python",
   "name": "python3"
  },
  "language_info": {
   "codemirror_mode": {
    "name": "ipython",
    "version": 3
   },
   "file_extension": ".py",
   "mimetype": "text/x-python",
   "name": "python",
   "nbconvert_exporter": "python",
   "pygments_lexer": "ipython3",
   "version": "3.6.5"
  }
 },
 "nbformat": 4,
 "nbformat_minor": 2
}
