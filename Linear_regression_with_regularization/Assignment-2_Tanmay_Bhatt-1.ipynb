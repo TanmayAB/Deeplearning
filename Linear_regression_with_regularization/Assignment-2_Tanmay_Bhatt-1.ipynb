{
 "cells": [
  {
   "cell_type": "markdown",
   "metadata": {},
   "source": [
    "#### Tanmay Bhatt\n",
    "011499072\n",
    "CMPE 258\n",
    "Assignment 2"
   ]
  },
  {
   "cell_type": "markdown",
   "metadata": {},
   "source": [
    "## Import statements"
   ]
  },
  {
   "cell_type": "code",
   "execution_count": 1,
   "metadata": {},
   "outputs": [],
   "source": [
    "import numpy as np\n",
    "import matplotlib.pyplot as plt\n",
    "import pandas as pd\n",
    "from math import sqrt\n",
    "from sklearn.linear_model import LinearRegression, Ridge, Lasso\n",
    "from sklearn.preprocessing import minmax_scale as scale\n",
    "from sklearn.model_selection import train_test_split\n",
    "from __future__ import division\n",
    "import tensorflow as tf\n",
    "from sklearn.metrics import mean_squared_error"
   ]
  },
  {
   "cell_type": "markdown",
   "metadata": {},
   "source": [
    "### Function for plotting data"
   ]
  },
  {
   "cell_type": "code",
   "execution_count": 2,
   "metadata": {},
   "outputs": [],
   "source": [
    "def plot_data(X_test,Y_test,Y_pred):\n",
    "    result = sorted(zip(X_test, Y_pred))\n",
    "    X_sorted = []\n",
    "    Y_pred_sorted = [] \n",
    "    for i in range(0,len(result)):\n",
    "        X_sorted.append(result[i][0])\n",
    "        Y_pred_sorted.append(result[i][1])\n",
    "    plt.scatter(X,Y)\n",
    "    plt.plot(X_sorted,Y_pred_sorted)"
   ]
  },
  {
   "cell_type": "markdown",
   "metadata": {},
   "source": [
    "### Function for Min-Max Normalization"
   ]
  },
  {
   "cell_type": "code",
   "execution_count": 3,
   "metadata": {},
   "outputs": [],
   "source": [
    "def minmax_normalize(X_new):\n",
    "    X_new_min = X_new.min()\n",
    "    X_new_max = X_new.max()\n",
    "    i = 0\n",
    "    for i in range(0,len(X_new)):\n",
    "        X_new[i] =(X_new[i] - X_new_min) /(X_new_max - X_new_min)\n",
    "    return X_new"
   ]
  },
  {
   "cell_type": "markdown",
   "metadata": {},
   "source": [
    "### Function definitions for n order regressions without penalty"
   ]
  },
  {
   "cell_type": "code",
   "execution_count": 4,
   "metadata": {},
   "outputs": [],
   "source": [
    "def calculate_cost():\n",
    "    result =  np.dot((np.matmul(X_mat,W_mat) - Y_mat).T,(np.matmul(X_mat,W_mat) - Y_mat))\n",
    "    result /=m\n",
    "    return float(result)\n",
    "\n",
    "def cost_derivative():\n",
    "    result = (np.matmul(np.matmul(X_mat.T,X_mat),W_mat)-(np.matmul(X_mat.T,Y_mat)))\n",
    "    result *= 2\n",
    "    result /=m\n",
    "    return result\n",
    "\n",
    "def calculate_weights(rate):\n",
    "    global W_mat\n",
    "    W_mat = W_mat - rate*cost_derivative()"
   ]
  },
  {
   "cell_type": "markdown",
   "metadata": {},
   "source": [
    "# 1 (30pts). Polynomial regression / overfitting / regularization Using Jupyter notebook, load the data (ex2data1.csv)."
   ]
  },
  {
   "cell_type": "code",
   "execution_count": 5,
   "metadata": {},
   "outputs": [
    {
     "data": {
      "text/plain": [
       "(31, 2)"
      ]
     },
     "execution_count": 5,
     "metadata": {},
     "output_type": "execute_result"
    }
   ],
   "source": [
    "data = pd.read_csv('./ex2data1.csv', header=None)\n",
    "data.shape"
   ]
  },
  {
   "cell_type": "code",
   "execution_count": 6,
   "metadata": {},
   "outputs": [],
   "source": [
    "data = data.drop(data.index[0]) # Removing 0th row of header x,y \n",
    "data = data.reset_index(drop=True)\n",
    "data = data.astype(float)"
   ]
  },
  {
   "cell_type": "code",
   "execution_count": 7,
   "metadata": {},
   "outputs": [
    {
     "name": "stdout",
     "output_type": "stream",
     "text": [
      "30\n"
     ]
    }
   ],
   "source": [
    "X = data[0]\n",
    "#X = minmax_normalize(np.power(X,2))\n",
    "Y = data[1]\n",
    "m = len(data)\n",
    "print m"
   ]
  },
  {
   "cell_type": "code",
   "execution_count": 8,
   "metadata": {},
   "outputs": [],
   "source": [
    "temp = pd.Series( (1 for i in range(0,m)) )"
   ]
  },
  {
   "cell_type": "markdown",
   "metadata": {},
   "source": [
    "## 1-1. Fit the data using linear (1st order) regression model (matrix form, gradient descent method).\n",
    "Plot the data with the fitted line. Print optimized weights. Print Root Mean Squared Error (RMSE)."
   ]
  },
  {
   "cell_type": "code",
   "execution_count": 9,
   "metadata": {},
   "outputs": [],
   "source": [
    "X_mat = np.asmatrix(np.column_stack((temp,X)))\n",
    "W_mat = np.asmatrix(np.array([0., 0.])).T\n",
    "Y_mat = np.asmatrix((np.row_stack((Y))))\n",
    "learning_rates = [0.01,0.1,0.5]#[0.1,0.01,0.001,0.0001,0.00001,0.000001,0.0000001,0.00000000001]"
   ]
  },
  {
   "cell_type": "code",
   "execution_count": 10,
   "metadata": {},
   "outputs": [
    {
     "name": "stdout",
     "output_type": "stream",
     "text": [
      "Iterations : 12551\n",
      "Last Cost : 0.226805\n",
      "Second Last Cost : 0.226805 \n",
      "Learning rate : 0.010000 \n",
      "w0 : 1.075811 \n",
      "w1 : -1.188720\n",
      "RMSE : 0.476240\n",
      "\n",
      "\n",
      "Iterations : 1345\n",
      "Last Cost : 0.226805\n",
      "Second Last Cost : 0.226805 \n",
      "Learning rate : 0.100000 \n",
      "w0 : 1.075811 \n",
      "w1 : -1.188720\n",
      "RMSE : 0.476240\n",
      "\n",
      "\n",
      "Iterations : 277\n",
      "Last Cost : 0.226805\n",
      "Second Last Cost : 0.226805 \n",
      "Learning rate : 0.500000 \n",
      "w0 : 1.075811 \n",
      "w1 : -1.188720\n",
      "RMSE : 0.476240\n",
      "\n",
      "\n"
     ]
    }
   ],
   "source": [
    "for rate  in learning_rates:\n",
    "    W_mat = np.asmatrix(np.array([0., 0.])).T\n",
    "    count = 0\n",
    "    max_count = 1000000\n",
    "    current_cost = calculate_cost()\n",
    "    new_cost = 0\n",
    "    while new_cost < current_cost and count < max_count:\n",
    "        current_cost = calculate_cost()\n",
    "        calculate_weights(rate)\n",
    "        new_cost = calculate_cost()\n",
    "        count += 1\n",
    "        if(count % 100000 == 0):\n",
    "            print \"Iterations : %d\" % count\n",
    "    print \"Iterations : %d\" % count\n",
    "    print \"Last Cost : %lf\" % new_cost\n",
    "    print \"Second Last Cost : %f \" % current_cost \n",
    "    print \"Learning rate : %f \" % rate\n",
    "    print \"w0 : %f \" % W_mat[0]\n",
    "    print \"w1 : %f\" % W_mat[1]\n",
    "    print \"RMSE : %f\" % sqrt(calculate_cost())\n",
    "    print \"\\n\""
   ]
  },
  {
   "cell_type": "code",
   "execution_count": 11,
   "metadata": {},
   "outputs": [],
   "source": [
    "def predict(x):\n",
    "    return float(W_mat[0]) + float(W_mat[1])*x"
   ]
  },
  {
   "cell_type": "code",
   "execution_count": 12,
   "metadata": {},
   "outputs": [],
   "source": [
    "Y_pred = []\n",
    "for x in X:\n",
    "    Y_pred.append(predict(x))"
   ]
  },
  {
   "cell_type": "code",
   "execution_count": 13,
   "metadata": {},
   "outputs": [
    {
     "data": {
      "image/png": "[encoded data removed]",
      "text/plain": [
       "<matplotlib.figure.Figure at 0x1123ec050>"
      ]
     },
     "metadata": {},
     "output_type": "display_data"
    }
   ],
   "source": [
    "plot_data(X,Y,Y_pred)"
   ]
  },
  {
   "cell_type": "markdown",
   "metadata": {},
   "source": [
    "## Best Result with Learning rate : 0.5\n",
    "\n",
    "Iterations : 277 <br />\n",
    "Last Cost : 0.226805<br />\n",
    "Second Last Cost : 0.226805<br /> \n",
    "Learning rate : 0.500000 <br />\n",
    "w0 : 1.075811 <br />\n",
    "w1 : -1.188720<br />\n",
    "RMSE : 0.476240<br />"
   ]
  },
  {
   "cell_type": "markdown",
   "metadata": {},
   "source": [
    "\n",
    "## 1-2. Fit the data using 2nd order polynomial regression model (matrix form, gradient descent method).\n",
    "Plot the data with the fitted line. Print optimized weights. Print Root Mean Squared Error (RMSE).\n",
    "Note: Do not forget feature normalization.\n"
   ]
  },
  {
   "cell_type": "code",
   "execution_count": 14,
   "metadata": {},
   "outputs": [],
   "source": [
    "X_new = minmax_normalize(np.power(X,2))"
   ]
  },
  {
   "cell_type": "code",
   "execution_count": 15,
   "metadata": {},
   "outputs": [],
   "source": [
    "X_mat = np.asmatrix(np.column_stack((temp,X,X_new)))\n",
    "W_mat = np.asmatrix(np.array([0., 0., 0.])).T\n",
    "Y_mat = np.asmatrix((np.row_stack((Y))))\n",
    "learning_rates = [0.1,0.5,0.6]#[0.1,0.01,0.001,0.0001,0.00001,0.000001,0.0000001,0.00000000001]"
   ]
  },
  {
   "cell_type": "code",
   "execution_count": 16,
   "metadata": {},
   "outputs": [
    {
     "name": "stdout",
     "output_type": "stream",
     "text": [
      "Iterations : 25214\n",
      "Last Cost : 0.081624\n",
      "Second Last Cost : 0.081624 \n",
      "Learning rate : 0.100000 \n",
      "w0 : 0.189802 \n",
      "w1 : 4.144446\n",
      "w2 : -4.674276\n",
      "RMSE : 0.285699\n",
      "\n",
      "\n",
      "Iterations : 5381\n",
      "Last Cost : 0.081624\n",
      "Second Last Cost : 0.081624 \n",
      "Learning rate : 0.500000 \n",
      "w0 : 0.189801 \n",
      "w1 : 4.144448\n",
      "w2 : -4.674278\n",
      "RMSE : 0.285699\n",
      "\n",
      "\n",
      "Iterations : 4556\n",
      "Last Cost : 0.081624\n",
      "Second Last Cost : 0.081624 \n",
      "Learning rate : 0.600000 \n",
      "w0 : 0.189801 \n",
      "w1 : 4.144449\n",
      "w2 : -4.674278\n",
      "RMSE : 0.285699\n",
      "\n",
      "\n"
     ]
    }
   ],
   "source": [
    "for rate  in learning_rates:\n",
    "    W_mat = np.asmatrix(np.array([0., 0., 0.])).T\n",
    "    count = 0\n",
    "    max_count = 1000000\n",
    "    current_cost = calculate_cost()\n",
    "    new_cost = 0\n",
    "    while new_cost < current_cost and count < max_count:\n",
    "        current_cost = calculate_cost()\n",
    "        calculate_weights(rate)\n",
    "        new_cost = calculate_cost()\n",
    "        count += 1\n",
    "        if(count % 100000 == 0):\n",
    "            print \"Iterations : %d\" % count\n",
    "    print \"Iterations : %d\" % count\n",
    "    print \"Last Cost : %lf\" % new_cost\n",
    "    print \"Second Last Cost : %f \" % current_cost \n",
    "    print \"Learning rate : %f \" % rate\n",
    "    print \"w0 : %f \" % W_mat[0]\n",
    "    print \"w1 : %f\" % W_mat[1]\n",
    "    print \"w2 : %f\" % W_mat[2]\n",
    "    print \"RMSE : %f\" % sqrt(calculate_cost())\n",
    "    print \"\\n\""
   ]
  },
  {
   "cell_type": "markdown",
   "metadata": {},
   "source": [
    "## Best Result with Learning rate : 0.6 \n",
    "\n",
    "Iterations : 4556 <br />\n",
    "Last Cost : 0.081624<br />\n",
    "Second Last Cost : 0.081624 <br />\n",
    "Learning rate : 0.600000 <br />\n",
    "w0 : 0.189801 <br />\n",
    "w1 : 4.144449<br />\n",
    "w2 : -4.674278<br />\n",
    "RMSE : 0.285699<br />"
   ]
  },
  {
   "cell_type": "code",
   "execution_count": 17,
   "metadata": {},
   "outputs": [],
   "source": [
    "def predict(x,x_new):\n",
    "    return float(W_mat[0]) + float(W_mat[1])*x + float(W_mat[2])*x_new"
   ]
  },
  {
   "cell_type": "code",
   "execution_count": 18,
   "metadata": {},
   "outputs": [],
   "source": [
    "Y_pred = []\n",
    "for x,x_new in zip(X,X_new):\n",
    "    Y_pred.append(predict(x,x_new))"
   ]
  },
  {
   "cell_type": "code",
   "execution_count": 19,
   "metadata": {},
   "outputs": [
    {
     "data": {
      "image/png": "[encoded data removed]",
      "text/plain": [
       "<matplotlib.figure.Figure at 0x10b696490>"
      ]
     },
     "metadata": {},
     "output_type": "display_data"
    }
   ],
   "source": [
    "plot_data(X,Y,Y_pred)"
   ]
  },
  {
   "cell_type": "markdown",
   "metadata": {},
   "source": [
    "## 1-3. Fit the data using 4th order polynomial regression model (matrix form, gradient descent method).\n",
    "Plot the data with the fitted line. Print optimized weights. Print Root Mean Squared Error (RMSE).\n",
    "Note: Do not forget feature normalization.\n"
   ]
  },
  {
   "cell_type": "code",
   "execution_count": 20,
   "metadata": {},
   "outputs": [],
   "source": [
    "X2_new = minmax_normalize(np.power(X,2))\n",
    "X3_new = minmax_normalize(np.power(X,3))\n",
    "X4_new = minmax_normalize(np.power(X,4))"
   ]
  },
  {
   "cell_type": "code",
   "execution_count": 21,
   "metadata": {},
   "outputs": [],
   "source": [
    "X_mat = np.asmatrix(np.column_stack((temp,X,X2_new,X3_new,X4_new)))\n",
    "W_mat = np.asmatrix(np.array([0., 0., 0., 0., 0.])).T\n",
    "Y_mat = np.asmatrix((np.row_stack((Y))))\n",
    "learning_rates = [0.5]#[0.1,0.01,0.001,0.0001,0.00001,0.000001,0.0000001,0.00000000001]"
   ]
  },
  {
   "cell_type": "code",
   "execution_count": 22,
   "metadata": {},
   "outputs": [
    {
     "name": "stdout",
     "output_type": "stream",
     "text": [
      "Iterations : 100000\n",
      "Iterations : 200000\n",
      "Iterations : 300000\n",
      "Iterations : 400000\n",
      "Iterations : 500000\n",
      "Iterations : 600000\n",
      "Iterations : 700000\n",
      "Iterations : 800000\n",
      "Iterations : 900000\n",
      "Iterations : 1000000\n",
      "Iterations : 1000000\n",
      "Last Cost : 0.081329\n",
      "Second Last Cost : 0.081329 \n",
      "Learning rate : 0.500000 \n",
      "w0 : 0.102319 \n",
      "w1 : 5.427704\n",
      "w2 : -8.801475 \n",
      "w3 : 5.232154 \n",
      "w4 : -2.203128 \n",
      "RMSE : 0.285183\n",
      "\n",
      "\n"
     ]
    }
   ],
   "source": [
    "for rate  in learning_rates:\n",
    "    W_mat = np.asmatrix(np.array([0., 0., 0., 0., 0.])).T\n",
    "    count = 0\n",
    "    max_count = 100000\n",
    "    current_cost = calculate_cost()\n",
    "    new_cost = -878987788\n",
    "    while new_cost < current_cost and count < max_count:\n",
    "        current_cost = calculate_cost()\n",
    "        calculate_weights(rate)\n",
    "        new_cost = calculate_cost()\n",
    "        count += 1\n",
    "        if(count % 100000 == 0):\n",
    "            print \"Iterations : %d\" % count\n",
    "    print \"Iterations : %d\" % count\n",
    "    print \"Last Cost : %lf\" % new_cost\n",
    "    print \"Second Last Cost : %f \" % current_cost \n",
    "    print \"Learning rate : %f \" % rate\n",
    "    print \"w0 : %f \" % W_mat[0]\n",
    "    print \"w1 : %f\" % W_mat[1]\n",
    "    print \"w2 : %f \" % W_mat[2]\n",
    "    print \"w3 : %f \" % W_mat[3]\n",
    "    print \"w4 : %f \" % W_mat[4]\n",
    "    print \"RMSE : %f\" % sqrt(calculate_cost())\n",
    "    print \"\\n\""
   ]
  },
  {
   "cell_type": "code",
   "execution_count": 23,
   "metadata": {},
   "outputs": [],
   "source": [
    "def predict(x,x2_new,x3_new,x4_new):\n",
    "    return float(W_mat[0]) + float(W_mat[1])*x + float(W_mat[2])*x2_new + float(W_mat[3])*x3_new + float(W_mat[4])*x4_new"
   ]
  },
  {
   "cell_type": "code",
   "execution_count": 24,
   "metadata": {},
   "outputs": [],
   "source": [
    "Y_pred = []\n",
    "for x,x2_new,x3_new,x4_new in zip(X,X2_new,X3_new,X4_new):\n",
    "    Y_pred.append(predict(x,x2_new,x3_new,x4_new))"
   ]
  },
  {
   "cell_type": "code",
   "execution_count": 25,
   "metadata": {},
   "outputs": [
    {
     "data": {
      "image/png": "[encoded data removed]",
      "text/plain": [
       "<matplotlib.figure.Figure at 0x1123ec150>"
      ]
     },
     "metadata": {},
     "output_type": "display_data"
    }
   ],
   "source": [
    "plot_data(X,Y,Y_pred)"
   ]
  },
  {
   "cell_type": "markdown",
   "metadata": {},
   "source": [
    "## Best Result with Learning rate : 0.5 \n",
    "\n",
    "Iterations : 1000000 <br/>\n",
    "Last Cost : 0.081329<br/>\n",
    "Second Last Cost : 0.081329<br/> \n",
    "Learning rate : 0.500000 <br/>\n",
    "w0 : 0.102319 <br/>\n",
    "w1 : 5.427704<br/>\n",
    "w2 : -8.801475 <br/>\n",
    "w3 : 5.232154 <br/>\n",
    "w4 : -2.203128 <br/>\n",
    "RMSE : 0.285183<br/>"
   ]
  },
  {
   "cell_type": "markdown",
   "metadata": {},
   "source": [
    "## 1-4. Fit the data using 16th order polynomial regression model (matrix form, gradient descent method).\n",
    "Plot the data with the fitted line. Print optimized weights. Print Root Mean Squared Error (RMSE).\n",
    "Note: Do not forget feature normalization.\n"
   ]
  },
  {
   "cell_type": "code",
   "execution_count": 26,
   "metadata": {},
   "outputs": [],
   "source": [
    "X2_new = minmax_normalize(np.power(X,2))\n",
    "X3_new = minmax_normalize(np.power(X,3))\n",
    "X4_new = minmax_normalize(np.power(X,4))\n",
    "X5_new = minmax_normalize(np.power(X,5))\n",
    "X6_new = minmax_normalize(np.power(X,6))\n",
    "X7_new = minmax_normalize(np.power(X,7))\n",
    "X8_new = minmax_normalize(np.power(X,8))\n",
    "X9_new = minmax_normalize(np.power(X,9))\n",
    "X10_new = minmax_normalize(np.power(X,10))\n",
    "X11_new = minmax_normalize(np.power(X,11))\n",
    "X12_new = minmax_normalize(np.power(X,12))\n",
    "X13_new = minmax_normalize(np.power(X,13))\n",
    "X14_new = minmax_normalize(np.power(X,14))\n",
    "X15_new = minmax_normalize(np.power(X,15))\n",
    "X16_new = minmax_normalize(np.power(X,16))"
   ]
  },
  {
   "cell_type": "code",
   "execution_count": 27,
   "metadata": {},
   "outputs": [],
   "source": [
    "X_mat = np.asmatrix(np.column_stack((temp,X,X2_new,X3_new,X4_new,X5_new,X6_new,X7_new,X8_new,X9_new,X10_new,X11_new,X12_new,X13_new,X14_new,X15_new,X16_new)))\n",
    "W_mat = np.asmatrix(np.array([0., 0., 0., 0., 0., 0., 0., 0., 0., 0., 0., 0., 0., 0., 0., 0., 0.])).T\n",
    "Y_mat = np.asmatrix((np.row_stack((Y))))\n",
    "learning_rates =[0.33]#[0.1,0.01,0.001,0.0001,0.00001,0.000001,0.0000001,0.00000000001]"
   ]
  },
  {
   "cell_type": "code",
   "execution_count": 28,
   "metadata": {},
   "outputs": [
    {
     "name": "stdout",
     "output_type": "stream",
     "text": [
      "Iterations : 100000\n",
      "Iterations : 200000\n",
      "Iterations : 300000\n",
      "Iterations : 400000\n",
      "Iterations : 500000\n",
      "Iterations : 600000\n",
      "Iterations : 700000\n",
      "Iterations : 800000\n",
      "Iterations : 900000\n",
      "Iterations : 1000000\n",
      "Iterations : 1000000\n",
      "Last Cost : 0.068844\n",
      "Second Last Cost : 0.068844 \n",
      "Learning rate : 0.330000 \n",
      "RMSE : 0.262381\n",
      "w0 : 0.255503 \n",
      "w1 : 2.653551\n",
      "w2 : 1.030015\n",
      "w3 : -3.394612\n",
      "w4 : -3.963081\n",
      "w5 : -2.337852\n",
      "w6 : -0.177298\n",
      "w7 : 1.695582\n",
      "w8 : 2.883656\n",
      "w9 : 3.229226\n",
      "w10 : 2.762056\n",
      "w11 : 1.664585\n",
      "w12 : 0.229127\n",
      "w13 : -1.186982\n",
      "w14 : -2.200812\n",
      "w15 : -2.434498\n",
      "w16 : -1.536927\n",
      "\n",
      "\n"
     ]
    }
   ],
   "source": [
    "for rate  in learning_rates:\n",
    "    W_mat = np.asmatrix(np.array([0., 0., 0., 0., 0., 0., 0., 0., 0., 0., 0., 0., 0., 0., 0., 0., 0.])).T\n",
    "    count = 0\n",
    "    max_count = 100000\n",
    "    current_cost = calculate_cost()\n",
    "    new_cost = 0\n",
    "    while new_cost < current_cost and count < max_count:\n",
    "        current_cost = calculate_cost()\n",
    "        calculate_weights(rate)\n",
    "        new_cost = calculate_cost()\n",
    "        count += 1\n",
    "        if(count % 100000 == 0):\n",
    "            print \"Iterations : %d\" % count\n",
    "    print \"Iterations : %d\" % count\n",
    "    print \"Last Cost : %lf\" % new_cost\n",
    "    print \"Second Last Cost : %f \" % current_cost \n",
    "    print \"Learning rate : %f \" % rate\n",
    "    print \"RMSE : %f\" % sqrt(calculate_cost())\n",
    "    print \"w0 : %f \" % W_mat[0]\n",
    "    print \"w1 : %f\" % W_mat[1]\n",
    "    print \"w2 : %f\" % W_mat[2]\n",
    "    print \"w3 : %f\" % W_mat[3]\n",
    "    print \"w4 : %f\" % W_mat[4]\n",
    "    print \"w5 : %f\" % W_mat[5]\n",
    "    print \"w6 : %f\" % W_mat[6]\n",
    "    print \"w7 : %f\" % W_mat[7]\n",
    "    print \"w8 : %f\" % W_mat[8]\n",
    "    print \"w9 : %f\" % W_mat[9]\n",
    "    print \"w10 : %f\" % W_mat[10]\n",
    "    print \"w11 : %f\" % W_mat[11]\n",
    "    print \"w12 : %f\" % W_mat[12]\n",
    "    print \"w13 : %f\" % W_mat[13]\n",
    "    print \"w14 : %f\" % W_mat[14]\n",
    "    print \"w15 : %f\" % W_mat[15]\n",
    "    print \"w16 : %f\" % W_mat[16]\n",
    "    print \"\\n\""
   ]
  },
  {
   "cell_type": "code",
   "execution_count": 29,
   "metadata": {},
   "outputs": [],
   "source": [
    "def predict(x,x2_new,x3_new,x4_new,x5_new,x6_new,x7_new,x8_new,x9_new,x10_new,x11_new,x12_new,x13_new,x14_new,x15_new,x16_new): \n",
    "    return float(W_mat[0]) + float(W_mat[1])*x + float(W_mat[2])*x2_new + float(W_mat[3])*x3_new + float(W_mat[4])*x4_new + float(W_mat[5])*x5_new + float(W_mat[6])*x6_new + float(W_mat[7])*x7_new + float(W_mat[8])*x8_new + float(W_mat[9])*x8_new + float(W_mat[10])*x10_new + float(W_mat[11])*x11_new + float(W_mat[12])*x12_new + float(W_mat[13])*x13_new + float(W_mat[14])*x14_new + float(W_mat[15])*x15_new + float(W_mat[16])*x16_new"
   ]
  },
  {
   "cell_type": "code",
   "execution_count": 30,
   "metadata": {},
   "outputs": [],
   "source": [
    "Y_pred = []\n",
    "for x,x2,x3,x4,x5,x6,x7,x8,x9,x10,x11,x12,x13,x14,x15,x16 in zip(X,X2_new,X3_new,X4_new,X5_new,X6_new,X7_new,X8_new,X9_new,X10_new,X11_new,X12_new,X13_new,X14_new,X15_new,X16_new):\n",
    "    Y_pred.append(predict(x,x2,x3,x4,x5,x6,x7,x8,x9,x10,x11,x12,x13,x14,x15,x16))"
   ]
  },
  {
   "cell_type": "code",
   "execution_count": 31,
   "metadata": {},
   "outputs": [
    {
     "data": {
      "image/png": "[encoded data removed]",
      "text/plain": [
       "<matplotlib.figure.Figure at 0x11241edd0>"
      ]
     },
     "metadata": {},
     "output_type": "display_data"
    }
   ],
   "source": [
    "plot_data(X,Y,Y_pred)"
   ]
  },
  {
   "cell_type": "markdown",
   "metadata": {},
   "source": [
    "## Best Result with Learning rate : 0.6 \n",
    "\n",
    "Iterations : 1000000 <br />\n",
    "Last Cost : 0.068844<br />\n",
    "Second Last Cost : 0.068844<br /> \n",
    "Learning rate : 0.330000 <br />\n",
    "RMSE : 0.262381<br />"
   ]
  },
  {
   "cell_type": "markdown",
   "metadata": {},
   "source": [
    "## 1-5. Fit the data using 16th order polynomial regression model with ridge (L2 penalty) regularization (matrix form, gradient descent method).\n",
    "You need to try at least 3 different L2 penalty (for example, λ = 0.1, 1, 10). Plot the data with the fitted line. Print optimized weights. Print Root Mean Squared Error (RMSE)\n",
    "Note: Do not forget feature normalization.\n"
   ]
  },
  {
   "cell_type": "code",
   "execution_count": 32,
   "metadata": {},
   "outputs": [],
   "source": [
    "def calculate_cost(y):\n",
    "    result =  np.dot((np.matmul(X_mat,W_mat) - Y_mat).T,(np.matmul(X_mat,W_mat) - Y_mat))\n",
    "    result /=m\n",
    "    result += (y/m*np.sum(np.power(W_mat,2)))\n",
    "    return float(result)\n",
    "\n",
    "def cost_derivative(y):\n",
    "    result = (np.matmul(np.matmul(X_mat.T,X_mat),W_mat)-(np.matmul(X_mat.T,Y_mat)))\n",
    "    result *= 2\n",
    "    result /=m\n",
    "    result += 2 * (y/m*np.sum(W_mat))\n",
    "    return result\n",
    "\n",
    "def calculate_weights(rate,y):\n",
    "    global W_mat\n",
    "    W_mat = W_mat - rate*cost_derivative(y)"
   ]
  },
  {
   "cell_type": "code",
   "execution_count": 33,
   "metadata": {},
   "outputs": [],
   "source": [
    "X_mat = np.asmatrix(np.column_stack((temp,X,X2_new,X3_new,X4_new,X5_new,X6_new,X7_new,X8_new,X9_new,X10_new,X11_new,X12_new,X13_new,X14_new,X15_new,X16_new)))\n",
    "W_mat = np.asmatrix(np.array([0., 0., 0., 0., 0., 0., 0., 0., 0., 0., 0., 0., 0., 0., 0., 0., 0.])).T\n",
    "Y_mat = np.asmatrix((np.row_stack((Y))))\n",
    "learning_rates = [0.38]#[0.1,0.01,0.001,0.0001,0.00001,0.000001,0.0000001,0.00000000001]\n",
    "lambdas = [0.00001]#1,10]"
   ]
  },
  {
   "cell_type": "code",
   "execution_count": 34,
   "metadata": {},
   "outputs": [
    {
     "name": "stdout",
     "output_type": "stream",
     "text": [
      "counter : 1000\n",
      "counter : 2000\n",
      "counter : 3000\n",
      "counter : 4000\n",
      "counter : 5000\n",
      "counter : 6000\n",
      "counter : 7000\n",
      "counter : 8000\n",
      "counter : 9000\n",
      "counter : 10000\n",
      "Penalty : 0.000010\n",
      "Iterations : 10000\n",
      "Last Cost : 0.069395\n",
      "Second Last Cost : 0.069395 \n",
      "Learning rate : 0.380000 \n",
      "RMSE : 0.263429\n",
      "w0 : 0.173201 \n",
      "w1 : 3.806504\n",
      "w2 : -1.653442\n",
      "w3 : -3.045987\n",
      "w4 : -2.229038\n",
      "w5 : -0.844356\n",
      "w6 : 0.388338\n",
      "w7 : 1.233586\n",
      "w8 : 1.666024\n",
      "w9 : 1.738947\n",
      "w10 : 1.526791\n",
      "w11 : 1.101924\n",
      "w12 : 0.526626\n",
      "w13 : -0.148495\n",
      "w14 : -0.883588\n",
      "w15 : -1.647884\n",
      "w16 : -2.417959\n",
      "\n",
      "\n",
      "\n",
      "********************\n",
      "\n"
     ]
    }
   ],
   "source": [
    "for rate  in learning_rates:\n",
    "    for y in lambdas:\n",
    "        W_mat = np.asmatrix(np.array([0., 0., 0., 0., 0., 0., 0., 0., 0., 0., 0., 0., 0., 0., 0., 0., 0.])).T\n",
    "        count = 0\n",
    "        max_count = 10000\n",
    "        current_cost = calculate_cost(y)\n",
    "        new_cost = 0\n",
    "        while new_cost < current_cost and count < max_count:\n",
    "            current_cost = calculate_cost(y)\n",
    "            calculate_weights(rate,y)\n",
    "            new_cost = calculate_cost(y)\n",
    "            count += 1\n",
    "            if(count % 1000 == 0):\n",
    "                print \"counter : %d\" % count\n",
    "        print \"Penalty : %f\" % y\n",
    "        print \"Iterations : %d\" % count\n",
    "        print \"Last Cost : %lf\" % new_cost\n",
    "        print \"Second Last Cost : %f \" % current_cost \n",
    "        print \"Learning rate : %f \" % rate\n",
    "        print \"RMSE : %f\" % sqrt(calculate_cost(y))\n",
    "        print \"w0 : %f \" % W_mat[0]\n",
    "        print \"w1 : %f\" % W_mat[1]\n",
    "        print \"w2 : %f\" % W_mat[2]\n",
    "        print \"w3 : %f\" % W_mat[3]\n",
    "        print \"w4 : %f\" % W_mat[4]\n",
    "        print \"w5 : %f\" % W_mat[5]\n",
    "        print \"w6 : %f\" % W_mat[6]\n",
    "        print \"w7 : %f\" % W_mat[7]\n",
    "        print \"w8 : %f\" % W_mat[8]\n",
    "        print \"w9 : %f\" % W_mat[9]\n",
    "        print \"w10 : %f\" % W_mat[10]\n",
    "        print \"w11 : %f\" % W_mat[11]\n",
    "        print \"w12 : %f\" % W_mat[12]\n",
    "        print \"w13 : %f\" % W_mat[13]\n",
    "        print \"w14 : %f\" % W_mat[14]\n",
    "        print \"w15 : %f\" % W_mat[15]\n",
    "        print \"w16 : %f\" % W_mat[16]\n",
    "        print \"\\n\"\n",
    "    print \"\\n********************\\n\""
   ]
  },
  {
   "cell_type": "code",
   "execution_count": 35,
   "metadata": {},
   "outputs": [],
   "source": [
    "def predict(x,x2_new,x3_new,x4_new,x5_new,x6_new,x7_new,x8_new,x9_new,x10_new,x11_new,x12_new,x13_new,x14_new,x15_new,x16_new): \n",
    "    return float(W_mat[0]) + float(W_mat[1])*x + float(W_mat[2])*x2_new + float(W_mat[3])*x3_new + float(W_mat[4])*x4_new + float(W_mat[5])*x5_new + float(W_mat[6])*x6_new + float(W_mat[7])*x7_new + float(W_mat[8])*x8_new + float(W_mat[9])*x8_new + float(W_mat[10])*x10_new + float(W_mat[11])*x11_new + float(W_mat[12])*x12_new + float(W_mat[13])*x13_new + float(W_mat[14])*x14_new + float(W_mat[15])*x15_new + float(W_mat[16])*x16_new"
   ]
  },
  {
   "cell_type": "code",
   "execution_count": 36,
   "metadata": {},
   "outputs": [],
   "source": [
    "Y_pred = []\n",
    "for x,x2,x3,x4,x5,x6,x7,x8,x9,x10,x11,x12,x13,x14,x15,x16 in zip(X,X2_new,X3_new,X4_new,X5_new,X6_new,X7_new,X8_new,X9_new,X10_new,X11_new,X12_new,X13_new,X14_new,X15_new,X16_new):\n",
    "    Y_pred.append(predict(x,x2,x3,x4,x5,x6,x7,x8,x9,x10,x11,x12,x13,x14,x15,x16))"
   ]
  },
  {
   "cell_type": "code",
   "execution_count": 37,
   "metadata": {},
   "outputs": [
    {
     "data": {
      "image/png": "[encoded data removed]",
      "text/plain": [
       "<matplotlib.figure.Figure at 0x1170600d0>"
      ]
     },
     "metadata": {},
     "output_type": "display_data"
    }
   ],
   "source": [
    "plot_data(X,Y,Y_pred)"
   ]
  },
  {
   "cell_type": "markdown",
   "metadata": {},
   "source": [
    "## Best Result with Learning rate : 0.6 \n",
    "\n",
    "Iterations : 10000 <br />\n",
    "Last Cost : 0.069395<br />\n",
    "Second Last Cost : 0.069395<br /> \n",
    "Learning rate : 0.380000 <br />\n",
    "RMSE : 0.263429<br />"
   ]
  },
  {
   "cell_type": "markdown",
   "metadata": {},
   "source": [
    "## 1-6. Fit the data using 16th order polynomial regression model with scikit-learn Ridge model.\n",
    "You need to try at least 3 different L2 penalty (for example, λ = 0.1, 1, 10). Plot the data with the fitted line. Print optimized weights. Print Root Mean Squared Error (RMSE)\n"
   ]
  },
  {
   "cell_type": "code",
   "execution_count": 60,
   "metadata": {},
   "outputs": [],
   "source": [
    "X_mat = np.asmatrix(np.column_stack((X,X2_new,X3_new,X4_new,X5_new,X6_new,X7_new,X8_new,X9_new,X10_new,X11_new,X12_new,X13_new,X14_new,X15_new,X16_new)))\n",
    "Y_mat = np.asmatrix((np.row_stack((Y))))\n",
    "lambdas = [0.000010,0.0001,0.1,1,10]"
   ]
  },
  {
   "cell_type": "code",
   "execution_count": 61,
   "metadata": {},
   "outputs": [
    {
     "name": "stdout",
     "output_type": "stream",
     "text": [
      "For Penalty : 0.000010\n",
      "RMSE is 0.262312 \n",
      "\n",
      "For Penalty : 0.000100\n",
      "RMSE is 0.262423 \n",
      "\n",
      "For Penalty : 0.100000\n",
      "RMSE is 0.303637 \n",
      "\n",
      "For Penalty : 1.000000\n",
      "RMSE is 0.327256 \n",
      "\n",
      "For Penalty : 10.000000\n",
      "RMSE is 0.350926 \n",
      "\n"
     ]
    },
    {
     "data": {
      "text/plain": [
       "Text(0.5,1,u'Weight Coefficients')"
      ]
     },
     "execution_count": 61,
     "metadata": {},
     "output_type": "execute_result"
    },
    {
     "data": {
      "image/png": "[encoded data removed]",
      "text/plain": [
       "<matplotlib.figure.Figure at 0x116e9f290>"
      ]
     },
     "metadata": {},
     "output_type": "display_data"
    }
   ],
   "source": [
    "Weights = []\n",
    "for y in lambdas:\n",
    "    ridge_model = Ridge(alpha=y)\n",
    "    ridge_model.fit(X_mat,Y)\n",
    "    Y_pred = ridge_model.predict(X_mat)\n",
    "    print \"For Penalty : %f\" % y\n",
    "    print \"RMSE is %f \" % sqrt(mean_squared_error(Y_mat,Y_pred))\n",
    "    Weights.append(ridge_model.coef_)\n",
    "    print \"\"\n",
    "\n",
    "plt.plot(lambdas,Weights)\n",
    "plt.title(\"Weight Coefficients\")"
   ]
  },
  {
   "cell_type": "code",
   "execution_count": 58,
   "metadata": {},
   "outputs": [
    {
     "name": "stdout",
     "output_type": "stream",
     "text": [
      "Optimized weights\n",
      "w0 : 0.247933\n",
      "w1 : 2.817425\n",
      "w2 : 0.210606\n",
      "w3 : -2.333924\n",
      "w4 : -3.149074\n",
      "w5 : -3.031167\n",
      "w6 : -1.741198\n",
      "w7 : 0.662601\n",
      "w8 : 3.242688\n",
      "w9 : 4.841123\n",
      "w10 : 4.729656\n",
      "w11 : 2.868442\n",
      "w12 : -0.130163\n",
      "w13 : -3.170700\n",
      "w14 : -4.870423\n",
      "w15 : -3.731855\n",
      "w16 : 1.724302\n"
     ]
    }
   ],
   "source": [
    "print \"Optimized weights\"\n",
    "print \"w0 : %f\" % ridge_model.intercept_\n",
    "print \"w1 : %f\" % ridge_model.coef_[0]\n",
    "print \"w2 : %f\" % ridge_model.coef_[1]\n",
    "print \"w3 : %f\" % ridge_model.coef_[2]\n",
    "print \"w4 : %f\" % ridge_model.coef_[3]\n",
    "print \"w5 : %f\" % ridge_model.coef_[4]\n",
    "print \"w6 : %f\" % ridge_model.coef_[5]\n",
    "print \"w7 : %f\" % ridge_model.coef_[6]\n",
    "print \"w8 : %f\" % ridge_model.coef_[7]\n",
    "print \"w9 : %f\" % ridge_model.coef_[8]\n",
    "print \"w10 : %f\" % ridge_model.coef_[9]\n",
    "print \"w11 : %f\" % ridge_model.coef_[10]\n",
    "print \"w12 : %f\" % ridge_model.coef_[11]\n",
    "print \"w13 : %f\" % ridge_model.coef_[12]\n",
    "print \"w14 : %f\" % ridge_model.coef_[13]\n",
    "print \"w15 : %f\" % ridge_model.coef_[14]\n",
    "print \"w16 : %f\" % ridge_model.coef_[15]"
   ]
  },
  {
   "cell_type": "code",
   "execution_count": 59,
   "metadata": {},
   "outputs": [
    {
     "data": {
      "image/png": "[encoded data removed]",
      "text/plain": [
       "<matplotlib.figure.Figure at 0x116fc6fd0>"
      ]
     },
     "metadata": {},
     "output_type": "display_data"
    }
   ],
   "source": [
    "plot_data(X,Y,Y_pred.T)"
   ]
  },
  {
   "cell_type": "markdown",
   "metadata": {},
   "source": [
    "## Best result achieved with Penalty: 0.00001\n",
    "\n",
    "For Penalty : 0.000010 <br />\n",
    "RMSE is 0.262312 <br />"
   ]
  },
  {
   "cell_type": "markdown",
   "metadata": {},
   "source": [
    "## 1-7. Fit the data using 16th order polynomial regression model with scikit-learn Lasso model.\n",
    "You need to try at least 3 different L1 penalty (for example, λ = 0.1, 1, 10). Plot the data with the fitted line. Print optimized weights. Print Root Mean Squared Error (RMSE)\n"
   ]
  },
  {
   "cell_type": "code",
   "execution_count": 78,
   "metadata": {},
   "outputs": [],
   "source": [
    "X_mat = np.asmatrix(np.column_stack((X,X2_new,X3_new,X4_new,X5_new,X6_new,X7_new,X8_new,X9_new,X10_new,X11_new,X12_new,X13_new,X14_new,X15_new,X16_new)))\n",
    "Y_mat = np.asmatrix((np.row_stack((Y))))\n",
    "lambdas = [0.00001,0.001,0.01,0.1,0.5,1]"
   ]
  },
  {
   "cell_type": "code",
   "execution_count": 79,
   "metadata": {},
   "outputs": [
    {
     "name": "stdout",
     "output_type": "stream",
     "text": [
      "For Penalty : 0.000010\n",
      "RMSE is 0.267002 \n",
      "\n",
      "For Penalty : 0.001000\n",
      "RMSE is 0.290611 \n",
      "\n",
      "For Penalty : 0.010000\n",
      "RMSE is 0.331643 \n",
      "\n",
      "For Penalty : 0.100000\n",
      "RMSE is 0.462805 \n",
      "\n",
      "For Penalty : 0.500000\n",
      "RMSE is 0.577255 \n",
      "\n",
      "For Penalty : 1.000000\n",
      "RMSE is 0.577255 \n",
      "\n"
     ]
    },
    {
     "data": {
      "text/plain": [
       "Text(0.5,1,u'Weight Coefficients')"
      ]
     },
     "execution_count": 79,
     "metadata": {},
     "output_type": "execute_result"
    },
    {
     "data": {
      "image/png": "[encoded data removed]",
      "text/plain": [
       "<matplotlib.figure.Figure at 0x116f684d0>"
      ]
     },
     "metadata": {},
     "output_type": "display_data"
    }
   ],
   "source": [
    "Weights = []\n",
    "for y in lambdas:\n",
    "    lasso_model = Lasso(alpha=y)\n",
    "    lasso_model.fit(X_mat,Y)\n",
    "    Y_pred = lasso_model.predict(X_mat)\n",
    "    Weights.append(lasso_model.coef_)\n",
    "    print \"For Penalty : %f\" % y\n",
    "    print \"RMSE is %f \" % sqrt(mean_squared_error(Y_mat,Y_pred))\n",
    "    print \"\"\n",
    "plt.plot(lambdas,Weights)\n",
    "plt.title(\"Weight Coefficients\")"
   ]
  },
  {
   "cell_type": "code",
   "execution_count": 75,
   "metadata": {},
   "outputs": [
    {
     "name": "stdout",
     "output_type": "stream",
     "text": [
      "Optimized weights\n",
      "w0 : 0.066560\n",
      "w1 : 5.111229\n",
      "w2 : -4.046053\n",
      "w3 : -3.454817\n",
      "w4 : -0.913061\n",
      "w5 : 0.577025\n",
      "w6 : 1.353447\n",
      "w7 : 1.424065\n",
      "w8 : 1.206896\n",
      "w9 : 0.864756\n",
      "w10 : 0.488026\n",
      "w11 : 0.164971\n",
      "w12 : -0.013095\n",
      "w13 : -0.521554\n",
      "w14 : -0.772556\n",
      "w15 : -0.977965\n",
      "w16 : -1.140289\n"
     ]
    }
   ],
   "source": [
    "print \"Optimized weights\"\n",
    "print \"w0 : %f\" % lasso_model.intercept_\n",
    "print \"w1 : %f\" % lasso_model.coef_[0]\n",
    "print \"w2 : %f\" % lasso_model.coef_[1]\n",
    "print \"w3 : %f\" % lasso_model.coef_[2]\n",
    "print \"w4 : %f\" % lasso_model.coef_[3]\n",
    "print \"w5 : %f\" % lasso_model.coef_[4]\n",
    "print \"w6 : %f\" % lasso_model.coef_[5]\n",
    "print \"w7 : %f\" % lasso_model.coef_[6]\n",
    "print \"w8 : %f\" % lasso_model.coef_[7]\n",
    "print \"w9 : %f\" % lasso_model.coef_[8]\n",
    "print \"w10 : %f\" % lasso_model.coef_[9]\n",
    "print \"w11 : %f\" % lasso_model.coef_[10]\n",
    "print \"w12 : %f\" % lasso_model.coef_[11]\n",
    "print \"w13 : %f\" % lasso_model.coef_[12]\n",
    "print \"w14 : %f\" % lasso_model.coef_[13]\n",
    "print \"w15 : %f\" % lasso_model.coef_[14]\n",
    "print \"w16 : %f\" % lasso_model.coef_[15]"
   ]
  },
  {
   "cell_type": "markdown",
   "metadata": {},
   "source": [
    "## Best result achieved with Penalty: 0.00001\n",
    "\n",
    "For Penalty : 0.000010 <br />\n",
    "RMSE is 0.267002 <br />"
   ]
  },
  {
   "cell_type": "code",
   "execution_count": 76,
   "metadata": {},
   "outputs": [
    {
     "data": {
      "image/png": "[encoded data removed]",
      "text/plain": [
       "<matplotlib.figure.Figure at 0x1a23852710>"
      ]
     },
     "metadata": {},
     "output_type": "display_data"
    }
   ],
   "source": [
    "plot_data(X,Y,Y_pred)"
   ]
  },
  {
   "cell_type": "markdown",
   "metadata": {},
   "source": [
    "# 2 (30pts). Polynomial regression with train/validation/test\n",
    "Using Jupyter notebook, load the data (ex2data2.csv).\n",
    "The first column is the size of the house (in square feet), the second column is the price of the house.\n",
    "You need to split the data into training/validation/testing data set as 60% / 20% / 20%.\n",
    "Please use np.random.seed(1) to have consistent data for evaluation."
   ]
  },
  {
   "cell_type": "code",
   "execution_count": 158,
   "metadata": {},
   "outputs": [
    {
     "data": {
      "text/plain": [
       "(5405, 2)"
      ]
     },
     "execution_count": 158,
     "metadata": {},
     "output_type": "execute_result"
    }
   ],
   "source": [
    "data = pd.read_csv('./ex2data2.csv', header=None)\n",
    "data.shape"
   ]
  },
  {
   "cell_type": "code",
   "execution_count": 159,
   "metadata": {},
   "outputs": [],
   "source": [
    "data = data.drop(data.index[0]) # Removing 0th row of header x,y \n",
    "data = data.reset_index(drop=True)\n",
    "data = data.astype(float)"
   ]
  },
  {
   "cell_type": "code",
   "execution_count": 160,
   "metadata": {},
   "outputs": [],
   "source": [
    "X = data[0]\n",
    "#X = minmax_normalize(X)\n",
    "Y = data[1]\n",
    "m = len(data)"
   ]
  },
  {
   "cell_type": "code",
   "execution_count": 161,
   "metadata": {},
   "outputs": [],
   "source": [
    "temp = pd.Series( (1 for i in range(0,m)) )"
   ]
  },
  {
   "cell_type": "code",
   "execution_count": 162,
   "metadata": {},
   "outputs": [],
   "source": [
    "X_mat = np.asmatrix(np.column_stack((temp,X)))\n",
    "W_mat = np.asmatrix(np.array([0., 0.])).T\n",
    "Y_mat = np.asmatrix((np.row_stack((Y))))\n",
    "learning_rates = [0.0000001]"
   ]
  },
  {
   "cell_type": "code",
   "execution_count": 163,
   "metadata": {},
   "outputs": [],
   "source": [
    "def calculate_cost(X_mat,Y_mat):\n",
    "    result =  np.dot((np.matmul(X_mat,W_mat) - Y_mat).T,(np.matmul(X_mat,W_mat) - Y_mat))\n",
    "    result /=m\n",
    "    return float(result)\n",
    "\n",
    "def cost_derivative(X_mat,Y_mat):\n",
    "    result = (np.matmul(np.matmul(X_mat.T,X_mat),W_mat)-(np.matmul(X_mat.T,Y_mat)))\n",
    "    result *= 2\n",
    "    result /=m\n",
    "    return result\n",
    "\n",
    "def calculate_weights(rate,X_mat,Y_mat):\n",
    "    global W_mat\n",
    "    W_mat = W_mat - rate*cost_derivative(X_mat,Y_mat)"
   ]
  },
  {
   "cell_type": "markdown",
   "metadata": {},
   "source": [
    "## Splitting data into Training, Validation and Testing sets"
   ]
  },
  {
   "cell_type": "code",
   "execution_count": 164,
   "metadata": {},
   "outputs": [],
   "source": [
    "np.random.seed(1)\n",
    "X_train, X_test, Y_train, Y_test = train_test_split(X_mat,Y_mat,train_size=0.8)\n",
    "X_train, X_val, Y_train, Y_val = train_test_split(X_train,Y_train,train_size=.75)"
   ]
  },
  {
   "cell_type": "markdown",
   "metadata": {},
   "source": [
    "## 2-1. Fit the data using linear (1st order) regression model (matrix form, gradient descent method).\n",
    "Plot the training data with the fitted line. Using the optimized weights, please calculated Root Mean Squared Error (RMSE) of training and testing data."
   ]
  },
  {
   "cell_type": "code",
   "execution_count": 165,
   "metadata": {},
   "outputs": [
    {
     "name": "stdout",
     "output_type": "stream",
     "text": [
      "counter : 100000\n",
      "Iterations : 100000\n",
      "Last Cost : 40629415125.450859\n",
      "Second Last Cost : 40629415133.811310 \n",
      "Learning rate : 0.000000 \n",
      "w0 : -91.426295 \n",
      "w1 : 263.655422\n",
      "Training RMSE : 201567.395988\n",
      "Validation RMSE : 134104.927408\n",
      "\n",
      "\n"
     ]
    }
   ],
   "source": [
    "for rate  in learning_rates:\n",
    "    W_mat = np.asmatrix(np.array([0., 0.])).T\n",
    "    count = 0\n",
    "    max_count = 100000\n",
    "    current_cost = calculate_cost(X_train,Y_train)\n",
    "    new_cost = 0\n",
    "    while new_cost < current_cost and count < max_count:\n",
    "        current_cost = calculate_cost(X_train,Y_train)\n",
    "        calculate_weights(rate,X_train,Y_train)\n",
    "        new_cost = calculate_cost(X_train,Y_train)\n",
    "        count += 1\n",
    "        if(count % 100000 == 0):\n",
    "            print \"counter : %d\" % count\n",
    "    print \"Iterations : %d\" % count\n",
    "    print \"Last Cost : %lf\" % new_cost\n",
    "    print \"Second Last Cost : %f \" % current_cost \n",
    "    print \"Learning rate : %f \" % rate\n",
    "    print \"w0 : %f \" % W_mat[0]\n",
    "    print \"w1 : %f\" % W_mat[1]\n",
    "    print \"Training RMSE : %lf\" % sqrt(calculate_cost(X_train,Y_train))\n",
    "    print \"Validation RMSE : %lf\" % sqrt(calculate_cost(X_val,Y_val))\n",
    "    print \"\\n\""
   ]
  },
  {
   "cell_type": "code",
   "execution_count": 166,
   "metadata": {},
   "outputs": [
    {
     "name": "stdout",
     "output_type": "stream",
     "text": [
      "Testing RMSE : 118992.237409\n"
     ]
    }
   ],
   "source": [
    "print \"Testing RMSE : %f\" % sqrt(calculate_cost(X_test,Y_test)) "
   ]
  },
  {
   "cell_type": "code",
   "execution_count": 167,
   "metadata": {},
   "outputs": [],
   "source": [
    "def predict(x):\n",
    "    return float(W_mat[0]) + float(W_mat[1])*x\n",
    "Y_train_list = Y_train.T[0].tolist()[0]\n",
    "X_train_list = X_train[:,1].T.tolist()[0]\n",
    "Y_pred = []\n",
    "for x in X_train_list:\n",
    "    Y_pred.append(predict(x))"
   ]
  },
  {
   "cell_type": "code",
   "execution_count": 168,
   "metadata": {},
   "outputs": [
    {
     "data": {
      "image/png": "[encoded data removed]",
      "text/plain": [
       "<matplotlib.figure.Figure at 0x1a235a1710>"
      ]
     },
     "metadata": {},
     "output_type": "display_data"
    }
   ],
   "source": [
    "plot_data(X_train_list,Y_train_list,Y_pred)"
   ]
  },
  {
   "cell_type": "markdown",
   "metadata": {},
   "source": [
    "## Best result achieved with Penalty: 0.00001\n",
    "\n",
    "Iterations : 1000000 <br / >\n",
    "Last Cost : 40622028972.297035<br / >\n",
    "Second Last Cost : 40622028980.352150<br / > \n",
    "Learning rate : 0.0000001 <br / >\n",
    "w0 : -906.738822 <br / >\n",
    "w1 : 263.976415<br / >\n",
    "Training RMSE : 201549.073360<br / >\n",
    "Validation RMSE : 134074.362989<br / >\n",
    "Testing RMSE : 118975.343224<br / >"
   ]
  },
  {
   "cell_type": "markdown",
   "metadata": {},
   "source": [
    "## 2-2. Fit the data using 2nd order polynomial regression model (matrix form, gradient descent method).\n",
    "Plot the training data with the fitted line. Using the optimized weights, please calculated Root Mean Squared Error (RMSE) of training and testing data.\n",
    "Note: Do not forget feature normalization.\n"
   ]
  },
  {
   "cell_type": "code",
   "execution_count": 173,
   "metadata": {},
   "outputs": [],
   "source": [
    "X = minmax_normalize(X)\n",
    "X_new = np.power(X,2)"
   ]
  },
  {
   "cell_type": "code",
   "execution_count": 177,
   "metadata": {},
   "outputs": [],
   "source": [
    "X_mat = np.asmatrix(np.column_stack((temp,X,X_new)))\n",
    "W_mat = np.asmatrix(np.array([0., 0., 0.])).T\n",
    "Y_mat = np.asmatrix((np.row_stack((Y))))\n",
    "learning_rates = [0.1]"
   ]
  },
  {
   "cell_type": "code",
   "execution_count": 178,
   "metadata": {},
   "outputs": [],
   "source": [
    "np.random.seed(1)\n",
    "X_train, X_test, Y_train, Y_test = train_test_split(X_mat,Y_mat,train_size=0.8)\n",
    "X_train, X_val, Y_train, Y_val = train_test_split(X_train,Y_train,train_size=.75)"
   ]
  },
  {
   "cell_type": "code",
   "execution_count": 179,
   "metadata": {},
   "outputs": [
    {
     "name": "stdout",
     "output_type": "stream",
     "text": [
      "counter : 100000\n",
      "Iterations : 100000\n",
      "Last Cost : 39977563876.035477\n",
      "Second Last Cost : 39977563893.283493 \n",
      "Learning rate : 0.100000 \n",
      "w0 : 125936.813323 \n",
      "w1 : 2997187.284412\n",
      "w2 : 1771899.453754\n",
      "Training RMSE : 199943.901823\n",
      "Validation RMSE : 126124.211292\n",
      "\n",
      "\n"
     ]
    }
   ],
   "source": [
    "for rate  in learning_rates:\n",
    "    W_mat = np.asmatrix(np.array([0., 0., 0.])).T\n",
    "    count = 0\n",
    "    max_count = 100000\n",
    "    current_cost = calculate_cost(X_train,Y_train)\n",
    "    new_cost = 0\n",
    "    while new_cost < current_cost and count < max_count:\n",
    "        current_cost = calculate_cost(X_train,Y_train)\n",
    "        calculate_weights(rate,X_train,Y_train)\n",
    "        new_cost = calculate_cost(X_train,Y_train)\n",
    "        count += 1\n",
    "        if(count % 100000 == 0):\n",
    "            print \"counter : %d\" % count\n",
    "    print \"Iterations : %d\" % count\n",
    "    print \"Last Cost : %lf\" % new_cost\n",
    "    print \"Second Last Cost : %f \" % current_cost \n",
    "    print \"Learning rate : %f \" % rate\n",
    "    print \"w0 : %f \" % W_mat[0]\n",
    "    print \"w1 : %f\" % W_mat[1]\n",
    "    print \"w2 : %f\" % W_mat[2]\n",
    "    print \"Training RMSE : %lf\" % sqrt(calculate_cost(X_train,Y_train))\n",
    "    print \"Validation RMSE : %lf\" % sqrt(calculate_cost(X_val,Y_val))\n",
    "    print \"\\n\""
   ]
  },
  {
   "cell_type": "code",
   "execution_count": 180,
   "metadata": {},
   "outputs": [
    {
     "name": "stdout",
     "output_type": "stream",
     "text": [
      "Testing RMSE : 116012.280498\n"
     ]
    }
   ],
   "source": [
    "print \"Testing RMSE : %f\" % sqrt(calculate_cost(X_test,Y_test)) "
   ]
  },
  {
   "cell_type": "code",
   "execution_count": 181,
   "metadata": {},
   "outputs": [],
   "source": [
    "def predict(x,x_new):\n",
    "    return float(W_mat[0]) + float(W_mat[1])*x + + float(W_mat[2])*x_new\n",
    "Y_train_list = Y_train.T[0].tolist()[0]\n",
    "X_train_list = X_train[:,1].T.tolist()[0]\n",
    "Y_pred = []\n",
    "for x,x_new in zip(X_train_list,np.power(X_train_list,2)):\n",
    "    Y_pred.append(predict(x,x_new))"
   ]
  },
  {
   "cell_type": "code",
   "execution_count": 182,
   "metadata": {},
   "outputs": [
    {
     "data": {
      "image/png": "[encoded data removed]",
      "text/plain": [
       "<matplotlib.figure.Figure at 0x1a235efa90>"
      ]
     },
     "metadata": {},
     "output_type": "display_data"
    }
   ],
   "source": [
    "plot_data(X_train_list,Y_train_list,Y_pred)"
   ]
  },
  {
   "cell_type": "markdown",
   "metadata": {},
   "source": [
    "## Best result achieved with Learning rate: 0.1\n",
    "\n",
    "counter : 100000<br />\n",
    "Iterations : 100000<br />\n",
    "Last Cost : 39977563876.035477<br />\n",
    "Second Last Cost : 39977563893.283493<br /> \n",
    "Learning rate : 0.100000 <br />\n",
    "w0 : 125936.813323 <br />\n",
    "w1 : 2997187.284412<br />\n",
    "Training RMSE : 199943.901823<br />\n",
    "Validation RMSE : 126124.211292<br />\n",
    "Testing RMSE : 116012.280498<br />"
   ]
  },
  {
   "cell_type": "markdown",
   "metadata": {},
   "source": [
    "## 2-3. Fit the data using 4th order polynomial regression model (matrix form, gradient descent method).\n",
    "Plot the training data with the fitted line. Using the optimized weights, please calculated Root Mean Squared Error (RMSE) of training and testing data.\n",
    "Note: Do not forget feature normalization.\n"
   ]
  },
  {
   "cell_type": "code",
   "execution_count": 183,
   "metadata": {},
   "outputs": [],
   "source": [
    "X2_new = minmax_normalize(np.power(X,2))\n",
    "X3_new = minmax_normalize(np.power(X,3))\n",
    "X4_new = minmax_normalize(np.power(X,4))"
   ]
  },
  {
   "cell_type": "code",
   "execution_count": 184,
   "metadata": {},
   "outputs": [],
   "source": [
    "X_mat = np.asmatrix(np.column_stack((temp,X,X2_new,X3_new,X4_new)))\n",
    "W_mat = np.asmatrix(np.array([0., 0., 0., 0., 0.])).T\n",
    "Y_mat = np.asmatrix((np.row_stack((Y))))\n",
    "learning_rates = [1]"
   ]
  },
  {
   "cell_type": "code",
   "execution_count": 185,
   "metadata": {},
   "outputs": [],
   "source": [
    "np.random.seed(1)\n",
    "\n",
    "X_train, X_test, Y_train, Y_test = train_test_split(X_mat,Y_mat,train_size=0.8)\n",
    "X_train, X_val, Y_train, Y_val = train_test_split(X_train,Y_train,train_size=.75)"
   ]
  },
  {
   "cell_type": "code",
   "execution_count": 186,
   "metadata": {},
   "outputs": [
    {
     "name": "stdout",
     "output_type": "stream",
     "text": [
      "Iterations : 10000\n",
      "Last Cost : 38374780528.962669\n",
      "Second Last Cost : 38374895380.947952 \n",
      "Learning rate : 1.000000 \n",
      "w0 : 148814.076829 \n",
      "w1 : 2515005.044681\n",
      "w2 : 3794670.119299\n",
      "w3 : -182927.837397\n",
      "w4 : -2817563.714944\n",
      "Training RMSE : 195894.820067\n",
      "Validation RMSE : 128888.670561\n",
      "\n",
      "\n"
     ]
    }
   ],
   "source": [
    "for rate  in learning_rates:\n",
    "    W_mat = np.asmatrix(np.array([0., 0., 0., 0., 0.])).T\n",
    "    count = 0\n",
    "    max_count = 10000\n",
    "    current_cost = calculate_cost(X_train,Y_train)\n",
    "    new_cost = 0\n",
    "    while new_cost < current_cost and count < max_count:\n",
    "        current_cost = calculate_cost(X_train,Y_train)\n",
    "        calculate_weights(rate,X_train,Y_train)\n",
    "        new_cost = calculate_cost(X_train,Y_train)\n",
    "        count += 1\n",
    "    print \"Iterations : %d\" % count\n",
    "    print \"Last Cost : %lf\" % new_cost\n",
    "    print \"Second Last Cost : %f \" % current_cost \n",
    "    print \"Learning rate : %f \" % rate\n",
    "    print \"w0 : %f \" % W_mat[0]\n",
    "    print \"w1 : %f\" % W_mat[1]\n",
    "    print \"w2 : %f\" % W_mat[2]\n",
    "    print \"w3 : %f\" % W_mat[3]\n",
    "    print \"w4 : %f\" % W_mat[4]\n",
    "    print \"Training RMSE : %lf\" % sqrt(calculate_cost(X_train,Y_train))\n",
    "    print \"Validation RMSE : %lf\" % sqrt(calculate_cost(X_val,Y_val))\n",
    "    print \"\\n\""
   ]
  },
  {
   "cell_type": "code",
   "execution_count": 187,
   "metadata": {},
   "outputs": [
    {
     "name": "stdout",
     "output_type": "stream",
     "text": [
      "Testing RMSE : 115067.242611\n"
     ]
    }
   ],
   "source": [
    "print \"Testing RMSE : %f\" % sqrt(calculate_cost(X_test,Y_test)) "
   ]
  },
  {
   "cell_type": "code",
   "execution_count": 188,
   "metadata": {},
   "outputs": [],
   "source": [
    "def predict(x,x2_new,x3_new,x4_new):\n",
    "    return float(W_mat[0]) + float(W_mat[1])*x + float(W_mat[2])*x2_new + float(W_mat[3])*x3_new + float(W_mat[4])*x4_new\n",
    "Y_train_list = Y_train.T[0].tolist()[0]\n",
    "X_train_list = X_train[:,1].T.tolist()[0]\n",
    "Y_pred = []\n",
    "for x,x2_new,x3_new,x4_new in zip(X_train_list,np.power(X_train_list,2),np.power(X_train_list,3),np.power(X_train_list,4)):\n",
    "    Y_pred.append(predict(x,x2_new,x3_new,x4_new))"
   ]
  },
  {
   "cell_type": "code",
   "execution_count": 189,
   "metadata": {},
   "outputs": [
    {
     "data": {
      "image/png": "[encoded data removed]",
      "text/plain": [
       "<matplotlib.figure.Figure at 0x117190e90>"
      ]
     },
     "metadata": {},
     "output_type": "display_data"
    }
   ],
   "source": [
    "plot_data(X_train_list,Y_train_list,Y_pred)"
   ]
  },
  {
   "cell_type": "markdown",
   "metadata": {},
   "source": [
    "\n",
    "## Best result achieved with Learning rate: 1\n",
    "\n",
    "Iterations : 10000 <br />\n",
    "Last Cost : 38374780528.962669<br />\n",
    "Second Last Cost : 38374895380.947952<br /> \n",
    "Learning rate : 1.000000 <br />\n",
    "w0 : 148814.076829 <br />\n",
    "w1 : 2515005.044681<br />\n",
    "w2 : 3794670.119299<br />\n",
    "w3 : -182927.837397<br />\n",
    "w4 : -2817563.714944<br />\n",
    "Training RMSE : 195894.820067<br />\n",
    "Validation RMSE : 128888.670561<br />\n",
    "Testing RMSE : 115067.242611 <br />"
   ]
  },
  {
   "cell_type": "markdown",
   "metadata": {},
   "source": [
    "## 2-4. Fit the data using 16th order polynomial regression model (matrix form, gradient descent method).\n",
    "Plot the training data with the fitted line. Using the optimized weights, please calculated Root Mean Squared Error (RMSE) of training and testing data.\n",
    "Note: Do not forget feature normalization.\n"
   ]
  },
  {
   "cell_type": "code",
   "execution_count": 190,
   "metadata": {},
   "outputs": [],
   "source": [
    "X2_new = minmax_normalize(np.power(X,2))\n",
    "X3_new = minmax_normalize(np.power(X,3))\n",
    "X4_new = minmax_normalize(np.power(X,4))\n",
    "X5_new = minmax_normalize(np.power(X,5))\n",
    "X6_new = minmax_normalize(np.power(X,6))\n",
    "X7_new = minmax_normalize(np.power(X,7))\n",
    "X8_new = minmax_normalize(np.power(X,8))\n",
    "X9_new = minmax_normalize(np.power(X,9))\n",
    "X10_new = minmax_normalize(np.power(X,10))\n",
    "X11_new = minmax_normalize(np.power(X,11))\n",
    "X12_new = minmax_normalize(np.power(X,12))\n",
    "X13_new = minmax_normalize(np.power(X,13))\n",
    "X14_new = minmax_normalize(np.power(X,14))\n",
    "X15_new = minmax_normalize(np.power(X,15))\n",
    "X16_new = minmax_normalize(np.power(X,16))"
   ]
  },
  {
   "cell_type": "code",
   "execution_count": 191,
   "metadata": {},
   "outputs": [],
   "source": [
    "X_mat = np.asmatrix(np.column_stack((temp,X,X2_new,X3_new,X4_new,X5_new,X6_new,X7_new,X8_new,X9_new,X10_new,X11_new,X12_new,X13_new,X14_new,X15_new,X16_new)))\n",
    "W_mat = np.asmatrix(np.array([0., 0., 0., 0., 0., 0., 0., 0., 0., 0., 0., 0., 0., 0., 0., 0., 0.])).T\n",
    "Y_mat = np.asmatrix((np.row_stack((Y))))\n",
    "learning_rates = [1.6]"
   ]
  },
  {
   "cell_type": "code",
   "execution_count": 192,
   "metadata": {},
   "outputs": [],
   "source": [
    "np.random.seed(1)\n",
    "X_train, X_test, Y_train, Y_test = train_test_split(X_mat,Y_mat,train_size=0.8)\n",
    "X_train, X_val, Y_train, Y_val = train_test_split(X_train,Y_train,train_size=.75)"
   ]
  },
  {
   "cell_type": "code",
   "execution_count": 193,
   "metadata": {},
   "outputs": [
    {
     "name": "stdout",
     "output_type": "stream",
     "text": [
      "Iterations : 1000\n",
      "Last Cost : 38267044153.940788\n",
      "Second Last Cost : 38267701364.602348 \n",
      "Learning rate : 1.600000 \n",
      "w0 : 118016.137979 \n",
      "w1 : 3015301.335410\n",
      "w2 : 1900764.343344\n",
      "w3 : 765766.011798\n",
      "w4 : 186357.980603\n",
      "w5 : -81680.798105\n",
      "w6 : -207135.000320\n",
      "w7 : -268149.724718\n",
      "w8 : -299023.681177\n",
      "w9 : -315175.768948\n",
      "w10 : -323848.907232\n",
      "w11 : -328599.467459\n",
      "w12 : -331241.164310\n",
      "w13 : -332727.416927\n",
      "w14 : -333571.324954\n",
      "w15 : -334054.065101\n",
      "w16 : -334331.897824\n",
      "Training RMSE : 195619.641534\n",
      "Validation RMSE : 126727.687114\n",
      "Testing RMSE : 115024.568709\n",
      "\n",
      "\n"
     ]
    }
   ],
   "source": [
    "for rate  in learning_rates:\n",
    "    W_mat = np.asmatrix(np.array([0., 0., 0., 0., 0., 0., 0., 0., 0., 0., 0., 0., 0., 0., 0., 0., 0.])).T\n",
    "    count = 0\n",
    "    max_count = 1000\n",
    "    current_cost = calculate_cost(X_train,Y_train)\n",
    "    new_cost = 0\n",
    "    while new_cost < current_cost and count < max_count:\n",
    "        current_cost = calculate_cost(X_train,Y_train)\n",
    "        calculate_weights(rate,X_train,Y_train)\n",
    "        new_cost = calculate_cost(X_train,Y_train)\n",
    "        count += 1\n",
    "    print \"Iterations : %d\" % count\n",
    "    print \"Last Cost : %lf\" % new_cost\n",
    "    print \"Second Last Cost : %f \" % current_cost \n",
    "    print \"Learning rate : %f \" % rate\n",
    "    print \"w0 : %f \" % W_mat[0]\n",
    "    print \"w1 : %f\" % W_mat[1]\n",
    "    print \"w2 : %f\" % W_mat[2]\n",
    "    print \"w3 : %f\" % W_mat[3]\n",
    "    print \"w4 : %f\" % W_mat[4]\n",
    "    print \"w5 : %f\" % W_mat[5]\n",
    "    print \"w6 : %f\" % W_mat[6]\n",
    "    print \"w7 : %f\" % W_mat[7]\n",
    "    print \"w8 : %f\" % W_mat[8]\n",
    "    print \"w9 : %f\" % W_mat[9]\n",
    "    print \"w10 : %f\" % W_mat[10]\n",
    "    print \"w11 : %f\" % W_mat[11]\n",
    "    print \"w12 : %f\" % W_mat[12]\n",
    "    print \"w13 : %f\" % W_mat[13]\n",
    "    print \"w14 : %f\" % W_mat[14]\n",
    "    print \"w15 : %f\" % W_mat[15]\n",
    "    print \"w16 : %f\" % W_mat[16]\n",
    "    print \"Training RMSE : %lf\" % sqrt(calculate_cost(X_train,Y_train))\n",
    "    print \"Validation RMSE : %lf\" % sqrt(calculate_cost(X_val,Y_val))\n",
    "    print \"Testing RMSE : %f\" % sqrt(calculate_cost(X_test,Y_test))\n",
    "    print \"\\n\""
   ]
  },
  {
   "cell_type": "code",
   "execution_count": 194,
   "metadata": {},
   "outputs": [
    {
     "name": "stdout",
     "output_type": "stream",
     "text": [
      "Testing RMSE : 115024.568709\n"
     ]
    }
   ],
   "source": [
    "print \"Testing RMSE : %f\" % sqrt(calculate_cost(X_test,Y_test)) \n",
    "def predict(x,x2_new,x3_new,x4_new,x5_new,x6_new,x7_new,x8_new,x9_new,x10_new,x11_new,x12_new,x13_new,x14_new,x15_new,x16_new): \n",
    "    return float(W_mat[0]) + float(W_mat[1])*x + float(W_mat[2])*x2_new + float(W_mat[3])*x3_new + float(W_mat[4])*x4_new + float(W_mat[5])*x5_new + float(W_mat[6])*x6_new + float(W_mat[7])*x7_new + float(W_mat[8])*x8_new + float(W_mat[9])*x8_new + float(W_mat[10])*x10_new + float(W_mat[11])*x11_new + float(W_mat[12])*x12_new + float(W_mat[13])*x13_new + float(W_mat[14])*x14_new + float(W_mat[15])*x15_new + float(W_mat[16])*x16_new\n",
    "Y_train_list = Y_train.T[0].tolist()[0]\n",
    "X_train_list = X_train[:,1].T.tolist()[0]\n",
    "Y_pred = []\n",
    "for x,x2,x3,x4,x5,x6,x7,x8,x9,x10,x11,x12,x13,x14,x15,x16 in zip(X_train_list,np.power(X_train_list,2),np.power(X_train_list,3),np.power(X_train_list,4),np.power(X_train_list,5),np.power(X_train_list,6),np.power(X_train_list,7),np.power(X_train_list,8),np.power(X_train_list,9),np.power(X_train_list,10),np.power(X_train_list,11),np.power(X_train_list,12),np.power(X_train_list,13),np.power(X_train_list,14),np.power(X_train_list,15),np.power(X_train_list,16)):\n",
    "    Y_pred.append(predict(x,x2,x3,x4,x5,x6,x7,x8,x9,x10,x11,x12,x13,x14,x15,x16))"
   ]
  },
  {
   "cell_type": "code",
   "execution_count": 195,
   "metadata": {},
   "outputs": [
    {
     "data": {
      "image/png": "[encoded data removed]",
      "text/plain": [
       "<matplotlib.figure.Figure at 0x1a248a4390>"
      ]
     },
     "metadata": {},
     "output_type": "display_data"
    }
   ],
   "source": [
    "plot_data(X_train_list,Y_train_list,Y_pred)"
   ]
  },
  {
   "cell_type": "markdown",
   "metadata": {},
   "source": [
    "## Best result achieved with Learning rate: 1.6\n",
    "\n",
    "\n",
    "Iterations : 1000 <br />\n",
    "Last Cost : 38267044153.940788<br />\n",
    "Second Last Cost : 38267701364.602348<br /> \n",
    "Learning rate : 1.600000 <br />\n",
    "Training RMSE : 195619.641534<br />\n",
    "Validation RMSE : 126727.687114<br />\n",
    "Testing RMSE : 115024.568709<br />"
   ]
  },
  {
   "cell_type": "markdown",
   "metadata": {},
   "source": [
    "## 2-5. Fit the data using 16th order polynomial regression model with ridge (L2 penalty) regularization.\n",
    "You need to try at least 3 different L2 penalty (for example, λ = 0.1, 1, 10). Plot the training and validation data with the fitted line. Search optimum L2 penalty based on Root Mean Squared Error (RMSE) of validation data. Print optimized weight coefficients. Plot weight coefficients with L2 penalty. Print Root Mean Squared Error (RMSE) for training/validation/test data.\n",
    "Note: Do not forget feature normalization.\n"
   ]
  },
  {
   "cell_type": "code",
   "execution_count": 196,
   "metadata": {},
   "outputs": [],
   "source": [
    "def calculate_cost(y,X_mat,Y_mat):\n",
    "    result =  np.dot((np.matmul(X_mat,W_mat) - Y_mat).T,(np.matmul(X_mat,W_mat) - Y_mat))\n",
    "    result /=m\n",
    "    result += (y/m*np.sum(np.power(W_mat,2)))\n",
    "    return float(result)\n",
    "\n",
    "def cost_derivative(y,X_mat,Y_mat):\n",
    "    result = (np.matmul(np.matmul(X_mat.T,X_mat),W_mat)-(np.matmul(X_mat.T,Y_mat)))\n",
    "    result *= 2\n",
    "    result /=m\n",
    "    result += 2 * y/m\n",
    "    return result\n",
    "\n",
    "def calculate_weights(rate,y,X_mat,Y_mat):\n",
    "    global W_mat\n",
    "    W_mat = W_mat - rate*cost_derivative(y,X_mat,Y_mat)"
   ]
  },
  {
   "cell_type": "code",
   "execution_count": 206,
   "metadata": {},
   "outputs": [],
   "source": [
    "X_mat = np.asmatrix(np.column_stack((temp,X,X2_new,X3_new,X4_new,X5_new,X6_new,X7_new,X8_new,X9_new,X10_new,X11_new,X12_new,X13_new,X14_new,X15_new,X16_new)))\n",
    "W_mat = np.asmatrix(np.array([0., 0., 0., 0., 0., 0., 0., 0., 0., 0., 0., 0., 0., 0., 0., 0., 0.])).T\n",
    "Y_mat = np.asmatrix((np.row_stack((Y))))\n",
    "learning_rates = [1.5]\n",
    "lambdas = [0.000001,0.001,0.01,0.1,0.5,1,10]"
   ]
  },
  {
   "cell_type": "code",
   "execution_count": 207,
   "metadata": {},
   "outputs": [],
   "source": [
    "np.random.seed(1)\n",
    "X_train, X_test, Y_train, Y_test = train_test_split(X_mat,Y_mat,train_size=0.8)\n",
    "X_train, X_val, Y_train, Y_val = train_test_split(X_train,Y_train,train_size=.75)"
   ]
  },
  {
   "cell_type": "code",
   "execution_count": 208,
   "metadata": {
    "scrolled": false
   },
   "outputs": [
    {
     "name": "stdout",
     "output_type": "stream",
     "text": [
      "Penalty : 0.000001\n",
      "Iterations : 1000\n",
      "Last Cost : 38308703380.020905\n",
      "Second Last Cost : 38309337198.841820 \n",
      "Learning rate : 1.500000 \n",
      "Training RMSE : 195726.092742\n",
      "Validation RMSE : 126935.336170\n",
      "Testing RMSE : 115104.114733\n",
      "w0 : 116595.873868 \n",
      "w1 : 3035400.129910\n",
      "w2 : 1854164.443659\n",
      "w3 : 736441.687879\n",
      "w4 : 174516.232992\n",
      "w5 : -83768.213062\n",
      "w6 : -204268.767799\n",
      "w7 : -262777.724847\n",
      "w8 : -292361.006726\n",
      "w9 : -307834.211135\n",
      "w10 : -316143.646962\n",
      "w11 : -320696.460765\n",
      "w12 : -323229.395185\n",
      "w13 : -324655.289779\n",
      "w14 : -325465.467936\n",
      "w15 : -325929.255820\n",
      "w16 : -326196.393784\n",
      "\n",
      "\n",
      "Penalty : 0.001000\n",
      "Iterations : 1000\n",
      "Last Cost : 38311340865.985359\n",
      "Second Last Cost : 38311974271.065613 \n",
      "Learning rate : 1.500000 \n",
      "Training RMSE : 195732.830322\n",
      "Validation RMSE : 126945.724840\n",
      "Testing RMSE : 115115.571121\n",
      "w0 : 116595.873867 \n",
      "w1 : 3035400.129929\n",
      "w2 : 1854164.443636\n",
      "w3 : 736441.687830\n",
      "w4 : 174516.232930\n",
      "w5 : -83768.213130\n",
      "w6 : -204268.767869\n",
      "w7 : -262777.724920\n",
      "w8 : -292361.006799\n",
      "w9 : -307834.211209\n",
      "w10 : -316143.647036\n",
      "w11 : -320696.460839\n",
      "w12 : -323229.395259\n",
      "w13 : -324655.289853\n",
      "w14 : -325465.468011\n",
      "w15 : -325929.255895\n",
      "w16 : -326196.393858\n",
      "\n",
      "\n",
      "Penalty : 0.010000\n",
      "Iterations : 1000\n",
      "Last Cost : 38335102000.807541\n",
      "Second Last Cost : 38335731678.494476 \n",
      "Learning rate : 1.500000 \n",
      "Training RMSE : 195793.518792\n",
      "Validation RMSE : 127039.278157\n",
      "Testing RMSE : 115218.730464\n",
      "w0 : 116595.873851 \n",
      "w1 : 3035400.130108\n",
      "w2 : 1854164.443424\n",
      "w3 : 736441.687387\n",
      "w4 : 174516.232376\n",
      "w5 : -83768.213738\n",
      "w6 : -204268.768505\n",
      "w7 : -262777.725570\n",
      "w8 : -292361.007458\n",
      "w9 : -307834.211871\n",
      "w10 : -316143.647702\n",
      "w11 : -320696.461506\n",
      "w12 : -323229.395927\n",
      "w13 : -324655.290521\n",
      "w14 : -325465.468679\n",
      "w15 : -325929.256563\n",
      "w16 : -326196.394527\n",
      "\n",
      "\n",
      "Penalty : 0.100000\n",
      "Iterations : 1000\n",
      "Last Cost : 38572713349.755852\n",
      "Second Last Cost : 38573305753.509407 \n",
      "Learning rate : 1.500000 \n",
      "Training RMSE : 196399.372071\n",
      "Validation RMSE : 127971.049811\n",
      "Testing RMSE : 116245.288951\n",
      "w0 : 116595.873700 \n",
      "w1 : 3035400.131890\n",
      "w2 : 1854164.441303\n",
      "w3 : 736441.682962\n",
      "w4 : 174516.226832\n",
      "w5 : -83768.219825\n",
      "w6 : -204268.774866\n",
      "w7 : -262777.732076\n",
      "w8 : -292361.014042\n",
      "w9 : -307834.218500\n",
      "w10 : -316143.654356\n",
      "w11 : -320696.468175\n",
      "w12 : -323229.402604\n",
      "w13 : -324655.297204\n",
      "w14 : -325465.475365\n",
      "w15 : -325929.263251\n",
      "w16 : -326196.401215\n",
      "\n",
      "\n",
      "Penalty : 0.500000\n",
      "Iterations : 1000\n",
      "Last Cost : 39628763805.506134\n",
      "Second Last Cost : 39629190547.329109 \n",
      "Learning rate : 1.500000 \n",
      "Training RMSE : 199069.746083\n",
      "Validation RMSE : 132032.724165\n",
      "Testing RMSE : 120702.185896\n",
      "w0 : 116595.873028 \n",
      "w1 : 3035400.139812\n",
      "w2 : 1854164.431880\n",
      "w3 : 736441.663293\n",
      "w4 : 174516.202196\n",
      "w5 : -83768.246875\n",
      "w6 : -204268.803137\n",
      "w7 : -262777.760990\n",
      "w8 : -292361.043307\n",
      "w9 : -307834.247962\n",
      "w10 : -316143.683930\n",
      "w11 : -320696.497814\n",
      "w12 : -323229.432281\n",
      "w13 : -324655.326903\n",
      "w14 : -325465.505078\n",
      "w15 : -325929.292972\n",
      "w16 : -326196.430941\n",
      "\n",
      "\n",
      "Penalty : 1.000000\n",
      "Iterations : 1000\n",
      "Last Cost : 40948826911.882820\n",
      "Second Last Cost : 40949046576.282272 \n",
      "Learning rate : 1.500000 \n",
      "Training RMSE : 202358.164925\n",
      "Validation RMSE : 136940.511220\n",
      "Testing RMSE : 126051.897298\n",
      "w0 : 116595.872188 \n",
      "w1 : 3035400.149714\n",
      "w2 : 1854164.420100\n",
      "w3 : 736441.638708\n",
      "w4 : 174516.171399\n",
      "w5 : -83768.280689\n",
      "w6 : -204268.838476\n",
      "w7 : -262777.797132\n",
      "w8 : -292361.079888\n",
      "w9 : -307834.284789\n",
      "w10 : -316143.720897\n",
      "w11 : -320696.534862\n",
      "w12 : -323229.469377\n",
      "w13 : -324655.364028\n",
      "w14 : -325465.542219\n",
      "w15 : -325929.330123\n",
      "w16 : -326196.468099\n",
      "\n",
      "\n",
      "Penalty : 10.000000\n",
      "Iterations : 101\n",
      "Last Cost : 54594969066.124763\n",
      "Second Last Cost : 54594646312.234482 \n",
      "Learning rate : 1.500000 \n",
      "Training RMSE : 233655.663458\n",
      "Validation RMSE : 171995.151525\n",
      "Testing RMSE : 160342.952639\n",
      "w0 : 255230.119558 \n",
      "w1 : 2131692.010072\n",
      "w2 : 858002.166318\n",
      "w3 : 318644.691096\n",
      "w4 : 121082.326114\n",
      "w5 : 45041.089423\n",
      "w6 : 13181.742053\n",
      "w7 : -1316.328854\n",
      "w8 : -8381.384108\n",
      "w9 : -12009.509321\n",
      "w10 : -13946.058846\n",
      "w11 : -15009.251687\n",
      "w12 : -15605.165640\n",
      "w13 : -15944.383917\n",
      "w14 : -16139.787005\n",
      "w15 : -16253.405274\n",
      "w16 : -16319.972238\n",
      "\n",
      "\n",
      "\n",
      "********************\n",
      "\n"
     ]
    }
   ],
   "source": [
    "Weights = []\n",
    "for rate  in learning_rates:\n",
    "    for y in lambdas:\n",
    "        W_mat = np.asmatrix(np.array([0., 0., 0., 0., 0., 0., 0., 0., 0., 0., 0., 0., 0., 0., 0., 0., 0.])).T\n",
    "        count = 0\n",
    "        max_count = 1000\n",
    "        current_cost = calculate_cost(y,X_train,Y_train)\n",
    "        new_cost = 0\n",
    "        while new_cost < current_cost and count < max_count:\n",
    "            current_cost = calculate_cost(y,X_train,Y_train)\n",
    "            calculate_weights(rate,y,X_train,Y_train)\n",
    "            new_cost = calculate_cost(y,X_train,Y_train)\n",
    "            count += 1\n",
    "        Weights.append(list(W_mat.T[0].tolist()[0]))\n",
    "        print \"Penalty : %f\" % y\n",
    "        print \"Iterations : %d\" % count\n",
    "        print \"Last Cost : %lf\" % new_cost\n",
    "        print \"Second Last Cost : %f \" % current_cost \n",
    "        print \"Learning rate : %f \" % rate\n",
    "        print \"Training RMSE : %lf\" % sqrt(calculate_cost(y,X_train,Y_train))\n",
    "        print \"Validation RMSE : %lf\" % sqrt(calculate_cost(y,X_val,Y_val))\n",
    "        print \"Testing RMSE : %f\" % sqrt(calculate_cost(y,X_test,Y_test)) \n",
    "        print \"w0 : %f \" % W_mat[0]\n",
    "        print \"w1 : %f\" % W_mat[1]\n",
    "        print \"w2 : %f\" % W_mat[2]\n",
    "        print \"w3 : %f\" % W_mat[3]\n",
    "        print \"w4 : %f\" % W_mat[4]\n",
    "        print \"w5 : %f\" % W_mat[5]\n",
    "        print \"w6 : %f\" % W_mat[6]\n",
    "        print \"w7 : %f\" % W_mat[7]\n",
    "        print \"w8 : %f\" % W_mat[8]\n",
    "        print \"w9 : %f\" % W_mat[9]\n",
    "        print \"w10 : %f\" % W_mat[10]\n",
    "        print \"w11 : %f\" % W_mat[11]\n",
    "        print \"w12 : %f\" % W_mat[12]\n",
    "        print \"w13 : %f\" % W_mat[13]\n",
    "        print \"w14 : %f\" % W_mat[14]\n",
    "        print \"w15 : %f\" % W_mat[15]\n",
    "        print \"w16 : %f\" % W_mat[16]\n",
    "        print \"\\n\"\n",
    "    print \"\\n********************\\n\""
   ]
  },
  {
   "cell_type": "code",
   "execution_count": 203,
   "metadata": {},
   "outputs": [
    {
     "name": "stdout",
     "output_type": "stream",
     "text": [
      "Testing RMSE : 115104.114733\n"
     ]
    }
   ],
   "source": [
    "print \"Testing RMSE : %f\" % sqrt(calculate_cost(y,X_test,Y_test)) \n",
    "def predict(x,x2_new,x3_new,x4_new,x5_new,x6_new,x7_new,x8_new,x9_new,x10_new,x11_new,x12_new,x13_new,x14_new,x15_new,x16_new): \n",
    "    return float(W_mat[0]) + float(W_mat[1])*x + float(W_mat[2])*x2_new + float(W_mat[3])*x3_new + float(W_mat[4])*x4_new + float(W_mat[5])*x5_new + float(W_mat[6])*x6_new + float(W_mat[7])*x7_new + float(W_mat[8])*x8_new + float(W_mat[9])*x8_new + float(W_mat[10])*x10_new + float(W_mat[11])*x11_new + float(W_mat[12])*x12_new + float(W_mat[13])*x13_new + float(W_mat[14])*x14_new + float(W_mat[15])*x15_new + float(W_mat[16])*x16_new\n",
    "Y_train_list = Y_train.T[0].tolist()[0]\n",
    "X_train_list = X_train[:,1].T.tolist()[0]\n",
    "Y_pred = []\n",
    "for x,x2,x3,x4,x5,x6,x7,x8,x9,x10,x11,x12,x13,x14,x15,x16 in zip(X_train_list,np.power(X_train_list,2),np.power(X_train_list,3),np.power(X_train_list,4),np.power(X_train_list,5),np.power(X_train_list,6),np.power(X_train_list,7),np.power(X_train_list,8),np.power(X_train_list,9),np.power(X_train_list,10),np.power(X_train_list,11),np.power(X_train_list,12),np.power(X_train_list,13),np.power(X_train_list,14),np.power(X_train_list,15),np.power(X_train_list,16)):\n",
    "    Y_pred.append(predict(x,x2,x3,x4,x5,x6,x7,x8,x9,x10,x11,x12,x13,x14,x15,x16))"
   ]
  },
  {
   "cell_type": "code",
   "execution_count": 204,
   "metadata": {},
   "outputs": [
    {
     "data": {
      "image/png": "[encoded data removed]",
      "text/plain": [
       "<matplotlib.figure.Figure at 0x1a238b3cd0>"
      ]
     },
     "metadata": {},
     "output_type": "display_data"
    }
   ],
   "source": [
    "plot_data(X_train_list,Y_train_list,Y_pred)"
   ]
  },
  {
   "cell_type": "code",
   "execution_count": 209,
   "metadata": {},
   "outputs": [
    {
     "data": {
      "text/plain": [
       "Text(0.5,1,u'Weight Coefficients')"
      ]
     },
     "execution_count": 209,
     "metadata": {},
     "output_type": "execute_result"
    },
    {
     "data": {
      "image/png": "[encoded data removed]",
      "text/plain": [
       "<matplotlib.figure.Figure at 0x10aa6fbd0>"
      ]
     },
     "metadata": {},
     "output_type": "display_data"
    }
   ],
   "source": [
    "plt.plot(lambdas,Weights)\n",
    "plt.title(\"Weight Coefficients\")"
   ]
  },
  {
   "cell_type": "markdown",
   "metadata": {},
   "source": [
    "## Best result achieved with Learning rate: 1.5 and Penalty: 0.000001\n",
    "\n",
    "Penalty : 0.000001 <br />\n",
    "Iterations : 1000<br />\n",
    "Last Cost : 38308703380.020905<br />\n",
    "Second Last Cost : 38309337198.841820<br /> \n",
    "Learning rate : 1.500000 <br />\n",
    "Training RMSE : 195726.092742<br />\n",
    "Validation RMSE : 126935.336170<br />\n",
    "Testing RMSE : 115104.114733<br />"
   ]
  },
  {
   "cell_type": "markdown",
   "metadata": {},
   "source": [
    "## 2-6. Fit the data using 16th order polynomial regression model with scikit-learn Ridge model.\n",
    "You need to try at least 3 different L2 penalty (for example, λ = 0.1, 1, 10). Plot the data with the fitted line. Print optimized weight coefficients. Plot weight coefficients with L2 penalty. Print Root Mean Squared Error (RMSE)\n"
   ]
  },
  {
   "cell_type": "code",
   "execution_count": 223,
   "metadata": {},
   "outputs": [],
   "source": [
    "X_mat = np.asmatrix(np.column_stack((X,X2_new,X3_new,X4_new,X5_new,X6_new,X7_new,X8_new,X9_new,X10_new,X11_new,X12_new,X13_new,X14_new,X15_new,X16_new)))\n",
    "Y_mat = np.asmatrix((np.row_stack((Y))))\n",
    "lambdas = [0.001,0.01,0.1,0.5,1,10]"
   ]
  },
  {
   "cell_type": "code",
   "execution_count": 224,
   "metadata": {},
   "outputs": [],
   "source": [
    "np.random.seed(1)\n",
    "X_train, X_test, Y_train, Y_test = train_test_split(X_mat,Y_mat,train_size=0.8)\n",
    "X_train, X_val, Y_train, Y_val = train_test_split(X_train,Y_train,train_size=.75)"
   ]
  },
  {
   "cell_type": "code",
   "execution_count": 225,
   "metadata": {},
   "outputs": [
    {
     "data": {
      "text/plain": [
       "[665765.6753544116,\n",
       " 8840151.31867511,\n",
       " 1315529.311467773,\n",
       " -2311763.6565368623,\n",
       " -3045537.360111652,\n",
       " -2847116.0996238044,\n",
       " -2311923.551615864,\n",
       " -1646165.3806960688,\n",
       " -975526.9670156973,\n",
       " -377796.7111575216,\n",
       " 112826.78280068895,\n",
       " 492863.246710301,\n",
       " 775178.3043666402,\n",
       " 978525.6526114416,\n",
       " 1121630.1119295966,\n",
       " 1220560.2061928147]"
      ]
     },
     "execution_count": 225,
     "metadata": {},
     "output_type": "execute_result"
    }
   ],
   "source": [
    "ridge_model.coef_[0].tolist()"
   ]
  },
  {
   "cell_type": "code",
   "execution_count": 226,
   "metadata": {},
   "outputs": [
    {
     "name": "stdout",
     "output_type": "stream",
     "text": [
      "For Penalty : 0.001000\n",
      "Training RMSE is 247033.264775 \n",
      "Validation RMSE is 291390.622584 \n",
      "Testing RMSE is 250848.208917 \n",
      "******\n",
      "For Penalty : 0.010000\n",
      "Training RMSE is 247154.313072 \n",
      "Validation RMSE is 274156.296095 \n",
      "Testing RMSE is 250494.248332 \n",
      "******\n",
      "For Penalty : 0.100000\n",
      "Training RMSE is 247892.814229 \n",
      "Validation RMSE is 266771.588713 \n",
      "Testing RMSE is 250986.546430 \n",
      "******\n",
      "For Penalty : 0.500000\n",
      "Training RMSE is 250264.482379 \n",
      "Validation RMSE is 275070.845456 \n",
      "Testing RMSE is 254294.074698 \n",
      "******\n",
      "For Penalty : 1.000000\n",
      "Training RMSE is 252129.041130 \n",
      "Validation RMSE is 281240.664697 \n",
      "Testing RMSE is 256812.365615 \n",
      "******\n",
      "For Penalty : 10.000000\n",
      "Training RMSE is 272041.229976 \n",
      "Validation RMSE is 315040.501230 \n",
      "Testing RMSE is 279748.466602 \n",
      "******\n"
     ]
    }
   ],
   "source": [
    "Weights = []\n",
    "for y in lambdas:\n",
    "    ridge_model = Ridge(alpha=y)\n",
    "    ridge_model.fit(X_train,Y_train)\n",
    "    Y_pred_train = ridge_model.predict(X_train)\n",
    "    print \"For Penalty : %f\" % y\n",
    "    print \"Training RMSE is %f \" % sqrt(mean_squared_error(Y_train,Y_pred_train))\n",
    "    Y_pred_val = ridge_model.predict(X_val)\n",
    "    print \"Validation RMSE is %f \" % sqrt(mean_squared_error(Y_val,Y_pred_val))\n",
    "    Y_pred_test = ridge_model.predict(X_test)\n",
    "    print \"Testing RMSE is %f \" % sqrt(mean_squared_error(Y_test,Y_pred_test))\n",
    "    Weights.append(ridge_model.coef_[0].tolist())\n",
    "    print \"******\""
   ]
  },
  {
   "cell_type": "code",
   "execution_count": 227,
   "metadata": {},
   "outputs": [
    {
     "name": "stdout",
     "output_type": "stream",
     "text": [
      "Optimized weights\n",
      "w0 : 257876.883126\n",
      "w1 : 2099831.709608\n",
      "w2 : 895726.391701\n",
      "w3 : 322005.646642\n",
      "w4 : 96915.418437\n",
      "w5 : 6212.925388\n",
      "w6 : -32976.216733\n",
      "w7 : -51165.974260\n",
      "w8 : -60134.953940\n",
      "w9 : -64769.088937\n",
      "w10 : -67248.231829\n",
      "w11 : -68608.904666\n",
      "w12 : -69370.021274\n",
      "w13 : -69801.914621\n",
      "w14 : -70049.726503\n",
      "w15 : -70193.176525\n",
      "w16 : -70276.815866\n"
     ]
    }
   ],
   "source": [
    "print \"Optimized weights\"\n",
    "print \"w0 : %f\" % ridge_model.intercept_\n",
    "print \"w1 : %f\" % ridge_model.coef_[0][0]\n",
    "print \"w2 : %f\" % ridge_model.coef_[0][1]\n",
    "print \"w3 : %f\" % ridge_model.coef_[0][2]\n",
    "print \"w4 : %f\" % ridge_model.coef_[0][3]\n",
    "print \"w5 : %f\" % ridge_model.coef_[0][4]\n",
    "print \"w6 : %f\" % ridge_model.coef_[0][5]\n",
    "print \"w7 : %f\" % ridge_model.coef_[0][6]\n",
    "print \"w8 : %f\" % ridge_model.coef_[0][7]\n",
    "print \"w9 : %f\" % ridge_model.coef_[0][8]\n",
    "print \"w10 : %f\" % ridge_model.coef_[0][9]\n",
    "print \"w11 : %f\" % ridge_model.coef_[0][10]\n",
    "print \"w12 : %f\" % ridge_model.coef_[0][11]\n",
    "print \"w13 : %f\" % ridge_model.coef_[0][12]\n",
    "print \"w14 : %f\" % ridge_model.coef_[0][13]\n",
    "print \"w15 : %f\" % ridge_model.coef_[0][14]\n",
    "print \"w16 : %f\" % ridge_model.coef_[0][15]"
   ]
  },
  {
   "cell_type": "code",
   "execution_count": 228,
   "metadata": {},
   "outputs": [
    {
     "data": {
      "image/png": "[encoded data removed]",
      "text/plain": [
       "<matplotlib.figure.Figure at 0x1a25b0d8d0>"
      ]
     },
     "metadata": {},
     "output_type": "display_data"
    }
   ],
   "source": [
    "Y_train_list = Y_train.T[0].tolist()[0]\n",
    "X_train_list = X_train[:,1].T.tolist()[0]\n",
    "plot_data(X_train_list,Y_train_list,Y_pred_train)"
   ]
  },
  {
   "cell_type": "code",
   "execution_count": 229,
   "metadata": {},
   "outputs": [
    {
     "data": {
      "text/plain": [
       "Text(0.5,1,u'Weight coefficients')"
      ]
     },
     "execution_count": 229,
     "metadata": {},
     "output_type": "execute_result"
    },
    {
     "data": {
      "image/png": "[encoded data removed]",
      "text/plain": [
       "<matplotlib.figure.Figure at 0x1a25c29350>"
      ]
     },
     "metadata": {},
     "output_type": "display_data"
    }
   ],
   "source": [
    "plt.plot(lambdas,Weights)\n",
    "plt.title(\"Weight coefficients\")"
   ]
  },
  {
   "cell_type": "markdown",
   "metadata": {},
   "source": [
    "## Best result achieved for penalty : 0.001\n",
    "For Penalty : 0.001000 <br />\n",
    "Training RMSE is 247033.264775 <br />\n",
    "Validation RMSE is 291390.622584 <br />\n",
    "Testing RMSE is 250848.208917 <br />"
   ]
  },
  {
   "cell_type": "markdown",
   "metadata": {},
   "source": [
    "## 2-7. Fit the data using 16th order polynomial regression model with scikit-learn Lasso model.\n",
    "You need to try at least 3 different L1 penalty (for example, λ = 0.1, 1, 10). Plot the data with the fitted line. Print optimized weight coefficients. Plot weight coefficients with L2 penalty. Print Root Mean Squared Error (RMSE)\n",
    "Deep Learning, CMPE 258-01, Spring, 2018 Page 3 of 3\n"
   ]
  },
  {
   "cell_type": "code",
   "execution_count": 230,
   "metadata": {},
   "outputs": [],
   "source": [
    "X_mat = np.asmatrix(np.column_stack((X,X2_new,X3_new,X4_new,X5_new,X6_new,X7_new,X8_new,X9_new,X10_new,X11_new,X12_new,X13_new,X14_new,X15_new,X16_new)))\n",
    "Y_mat = np.asmatrix((np.row_stack((Y))))\n",
    "lambdas = [0.00001,0.00001,0.001,0.01,0.1,0.5,1]"
   ]
  },
  {
   "cell_type": "code",
   "execution_count": 231,
   "metadata": {},
   "outputs": [],
   "source": [
    "np.random.seed(1)\n",
    "X_train, X_test, Y_train, Y_test = train_test_split(X_mat,Y_mat,train_size=0.8)\n",
    "X_train, X_val, Y_train, Y_val = train_test_split(X_train,Y_train,train_size=.75)"
   ]
  },
  {
   "cell_type": "code",
   "execution_count": 232,
   "metadata": {},
   "outputs": [
    {
     "name": "stdout",
     "output_type": "stream",
     "text": [
      "For Penalty : 0.000010\n",
      "Training RMSE is 246926.796974 \n",
      "Validation RMSE is 515419.686061 \n",
      "Testing RMSE is 251168.443908 \n",
      "******\n",
      "For Penalty : 0.000010\n",
      "Training RMSE is 246926.796974 \n",
      "Validation RMSE is 515419.686061 \n",
      "Testing RMSE is 251168.443908 \n",
      "******\n",
      "For Penalty : 0.001000\n",
      "Training RMSE is 247033.264775 \n",
      "Validation RMSE is 291390.622584 \n",
      "Testing RMSE is 250848.208917 \n",
      "******\n",
      "For Penalty : 0.010000\n",
      "Training RMSE is 247154.313072 \n",
      "Validation RMSE is 274156.296095 \n",
      "Testing RMSE is 250494.248332 \n",
      "******\n",
      "For Penalty : 0.100000\n",
      "Training RMSE is 247892.814229 \n",
      "Validation RMSE is 266771.588713 \n",
      "Testing RMSE is 250986.546430 \n",
      "******\n",
      "For Penalty : 0.500000\n",
      "Training RMSE is 250264.482379 \n",
      "Validation RMSE is 275070.845456 \n",
      "Testing RMSE is 254294.074698 \n",
      "******\n",
      "For Penalty : 1.000000\n",
      "Training RMSE is 252129.041130 \n",
      "Validation RMSE is 281240.664697 \n",
      "Testing RMSE is 256812.365615 \n",
      "******\n"
     ]
    }
   ],
   "source": [
    "Weights = []\n",
    "for y in lambdas:\n",
    "    lasso_model = Ridge(alpha=y)\n",
    "    lasso_model.fit(X_train,Y_train)\n",
    "    Y_pred_train = lasso_model.predict(X_train)\n",
    "    print \"For Penalty : %f\" % y\n",
    "    print \"Training RMSE is %f \" % sqrt(mean_squared_error(Y_train,Y_pred_train))\n",
    "    Y_pred_val = lasso_model.predict(X_val)\n",
    "    print \"Validation RMSE is %f \" % sqrt(mean_squared_error(Y_val,Y_pred_val))\n",
    "    Y_pred_test = lasso_model.predict(X_test)\n",
    "    print \"Testing RMSE is %f \" % sqrt(mean_squared_error(Y_test,Y_pred_test))\n",
    "    Weights.append(lasso_model.coef_[0])\n",
    "    print \"******\""
   ]
  },
  {
   "cell_type": "code",
   "execution_count": 233,
   "metadata": {},
   "outputs": [
    {
     "name": "stdout",
     "output_type": "stream",
     "text": [
      "Optimized weights\n",
      "w0 : 152733.737942\n",
      "w1 : 2689215.825887\n",
      "w2 : 2171559.712919\n",
      "w3 : 957449.929432\n",
      "w4 : 275949.240208\n",
      "w5 : -48179.228228\n",
      "w6 : -200798.796796\n",
      "w7 : -274753.922998\n",
      "w8 : -311850.352944\n",
      "w9 : -331030.659962\n",
      "w10 : -341188.198416\n",
      "w11 : -346666.440737\n",
      "w12 : -349661.839278\n",
      "w13 : -351316.712050\n",
      "w14 : -352238.208628\n",
      "w15 : -352754.442531\n",
      "w16 : -353044.997538\n"
     ]
    }
   ],
   "source": [
    "print \"Optimized weights\"\n",
    "print \"w0 : %f\" % lasso_model.intercept_\n",
    "print \"w1 : %f\" % lasso_model.coef_[0][0]\n",
    "print \"w2 : %f\" % lasso_model.coef_[0][1]\n",
    "print \"w3 : %f\" % lasso_model.coef_[0][2]\n",
    "print \"w4 : %f\" % lasso_model.coef_[0][3]\n",
    "print \"w5 : %f\" % lasso_model.coef_[0][4]\n",
    "print \"w6 : %f\" % lasso_model.coef_[0][5]\n",
    "print \"w7 : %f\" % lasso_model.coef_[0][6]\n",
    "print \"w8 : %f\" % lasso_model.coef_[0][7]\n",
    "print \"w9 : %f\" % lasso_model.coef_[0][8]\n",
    "print \"w10 : %f\" % lasso_model.coef_[0][9]\n",
    "print \"w11 : %f\" % lasso_model.coef_[0][10]\n",
    "print \"w12 : %f\" % lasso_model.coef_[0][11]\n",
    "print \"w13 : %f\" % lasso_model.coef_[0][12]\n",
    "print \"w14 : %f\" % lasso_model.coef_[0][13]\n",
    "print \"w15 : %f\" % lasso_model.coef_[0][14]\n",
    "print \"w16 : %f\" % lasso_model.coef_[0][15]"
   ]
  },
  {
   "cell_type": "code",
   "execution_count": 234,
   "metadata": {},
   "outputs": [
    {
     "data": {
      "image/png": "[encoded data removed]",
      "text/plain": [
       "<matplotlib.figure.Figure at 0x1a259b5750>"
      ]
     },
     "metadata": {},
     "output_type": "display_data"
    }
   ],
   "source": [
    "Y_train_list = Y_train.T[0].tolist()[0]\n",
    "X_train_list = X_train[:,1].T.tolist()[0]\n",
    "plot_data(X_train_list,Y_train_list,Y_pred_train)"
   ]
  },
  {
   "cell_type": "code",
   "execution_count": 235,
   "metadata": {},
   "outputs": [
    {
     "data": {
      "text/plain": [
       "Text(0.5,1,u'Weight coefficients')"
      ]
     },
     "execution_count": 235,
     "metadata": {},
     "output_type": "execute_result"
    },
    {
     "data": {
      "image/png": "[encoded data removed]",
      "text/plain": [
       "<matplotlib.figure.Figure at 0x10da052d0>"
      ]
     },
     "metadata": {},
     "output_type": "display_data"
    }
   ],
   "source": [
    "plt.plot(lambdas,Weights)\n",
    "plt.title(\"Weight coefficients\")"
   ]
  },
  {
   "cell_type": "markdown",
   "metadata": {},
   "source": [
    "## 3 (40pts). Regularization with Tensorflow\n",
    "Using Jupyter notebook, load the data (ex2data3.csv).\n",
    "This is California housing dataset. The original database is available from http://lib.stat.cmu.edu\n",
    "The data contains 20,640 observations on 9 variables. This dataset contains the average house value as target variable and the following input variables (features): average income, housing average age, average rooms, average bedrooms, population, average occupation, latitude, and longitude\n",
    "(R. Kelley and Ronald Barry, Sparse Spatial Autoregressions,\\ Statistics and Probability Letters, 33 (1997) 291-297) .\n",
    "You need to split the data into training/validation/testing data set as 60% / 20% / 20%.\n",
    "Please use np.random.seed(1) to have consistent data for evaluation.\n"
   ]
  },
  {
   "cell_type": "code",
   "execution_count": 236,
   "metadata": {},
   "outputs": [],
   "source": [
    "import tensorflow as tf\n",
    "from sklearn.datasets import fetch_california_housing\n",
    "housing = fetch_california_housing()"
   ]
  },
  {
   "cell_type": "code",
   "execution_count": 237,
   "metadata": {},
   "outputs": [
    {
     "name": "stdout",
     "output_type": "stream",
     "text": [
      "20640\n"
     ]
    }
   ],
   "source": [
    "m = len(housing.data)\n",
    "print m"
   ]
  },
  {
   "cell_type": "code",
   "execution_count": 238,
   "metadata": {},
   "outputs": [],
   "source": [
    "temp = pd.Series( (1 for i in range(0,m)) )"
   ]
  },
  {
   "cell_type": "code",
   "execution_count": 239,
   "metadata": {},
   "outputs": [],
   "source": [
    "X = housing.data[:,:-1]\n",
    "X = (X - np.mean(X))/np.std(X,axis=0) # Z-score normalization\n",
    "#X = minmax_normalize(X) # Min-Max Normalization\n",
    "Y = housing.data[:,-1]"
   ]
  },
  {
   "cell_type": "code",
   "execution_count": 240,
   "metadata": {},
   "outputs": [],
   "source": [
    "X_mat = np.asmatrix(np.column_stack((temp,X,np.power(X,2),np.power(X,3),np.power(X,4))))\n",
    "W_mat = np.asmatrix(np.array([0., 0., 0., 0., 0.])).T\n",
    "Y_mat = np.asmatrix((np.row_stack((Y))))\n"
   ]
  },
  {
   "cell_type": "code",
   "execution_count": 241,
   "metadata": {},
   "outputs": [],
   "source": [
    "np.random.seed(1)\n",
    "X_train, X_test, Y_train, Y_test = train_test_split(X_mat,Y_mat,train_size=0.8,test_size=0.2)\n",
    "X_train, X_val, Y_train, Y_val = train_test_split(X_train,Y_train,train_size=0.75)"
   ]
  },
  {
   "cell_type": "markdown",
   "metadata": {},
   "source": [
    "## 3-1. Fit the training data using regression model with ridge (L2 penalty) regularization with scikit-learn Ridge model.\n",
    "You need to try at least 3 different L2 penalty (for example, λ = 0.1, 1, 10). Search optimum L2 penalty based on Root Mean Squared Error (RMSE) of validation data. Print optimized weight coefficients. Plot weight coefficients with L2 penalty. Print Root Mean Squared Error (RMSE) for training/validation/test data.\n",
    "Note: Do not forget feature normalization\n"
   ]
  },
  {
   "cell_type": "code",
   "execution_count": 242,
   "metadata": {},
   "outputs": [
    {
     "name": "stdout",
     "output_type": "stream",
     "text": [
      "For Penalty : 0.001000\n",
      "Training RMSE is 0.595994 \n",
      "Validation RMSE is 1.262650 \n",
      "Testing RMSE is 0.615572 \n",
      "For Penalty : 0.010000\n",
      "Training RMSE is 0.596048 \n",
      "Validation RMSE is 1.069546 \n",
      "Testing RMSE is 0.615585 \n",
      "For Penalty : 0.100000\n",
      "Training RMSE is 0.596186 \n",
      "Validation RMSE is 0.982930 \n",
      "Testing RMSE is 0.615400 \n",
      "For Penalty : 0.500000\n",
      "Training RMSE is 0.597573 \n",
      "Validation RMSE is 0.983680 \n",
      "Testing RMSE is 0.615853 \n",
      "For Penalty : 1.000000\n",
      "Training RMSE is 0.599339 \n",
      "Validation RMSE is 0.989856 \n",
      "Testing RMSE is 0.616987 \n",
      "For Penalty : 10.000000\n",
      "Training RMSE is 0.606051 \n",
      "Validation RMSE is 0.985867 \n",
      "Testing RMSE is 0.622163 \n"
     ]
    },
    {
     "name": "stderr",
     "output_type": "stream",
     "text": [
      "/anaconda2/lib/python2.7/site-packages/scipy/linalg/basic.py:40: RuntimeWarning: scipy.linalg.solve\n",
      "Ill-conditioned matrix detected. Result is not guaranteed to be accurate.\n",
      "Reciprocal condition number/precision: 7.09812343614e-25 / 1.11022302463e-16\n",
      "  RuntimeWarning)\n",
      "/anaconda2/lib/python2.7/site-packages/scipy/linalg/basic.py:40: RuntimeWarning: scipy.linalg.solve\n",
      "Ill-conditioned matrix detected. Result is not guaranteed to be accurate.\n",
      "Reciprocal condition number/precision: 6.64937854392e-24 / 1.11022302463e-16\n",
      "  RuntimeWarning)\n",
      "/anaconda2/lib/python2.7/site-packages/scipy/linalg/basic.py:40: RuntimeWarning: scipy.linalg.solve\n",
      "Ill-conditioned matrix detected. Result is not guaranteed to be accurate.\n",
      "Reciprocal condition number/precision: 6.6026631313e-23 / 1.11022302463e-16\n",
      "  RuntimeWarning)\n",
      "/anaconda2/lib/python2.7/site-packages/scipy/linalg/basic.py:40: RuntimeWarning: scipy.linalg.solve\n",
      "Ill-conditioned matrix detected. Result is not guaranteed to be accurate.\n",
      "Reciprocal condition number/precision: 3.30190324587e-22 / 1.11022302463e-16\n",
      "  RuntimeWarning)\n",
      "/anaconda2/lib/python2.7/site-packages/scipy/linalg/basic.py:40: RuntimeWarning: scipy.linalg.solve\n",
      "Ill-conditioned matrix detected. Result is not guaranteed to be accurate.\n",
      "Reciprocal condition number/precision: 6.61032603098e-22 / 1.11022302463e-16\n",
      "  RuntimeWarning)\n",
      "/anaconda2/lib/python2.7/site-packages/scipy/linalg/basic.py:40: RuntimeWarning: scipy.linalg.solve\n",
      "Ill-conditioned matrix detected. Result is not guaranteed to be accurate.\n",
      "Reciprocal condition number/precision: 6.72407587202e-21 / 1.11022302463e-16\n",
      "  RuntimeWarning)\n"
     ]
    }
   ],
   "source": [
    "lambdas = [0.001,0.01,0.1,0.5,1,10]\n",
    "Weights = []\n",
    "for y in lambdas:\n",
    "    ridge_model = Ridge(alpha=y)\n",
    "    ridge_model.fit(X_train,Y_train)\n",
    "    Y_pred_train = ridge_model.predict(X_train)\n",
    "    print \"For Penalty : %f\" % y\n",
    "    print \"Training RMSE is %f \" % sqrt(mean_squared_error(Y_train,Y_pred_train))\n",
    "    Y_pred_val = ridge_model.predict(X_val)\n",
    "    print \"Validation RMSE is %f \" % sqrt(mean_squared_error(Y_val,Y_pred_val))\n",
    "    Y_pred_test = ridge_model.predict(X_test)\n",
    "    print \"Testing RMSE is %f \" % sqrt(mean_squared_error(Y_test,Y_pred_test))\n",
    "    Weights.append(ridge_model.coef_[0].tolist())"
   ]
  },
  {
   "cell_type": "code",
   "execution_count": 243,
   "metadata": {},
   "outputs": [
    {
     "name": "stdout",
     "output_type": "stream",
     "text": [
      "Optimized weights\n",
      "w0 : -5723.100988\n",
      "w1 : 0.000000\n",
      "w2 : 0.000629\n",
      "w3 : -0.029631\n",
      "w4 : 0.004126\n",
      "w5 : -0.000769\n",
      "w6 : -0.118405\n",
      "w7 : -0.131393\n",
      "w8 : 0.020867\n",
      "w9 : -0.050142\n",
      "w10 : 0.271262\n",
      "w11 : -0.169139\n",
      "w12 : 0.236023\n",
      "w13 : 0.030443\n",
      "w14 : -0.000424\n",
      "w15 : -1.164594\n",
      "w16 : -0.000279\n"
     ]
    }
   ],
   "source": [
    "print \"Optimized weights\"\n",
    "print \"w0 : %f\" % ridge_model.intercept_\n",
    "print \"w1 : %f\" % ridge_model.coef_[0][0]\n",
    "print \"w2 : %f\" % ridge_model.coef_[0][1]\n",
    "print \"w3 : %f\" % ridge_model.coef_[0][2]\n",
    "print \"w4 : %f\" % ridge_model.coef_[0][3]\n",
    "print \"w5 : %f\" % ridge_model.coef_[0][4]\n",
    "print \"w6 : %f\" % ridge_model.coef_[0][5]\n",
    "print \"w7 : %f\" % ridge_model.coef_[0][6]\n",
    "print \"w8 : %f\" % ridge_model.coef_[0][7]\n",
    "print \"w9 : %f\" % ridge_model.coef_[0][8]\n",
    "print \"w10 : %f\" % ridge_model.coef_[0][9]\n",
    "print \"w11 : %f\" % ridge_model.coef_[0][10]\n",
    "print \"w12 : %f\" % ridge_model.coef_[0][11]\n",
    "print \"w13 : %f\" % ridge_model.coef_[0][12]\n",
    "print \"w14 : %f\" % ridge_model.coef_[0][13]\n",
    "print \"w15 : %f\" % ridge_model.coef_[0][14]\n",
    "print \"w16 : %f\" % ridge_model.coef_[0][15]"
   ]
  },
  {
   "cell_type": "code",
   "execution_count": 244,
   "metadata": {},
   "outputs": [
    {
     "data": {
      "text/plain": [
       "Text(0.5,1,u'Weight coefficients')"
      ]
     },
     "execution_count": 244,
     "metadata": {},
     "output_type": "execute_result"
    },
    {
     "data": {
      "image/png": "[encoded data removed]",
      "text/plain": [
       "<matplotlib.figure.Figure at 0x10daebe50>"
      ]
     },
     "metadata": {},
     "output_type": "display_data"
    }
   ],
   "source": [
    "plt.plot(lambdas,Weights)\n",
    "plt.title(\"Weight coefficients\")"
   ]
  },
  {
   "cell_type": "markdown",
   "metadata": {},
   "source": [
    "## 3-2. Fit the training data using regression model with lasso (L1 penalty) regularization with scikit-learn Lasso model.\n",
    "You need to try at least 3 different L1 penalty (for example, λ = 0.1, 1, 10). Search optimum L1 penalty based on Root Mean Squared Error (RMSE) of validation data. Print optimized weight coefficients. Plot weight coefficients with L2 penalty. Print Root Mean Squared Error (RMSE) for training/validation/test data.\n",
    "Note: Do not forget feature normalization\n"
   ]
  },
  {
   "cell_type": "code",
   "execution_count": 245,
   "metadata": {},
   "outputs": [
    {
     "name": "stdout",
     "output_type": "stream",
     "text": [
      "For Penalty : 0.001000\n",
      "Training RMSE is 0.640461 \n",
      "Validation RMSE is 0.636043 \n",
      "Testing RMSE is 0.657463 \n",
      "For Penalty : 0.010000\n",
      "Training RMSE is 0.643844 \n",
      "Validation RMSE is 0.637571 \n",
      "Testing RMSE is 0.661647 \n",
      "For Penalty : 0.100000\n",
      "Training RMSE is 0.645881 \n",
      "Validation RMSE is 0.638607 \n",
      "Testing RMSE is 0.661652 \n"
     ]
    }
   ],
   "source": [
    "lambdas = [0.001,0.01,0.1]\n",
    "Weights = []\n",
    "for y in lambdas:\n",
    "    lasso_model = Lasso(alpha=y)\n",
    "    lasso_model.fit(X_train,Y_train)\n",
    "    Y_pred_train = lasso_model.predict(X_train)\n",
    "    print \"For Penalty : %f\" % y\n",
    "    print \"Training RMSE is %f \" % sqrt(mean_squared_error(Y_train,Y_pred_train))\n",
    "    Y_pred_val = lasso_model.predict(X_val)\n",
    "    print \"Validation RMSE is %f \" % sqrt(mean_squared_error(Y_val,Y_pred_val))\n",
    "    Y_pred_test = lasso_model.predict(X_test)\n",
    "    print \"Testing RMSE is %f \" % sqrt(mean_squared_error(Y_test,Y_pred_test))\n",
    "    Weights.append(lasso_model.coef_)"
   ]
  },
  {
   "cell_type": "code",
   "execution_count": 246,
   "metadata": {},
   "outputs": [
    {
     "name": "stdout",
     "output_type": "stream",
     "text": [
      "Optimized weights\n",
      "w0 : -83.200804\n",
      "w1 : 0.000000\n",
      "w2 : 0.000000\n",
      "w3 : -0.000000\n",
      "w4 : -0.000000\n",
      "w5 : 0.000000\n",
      "w6 : -0.000000\n",
      "w7 : -0.000000\n",
      "w8 : 0.000000\n",
      "w9 : -0.003616\n",
      "w10 : 0.000000\n",
      "w11 : 0.001032\n",
      "w12 : -0.000848\n",
      "w13 : -0.000000\n",
      "w14 : -0.000000\n",
      "w15 : -0.001740\n",
      "w16 : -0.000012\n"
     ]
    }
   ],
   "source": [
    "print \"Optimized weights\"\n",
    "print \"w0 : %f\" % lasso_model.intercept_\n",
    "print \"w1 : %f\" % lasso_model.coef_[0]\n",
    "print \"w2 : %f\" % lasso_model.coef_[1]\n",
    "print \"w3 : %f\" % lasso_model.coef_[2]\n",
    "print \"w4 : %f\" % lasso_model.coef_[3]\n",
    "print \"w5 : %f\" % lasso_model.coef_[4]\n",
    "print \"w6 : %f\" % lasso_model.coef_[5]\n",
    "print \"w7 : %f\" % lasso_model.coef_[6]\n",
    "print \"w8 : %f\" % lasso_model.coef_[7]\n",
    "print \"w9 : %f\" % lasso_model.coef_[8]\n",
    "print \"w10 : %f\" % lasso_model.coef_[9]\n",
    "print \"w11 : %f\" % lasso_model.coef_[10]\n",
    "print \"w12 : %f\" % lasso_model.coef_[11]\n",
    "print \"w13 : %f\" % lasso_model.coef_[12]\n",
    "print \"w14 : %f\" % lasso_model.coef_[13]\n",
    "print \"w15 : %f\" % lasso_model.coef_[14]\n",
    "print \"w16 : %f\" % lasso_model.coef_[15]"
   ]
  },
  {
   "cell_type": "code",
   "execution_count": 247,
   "metadata": {},
   "outputs": [
    {
     "data": {
      "text/plain": [
       "Text(0.5,1,u'Weight coefficients')"
      ]
     },
     "execution_count": 247,
     "metadata": {},
     "output_type": "execute_result"
    },
    {
     "data": {
      "image/png": "[encoded data removed]",
      "text/plain": [
       "<matplotlib.figure.Figure at 0x116e0f4d0>"
      ]
     },
     "metadata": {},
     "output_type": "display_data"
    }
   ],
   "source": [
    "plt.plot(lambdas,Weights)\n",
    "plt.title(\"Weight coefficients\")"
   ]
  },
  {
   "cell_type": "markdown",
   "metadata": {},
   "source": [
    "## 3-3. Fit the training data using regression model with ridge (L2 penalty) regularization using TensorFlow.\n",
    "You need to make gradient descent method instead of open source algorithm.\n",
    "You need to try at least 3 different L2 penalty (for example, λ = 0.1, 1, 10). Search optimum L2 penalty based on Root Mean Squared Error (RMSE) of validation data. Print optimized weight coefficients. Plot weight coefficients with L2 penalty. Print Root Mean Squared Error (RMSE) for training/validation/test data.\n",
    "Note: Do not forget feature normalization.\n"
   ]
  },
  {
   "cell_type": "code",
   "execution_count": 249,
   "metadata": {},
   "outputs": [],
   "source": [
    "x = tf.placeholder(tf.float32,[None,X_train.shape[1]])\n",
    "y = tf.placeholder(tf.float32,[None,1])"
   ]
  },
  {
   "cell_type": "code",
   "execution_count": 251,
   "metadata": {},
   "outputs": [
    {
     "ename": "ValueError",
     "evalue": "Dimensions must be equal, but are 29 and 9 for 'MatMul' (op: 'MatMul') with input shapes: [?,29], [9,1].",
     "output_type": "error",
     "traceback": [
      "\u001b[0;31m---------------------------------------------------------------------------\u001b[0m",
      "\u001b[0;31mValueError\u001b[0m                                Traceback (most recent call last)",
      "\u001b[0;32m<ipython-input-251-8dd25a45c048>\u001b[0m in \u001b[0;36m<module>\u001b[0;34m()\u001b[0m\n\u001b[1;32m      2\u001b[0m \u001b[0mlamb\u001b[0m \u001b[0;34m=\u001b[0m \u001b[0;36m0.1\u001b[0m\u001b[0;34m\u001b[0m\u001b[0m\n\u001b[1;32m      3\u001b[0m \u001b[0mrate\u001b[0m \u001b[0;34m=\u001b[0m \u001b[0;36m1\u001b[0m\u001b[0;34m\u001b[0m\u001b[0m\n\u001b[0;32m----> 4\u001b[0;31m \u001b[0my_pred\u001b[0m \u001b[0;34m=\u001b[0m \u001b[0mtf\u001b[0m\u001b[0;34m.\u001b[0m\u001b[0mmatmul\u001b[0m\u001b[0;34m(\u001b[0m\u001b[0mx\u001b[0m\u001b[0;34m,\u001b[0m \u001b[0mw\u001b[0m\u001b[0;34m)\u001b[0m\u001b[0;34m\u001b[0m\u001b[0m\n\u001b[0m\u001b[1;32m      5\u001b[0m \u001b[0merror\u001b[0m \u001b[0;34m=\u001b[0m \u001b[0my_pred\u001b[0m \u001b[0;34m-\u001b[0m \u001b[0my\u001b[0m\u001b[0;34m\u001b[0m\u001b[0m\n\u001b[1;32m      6\u001b[0m \u001b[0mrmse\u001b[0m \u001b[0;34m=\u001b[0m \u001b[0mtf\u001b[0m\u001b[0;34m.\u001b[0m\u001b[0msqrt\u001b[0m\u001b[0;34m(\u001b[0m\u001b[0mtf\u001b[0m\u001b[0;34m.\u001b[0m\u001b[0mreduce_mean\u001b[0m\u001b[0;34m(\u001b[0m\u001b[0mtf\u001b[0m\u001b[0;34m.\u001b[0m\u001b[0msquare\u001b[0m\u001b[0;34m(\u001b[0m\u001b[0merror\u001b[0m\u001b[0;34m)\u001b[0m\u001b[0;34m,\u001b[0m \u001b[0mname\u001b[0m\u001b[0;34m=\u001b[0m\u001b[0;34m\"rmse\"\u001b[0m\u001b[0;34m)\u001b[0m\u001b[0;34m)\u001b[0m\u001b[0;34m\u001b[0m\u001b[0m\n",
      "\u001b[0;32m/anaconda2/lib/python2.7/site-packages/tensorflow/python/ops/math_ops.pyc\u001b[0m in \u001b[0;36mmatmul\u001b[0;34m(a, b, transpose_a, transpose_b, adjoint_a, adjoint_b, a_is_sparse, b_is_sparse, name)\u001b[0m\n\u001b[1;32m   1799\u001b[0m     \u001b[0;32melse\u001b[0m\u001b[0;34m:\u001b[0m\u001b[0;34m\u001b[0m\u001b[0m\n\u001b[1;32m   1800\u001b[0m       return gen_math_ops._mat_mul(\n\u001b[0;32m-> 1801\u001b[0;31m           a, b, transpose_a=transpose_a, transpose_b=transpose_b, name=name)\n\u001b[0m\u001b[1;32m   1802\u001b[0m \u001b[0;34m\u001b[0m\u001b[0m\n\u001b[1;32m   1803\u001b[0m \u001b[0;34m\u001b[0m\u001b[0m\n",
      "\u001b[0;32m/anaconda2/lib/python2.7/site-packages/tensorflow/python/ops/gen_math_ops.pyc\u001b[0m in \u001b[0;36m_mat_mul\u001b[0;34m(a, b, transpose_a, transpose_b, name)\u001b[0m\n\u001b[1;32m   1261\u001b[0m   \"\"\"\n\u001b[1;32m   1262\u001b[0m   result = _op_def_lib.apply_op(\"MatMul\", a=a, b=b, transpose_a=transpose_a,\n\u001b[0;32m-> 1263\u001b[0;31m                                 transpose_b=transpose_b, name=name)\n\u001b[0m\u001b[1;32m   1264\u001b[0m   \u001b[0;32mreturn\u001b[0m \u001b[0mresult\u001b[0m\u001b[0;34m\u001b[0m\u001b[0m\n\u001b[1;32m   1265\u001b[0m \u001b[0;34m\u001b[0m\u001b[0m\n",
      "\u001b[0;32m/anaconda2/lib/python2.7/site-packages/tensorflow/python/framework/op_def_library.pyc\u001b[0m in \u001b[0;36mapply_op\u001b[0;34m(self, op_type_name, name, **keywords)\u001b[0m\n\u001b[1;32m    766\u001b[0m         op = g.create_op(op_type_name, inputs, output_types, name=scope,\n\u001b[1;32m    767\u001b[0m                          \u001b[0minput_types\u001b[0m\u001b[0;34m=\u001b[0m\u001b[0minput_types\u001b[0m\u001b[0;34m,\u001b[0m \u001b[0mattrs\u001b[0m\u001b[0;34m=\u001b[0m\u001b[0mattr_protos\u001b[0m\u001b[0;34m,\u001b[0m\u001b[0;34m\u001b[0m\u001b[0m\n\u001b[0;32m--> 768\u001b[0;31m                          op_def=op_def)\n\u001b[0m\u001b[1;32m    769\u001b[0m         \u001b[0;32mif\u001b[0m \u001b[0moutput_structure\u001b[0m\u001b[0;34m:\u001b[0m\u001b[0;34m\u001b[0m\u001b[0m\n\u001b[1;32m    770\u001b[0m           \u001b[0moutputs\u001b[0m \u001b[0;34m=\u001b[0m \u001b[0mop\u001b[0m\u001b[0;34m.\u001b[0m\u001b[0moutputs\u001b[0m\u001b[0;34m\u001b[0m\u001b[0m\n",
      "\u001b[0;32m/anaconda2/lib/python2.7/site-packages/tensorflow/python/framework/ops.pyc\u001b[0m in \u001b[0;36mcreate_op\u001b[0;34m(self, op_type, inputs, dtypes, input_types, name, attrs, op_def, compute_shapes, compute_device)\u001b[0m\n\u001b[1;32m   2336\u001b[0m                     original_op=self._default_original_op, op_def=op_def)\n\u001b[1;32m   2337\u001b[0m     \u001b[0;32mif\u001b[0m \u001b[0mcompute_shapes\u001b[0m\u001b[0;34m:\u001b[0m\u001b[0;34m\u001b[0m\u001b[0m\n\u001b[0;32m-> 2338\u001b[0;31m       \u001b[0mset_shapes_for_outputs\u001b[0m\u001b[0;34m(\u001b[0m\u001b[0mret\u001b[0m\u001b[0;34m)\u001b[0m\u001b[0;34m\u001b[0m\u001b[0m\n\u001b[0m\u001b[1;32m   2339\u001b[0m     \u001b[0mself\u001b[0m\u001b[0;34m.\u001b[0m\u001b[0m_add_op\u001b[0m\u001b[0;34m(\u001b[0m\u001b[0mret\u001b[0m\u001b[0;34m)\u001b[0m\u001b[0;34m\u001b[0m\u001b[0m\n\u001b[1;32m   2340\u001b[0m     \u001b[0mself\u001b[0m\u001b[0;34m.\u001b[0m\u001b[0m_record_op_seen_by_control_dependencies\u001b[0m\u001b[0;34m(\u001b[0m\u001b[0mret\u001b[0m\u001b[0;34m)\u001b[0m\u001b[0;34m\u001b[0m\u001b[0m\n",
      "\u001b[0;32m/anaconda2/lib/python2.7/site-packages/tensorflow/python/framework/ops.pyc\u001b[0m in \u001b[0;36mset_shapes_for_outputs\u001b[0;34m(op)\u001b[0m\n\u001b[1;32m   1717\u001b[0m       \u001b[0mshape_func\u001b[0m \u001b[0;34m=\u001b[0m \u001b[0m_call_cpp_shape_fn_and_require_op\u001b[0m\u001b[0;34m\u001b[0m\u001b[0m\n\u001b[1;32m   1718\u001b[0m \u001b[0;34m\u001b[0m\u001b[0m\n\u001b[0;32m-> 1719\u001b[0;31m   \u001b[0mshapes\u001b[0m \u001b[0;34m=\u001b[0m \u001b[0mshape_func\u001b[0m\u001b[0;34m(\u001b[0m\u001b[0mop\u001b[0m\u001b[0;34m)\u001b[0m\u001b[0;34m\u001b[0m\u001b[0m\n\u001b[0m\u001b[1;32m   1720\u001b[0m   \u001b[0;32mif\u001b[0m \u001b[0mshapes\u001b[0m \u001b[0;32mis\u001b[0m \u001b[0mNone\u001b[0m\u001b[0;34m:\u001b[0m\u001b[0;34m\u001b[0m\u001b[0m\n\u001b[1;32m   1721\u001b[0m     raise RuntimeError(\n",
      "\u001b[0;32m/anaconda2/lib/python2.7/site-packages/tensorflow/python/framework/ops.pyc\u001b[0m in \u001b[0;36mcall_with_requiring\u001b[0;34m(op)\u001b[0m\n\u001b[1;32m   1667\u001b[0m \u001b[0;34m\u001b[0m\u001b[0m\n\u001b[1;32m   1668\u001b[0m   \u001b[0;32mdef\u001b[0m \u001b[0mcall_with_requiring\u001b[0m\u001b[0;34m(\u001b[0m\u001b[0mop\u001b[0m\u001b[0;34m)\u001b[0m\u001b[0;34m:\u001b[0m\u001b[0;34m\u001b[0m\u001b[0m\n\u001b[0;32m-> 1669\u001b[0;31m     \u001b[0;32mreturn\u001b[0m \u001b[0mcall_cpp_shape_fn\u001b[0m\u001b[0;34m(\u001b[0m\u001b[0mop\u001b[0m\u001b[0;34m,\u001b[0m \u001b[0mrequire_shape_fn\u001b[0m\u001b[0;34m=\u001b[0m\u001b[0mTrue\u001b[0m\u001b[0;34m)\u001b[0m\u001b[0;34m\u001b[0m\u001b[0m\n\u001b[0m\u001b[1;32m   1670\u001b[0m \u001b[0;34m\u001b[0m\u001b[0m\n\u001b[1;32m   1671\u001b[0m   \u001b[0m_call_cpp_shape_fn_and_require_op\u001b[0m \u001b[0;34m=\u001b[0m \u001b[0mcall_with_requiring\u001b[0m\u001b[0;34m\u001b[0m\u001b[0m\n",
      "\u001b[0;32m/anaconda2/lib/python2.7/site-packages/tensorflow/python/framework/common_shapes.pyc\u001b[0m in \u001b[0;36mcall_cpp_shape_fn\u001b[0;34m(op, input_tensors_needed, input_tensors_as_shapes_needed, debug_python_shape_fn, require_shape_fn)\u001b[0m\n\u001b[1;32m    608\u001b[0m     res = _call_cpp_shape_fn_impl(op, input_tensors_needed,\n\u001b[1;32m    609\u001b[0m                                   \u001b[0minput_tensors_as_shapes_needed\u001b[0m\u001b[0;34m,\u001b[0m\u001b[0;34m\u001b[0m\u001b[0m\n\u001b[0;32m--> 610\u001b[0;31m                                   debug_python_shape_fn, require_shape_fn)\n\u001b[0m\u001b[1;32m    611\u001b[0m     \u001b[0;32mif\u001b[0m \u001b[0;32mnot\u001b[0m \u001b[0misinstance\u001b[0m\u001b[0;34m(\u001b[0m\u001b[0mres\u001b[0m\u001b[0;34m,\u001b[0m \u001b[0mdict\u001b[0m\u001b[0;34m)\u001b[0m\u001b[0;34m:\u001b[0m\u001b[0;34m\u001b[0m\u001b[0m\n\u001b[1;32m    612\u001b[0m       \u001b[0;31m# Handles the case where _call_cpp_shape_fn_impl calls unknown_shape(op).\u001b[0m\u001b[0;34m\u001b[0m\u001b[0;34m\u001b[0m\u001b[0m\n",
      "\u001b[0;32m/anaconda2/lib/python2.7/site-packages/tensorflow/python/framework/common_shapes.pyc\u001b[0m in \u001b[0;36m_call_cpp_shape_fn_impl\u001b[0;34m(op, input_tensors_needed, input_tensors_as_shapes_needed, debug_python_shape_fn, require_shape_fn)\u001b[0m\n\u001b[1;32m    674\u001b[0m       \u001b[0mmissing_shape_fn\u001b[0m \u001b[0;34m=\u001b[0m \u001b[0mTrue\u001b[0m\u001b[0;34m\u001b[0m\u001b[0m\n\u001b[1;32m    675\u001b[0m     \u001b[0;32melse\u001b[0m\u001b[0;34m:\u001b[0m\u001b[0;34m\u001b[0m\u001b[0m\n\u001b[0;32m--> 676\u001b[0;31m       \u001b[0;32mraise\u001b[0m \u001b[0mValueError\u001b[0m\u001b[0;34m(\u001b[0m\u001b[0merr\u001b[0m\u001b[0;34m.\u001b[0m\u001b[0mmessage\u001b[0m\u001b[0;34m)\u001b[0m\u001b[0;34m\u001b[0m\u001b[0m\n\u001b[0m\u001b[1;32m    677\u001b[0m \u001b[0;34m\u001b[0m\u001b[0m\n\u001b[1;32m    678\u001b[0m   \u001b[0;32mif\u001b[0m \u001b[0mmissing_shape_fn\u001b[0m\u001b[0;34m:\u001b[0m\u001b[0;34m\u001b[0m\u001b[0m\n",
      "\u001b[0;31mValueError\u001b[0m: Dimensions must be equal, but are 29 and 9 for 'MatMul' (op: 'MatMul') with input shapes: [?,29], [9,1]."
     ]
    }
   ],
   "source": [
    "w = tf.zeros([len(housing.data[0])+1, 1], tf.float32) \n",
    "lamb = 0.1\n",
    "rate = 1\n",
    "y_pred = tf.matmul(x, w)\n",
    "error = y_pred - y\n",
    "rmse = tf.sqrt(tf.reduce_mean(tf.square(error), name=\"rmse\"))\n",
    "cost = tf.add(rmse, (y/m)* tf.reduce_sum(tf.square(w)))\n",
    "gradients = (2/m)*tf.add(tf.matmul(tf.transpose(x), error), (y*w))\n",
    "get_new_weights = tf.assign(w, w - rate*gradients)\n",
    "\n",
    "learning_rates = [0.0001,0.001,0.01,0.1,1]\n",
    "lambdas = [0.01,0.1,0.5,1,10]\n",
    "Weights = []\n",
    "\n",
    "n_epochs = 1000\n",
    "init = tf.global_variables_initializer()\n",
    "with tf.Session() as sess:\n",
    "    for epoch in range(n_epochs):\n",
    "        sess.run(get_new_weights, feed_dict={X:X_train, Y:Y_train})\n",
    "        if epoch % 100 == 0:\n",
    "            print(\"Epoch\", epoch, \"RMSE =\", rmse.eval())    \n",
    "    Y_pred_train = sess.run(y_pred, feed_dict={X: X_train})\n",
    "    train_rmse = math.sqrt(sess.run(rmse, feed_dict={X:X_train, Y:Y_train}))\n",
    "    Y_pred_val = sess.run(y_pred, feed_dict={X: X_valid_tf})\n",
    "    val_rmse = math.sqrt(sess.run(rmse, feed_dict={X:X_val, Y:Y_val}))\n",
    "    print \"Training RMSE is : %f\" % train_rmse\n",
    "    print \"Validation RMSE is : %f \" % val_rmse"
   ]
  },
  {
   "cell_type": "markdown",
   "metadata": {},
   "source": [
    "## 3-4. Fit the training data using regression model with lasso (L1 penalty) regularization using TensorFlow.\n",
    "You need to make gradient descent method instead of open source algorithm.\n",
    "You need to try at least 3 different L1 penalty (for example, λ = 0.1, 1, 10). Search optimum L1 penalty based on Root Mean Squared Error (RMSE) of validation data. Print optimized weight coefficients. Plot weight coefficients with L2 penalty. Print Root Mean Squared Error (RMSE) for training/validation/test data.\n",
    "Note: Do not forget feature normalization."
   ]
  },
  {
   "cell_type": "code",
   "execution_count": null,
   "metadata": {},
   "outputs": [],
   "source": []
  },
  {
   "cell_type": "code",
   "execution_count": null,
   "metadata": {},
   "outputs": [],
   "source": []
  },
  {
   "cell_type": "code",
   "execution_count": null,
   "metadata": {},
   "outputs": [],
   "source": []
  }
 ],
 "metadata": {
  "kernelspec": {
   "display_name": "Python 2",
   "language": "python",
   "name": "python2"
  },
  "language_info": {
   "codemirror_mode": {
    "name": "ipython",
    "version": 2
   },
   "file_extension": ".py",
   "mimetype": "text/x-python",
   "name": "python",
   "nbconvert_exporter": "python",
   "pygments_lexer": "ipython2",
   "version": "2.7.14"
  }
 },
 "nbformat": 4,
 "nbformat_minor": 2
}
