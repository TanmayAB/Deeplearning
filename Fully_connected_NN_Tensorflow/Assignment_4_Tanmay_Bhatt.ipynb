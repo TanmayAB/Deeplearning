{
 "cells": [
  {
   "cell_type": "markdown",
   "metadata": {},
   "source": [
    "### Tanmay Bhatt\n",
    "### 011499072\n",
    "CMPE 258 <br />\n",
    "Assignmnt - 4 <br />\n",
    "Date: 03/23/2018 <br />"
   ]
  },
  {
   "cell_type": "code",
   "execution_count": 1,
   "metadata": {},
   "outputs": [],
   "source": [
    "import numpy as np\n",
    "import pandas as pd\n",
    "import tensorflow as tf\n",
    "import matplotlib.pyplot as plt\n",
    "from sklearn.model_selection import train_test_split\n",
    "import sklearn\n",
    "from numpy.random import uniform, seed\n",
    "tf.set_random_seed(10)"
   ]
  },
  {
   "cell_type": "markdown",
   "metadata": {},
   "source": [
    "## Best accuracy achieved with dropout (keep-prob) = 0.7 and learning rate - 0.04\n",
    "\n",
    "dropout(keep) probability :  0.7<br />\n",
    "    \n",
    "Final cost is :  1.4660227<br />\n",
    "\n",
    "Train accuracy :  99.62%<br />\n",
    "Test accuracy :  94.93% <br />"
   ]
  },
  {
   "cell_type": "markdown",
   "metadata": {},
   "source": [
    "## 1. (40pts) Define functions\n",
    "You may need to define the following functions.\n",
    "One-hot encoding\n",
    "Create placeholders\n",
    "initialize parameters using xavier initializer\n",
    "forward propagation with dropout regularization\n",
    "compute cost"
   ]
  },
  {
   "cell_type": "code",
   "execution_count": 2,
   "metadata": {},
   "outputs": [],
   "source": [
    "def placeholder_initializer():\n",
    "    X = tf.placeholder(shape=(None, input_neurons), dtype=tf.float32) \n",
    "    Y = tf.placeholder(shape=(None, output_neurons), dtype=tf.float32)\n",
    "    dropout_probaility = tf.placeholder(\"float\")\n",
    "    return X,Y,dropout_probaility"
   ]
  },
  {
   "cell_type": "code",
   "execution_count": 3,
   "metadata": {},
   "outputs": [],
   "source": [
    "def parameters_initializer():\n",
    "    W1 = tf.get_variable(\"W1\",shape=(X_train.shape[1],hidden1_neurons),dtype=tf.float32,initializer=tf.contrib.layers.xavier_initializer())\n",
    "    W2 = tf.get_variable(\"W2\",shape=(hidden1_neurons,hidden2_neurons),dtype=tf.float32,initializer=tf.contrib.layers.xavier_initializer())\n",
    "    W3 = tf.get_variable(\"W3\",shape=(hidden2_neurons,output_neurons),dtype=tf.float32,initializer=tf.contrib.layers.xavier_initializer())\n",
    "\n",
    "    B1 = tf.get_variable(\"B1\",shape=(hidden1_neurons),initializer=tf.zeros_initializer(),dtype=tf.float32)\n",
    "    B2 = tf.get_variable(\"B2\",shape=(hidden2_neurons),initializer=tf.zeros_initializer(),dtype=tf.float32)\n",
    "    B3 = tf.get_variable(\"B3\",shape=(output_neurons),initializer=tf.zeros_initializer(),dtype=tf.float32)\n",
    "    \n",
    "    \n",
    "    return W1,W2,W3,B1,B2,B3"
   ]
  },
  {
   "cell_type": "code",
   "execution_count": 4,
   "metadata": {},
   "outputs": [],
   "source": [
    "def forward_pass(dropout_prob):\n",
    "    global neural_dict\n",
    "    \n",
    "    z1 = tf.add(tf.matmul(X, neural_dict['W1']), neural_dict['B1'])\n",
    "    a1 = tf.nn.relu(z1)\n",
    "    a1 = tf.nn.dropout(a1, dropout_prob)\n",
    "    z2 = tf.add(tf.matmul(a1, neural_dict['W2']), neural_dict['B2'])\n",
    "    a2 = tf.nn.relu(z2)\n",
    "    a2 = tf.nn.dropout(a2, dropout_prob)\n",
    "    z3 = tf.add(tf.matmul(a2, neural_dict['W3']), neural_dict['B3'])\n",
    "    a3 = tf.nn.sigmoid(z3)\n",
    "\n",
    "    return a3"
   ]
  },
  {
   "cell_type": "code",
   "execution_count": 5,
   "metadata": {},
   "outputs": [],
   "source": [
    "def one_hot_encoding(mat):\n",
    "    list_of_list = []\n",
    "    for i in range(0,len(mat)):\n",
    "        small_list = np.zeros(np.max(mat)+1)\n",
    "        small_list[mat[i]] = 1\n",
    "        list_of_list.append(small_list)\n",
    "    result = np.array(list_of_list)\n",
    "    return result"
   ]
  },
  {
   "cell_type": "markdown",
   "metadata": {},
   "source": [
    "## 2. Split data\n",
    "Please split each data (Train & Test) set as input (x) and output (y) set.\n",
    "Input set is the columns starting 0 to 399.\n",
    "Output set is the column of ‘y’."
   ]
  },
  {
   "cell_type": "code",
   "execution_count": 6,
   "metadata": {},
   "outputs": [],
   "source": [
    "train_data = pd.read_csv(\"./ex4_train.csv\", index_col=0)\n",
    "test_data = pd.read_csv(\"./ex4_test.csv\", index_col=0)\n",
    "\n",
    "X_train = np.asarray(train_data.iloc[:,:(train_data.shape[1] -1 )])\n",
    "X_test =  np.asarray(test_data.iloc[:,:(test_data.shape[1] -1 )])\n",
    "\n",
    "Y_train = np.asarray(train_data['y'])\n",
    "Y_test =np.asarray(test_data['y'])\n",
    "\n",
    "Y_train = Y_train.tolist()\n",
    "Y_test = Y_test.tolist()"
   ]
  },
  {
   "cell_type": "markdown",
   "metadata": {},
   "source": [
    "## 3. Define number of neurons in each layer"
   ]
  },
  {
   "cell_type": "code",
   "execution_count": 7,
   "metadata": {},
   "outputs": [],
   "source": [
    "input_neurons = X_train.shape[1]\n",
    "hidden1_neurons = 200\n",
    "hidden2_neurons = 100\n",
    "output_neurons = 10"
   ]
  },
  {
   "cell_type": "markdown",
   "metadata": {},
   "source": [
    "## 4. (30pts) Neural Network model with 2 hidden layers\n",
    "Please build neural network model using input layer (400 neurons), 2 hidden layers, and output layer (10 neurons) using training data set.\n",
    "In tensorflow, you do not need to define backpropagation.\n",
    "Create placeholders\n",
    "Initialize parameters using xavier initializer\n",
    "Forward propagation with dropout regularization\n",
    "Compute cost\n",
    "Optimizer using Adam optimizer\n",
    "Update parameters"
   ]
  },
  {
   "cell_type": "markdown",
   "metadata": {},
   "source": [
    "#### Initializing Weights with Xavier initializer and Biases with zeros."
   ]
  },
  {
   "cell_type": "code",
   "execution_count": 8,
   "metadata": {},
   "outputs": [],
   "source": [
    "neural_dict = dict.fromkeys(['W1','W2','W3','B1','B2','B3'])"
   ]
  },
  {
   "cell_type": "code",
   "execution_count": 9,
   "metadata": {},
   "outputs": [
    {
     "name": "stdout",
     "output_type": "stream",
     "text": [
      "WARNING:tensorflow:From /Library/Frameworks/Python.framework/Versions/3.6/lib/python3.6/site-packages/tensorflow/contrib/learn/python/learn/datasets/base.py:198: retry (from tensorflow.contrib.learn.python.learn.datasets.base) is deprecated and will be removed in a future version.\n",
      "Instructions for updating:\n",
      "Use the retry module or similar alternatives.\n"
     ]
    }
   ],
   "source": [
    "neural_dict['W1'],neural_dict['W2'],neural_dict['W3'],neural_dict['B1'],neural_dict['B2'],neural_dict['B3'] = parameters_initializer()"
   ]
  },
  {
   "cell_type": "code",
   "execution_count": 10,
   "metadata": {},
   "outputs": [],
   "source": [
    "X,Y, dropout_prob = placeholder_initializer()"
   ]
  },
  {
   "cell_type": "code",
   "execution_count": 11,
   "metadata": {},
   "outputs": [
    {
     "name": "stdout",
     "output_type": "stream",
     "text": [
      "<tf.Variable 'W1:0' shape=(400, 200) dtype=float32_ref>\n",
      "<tf.Variable 'W2:0' shape=(200, 100) dtype=float32_ref>\n",
      "<tf.Variable 'W3:0' shape=(100, 10) dtype=float32_ref>\n",
      "<tf.Variable 'B1:0' shape=(200,) dtype=float32_ref>\n",
      "<tf.Variable 'B2:0' shape=(100,) dtype=float32_ref>\n",
      "<tf.Variable 'B3:0' shape=(10,) dtype=float32_ref>\n",
      "Tensor(\"Placeholder:0\", shape=(?, 400), dtype=float32)\n",
      "Tensor(\"Placeholder_1:0\", shape=(?, 10), dtype=float32)\n",
      "Tensor(\"Placeholder_2:0\", dtype=float32)\n"
     ]
    }
   ],
   "source": [
    "print(neural_dict['W1'])\n",
    "print(neural_dict['W2'])\n",
    "print(neural_dict['W3'])\n",
    "print(neural_dict['B1'])\n",
    "print(neural_dict['B2'])\n",
    "print(neural_dict['B3'])\n",
    "print(X)\n",
    "print(Y)\n",
    "print(dropout_prob)"
   ]
  },
  {
   "cell_type": "code",
   "execution_count": 12,
   "metadata": {},
   "outputs": [],
   "source": [
    "Y_train_one_hot = one_hot_encoding(Y_train)\n",
    "Y_test_one_hot = one_hot_encoding(Y_test)"
   ]
  },
  {
   "cell_type": "code",
   "execution_count": 13,
   "metadata": {},
   "outputs": [],
   "source": [
    "plot_object = {}"
   ]
  },
  {
   "cell_type": "code",
   "execution_count": 14,
   "metadata": {},
   "outputs": [],
   "source": [
    "dropout_probabilities = [0.3,0.7,0.9,1]\n",
    "rate = 0.004\n",
    "iterations = 500"
   ]
  },
  {
   "cell_type": "code",
   "execution_count": 15,
   "metadata": {},
   "outputs": [],
   "source": [
    "forward_result = forward_pass(dropout_prob)\n",
    "cost = tf.losses.softmax_cross_entropy(Y, forward_result)\n",
    "\n",
    "optimizer = tf.train.AdamOptimizer(learning_rate=rate).minimize(cost)\n",
    "\n",
    "accuracy = tf.metrics.accuracy(tf.argmax(Y, 1),tf.argmax(forward_pass(dropout_prob), 1))\n",
    "\n",
    "init = tf.global_variables_initializer()"
   ]
  },
  {
   "cell_type": "markdown",
   "metadata": {},
   "source": [
    "## 5. (10pts) Predictions\n",
    "Please predict digit using softmax function based the optimized parameters.\n",
    "Please calculate accuracy for the prediction using training data set and testing data set."
   ]
  },
  {
   "cell_type": "code",
   "execution_count": 16,
   "metadata": {},
   "outputs": [
    {
     "name": "stdout",
     "output_type": "stream",
     "text": [
      "dropout probability :  0.3\n",
      "\n",
      "At Iteration : 100 Cost is 1.558365\n",
      "At Iteration : 200 Cost is 1.516962\n",
      "At Iteration : 300 Cost is 1.503135\n",
      "At Iteration : 400 Cost is 1.493450\n",
      "At Iteration : 500 Cost is 1.488309\n",
      "\n",
      "Final cost is :  1.4883093\n",
      "\n",
      "Train accuracy :  0.99114287\n",
      "Test accuracy :  0.9393333\n",
      "\n",
      "**********\n",
      "\n",
      "dropout probability :  0.7\n",
      "\n",
      "At Iteration : 100 Cost is 1.492669\n",
      "At Iteration : 200 Cost is 1.473863\n",
      "At Iteration : 300 Cost is 1.468959\n",
      "At Iteration : 400 Cost is 1.466908\n",
      "At Iteration : 500 Cost is 1.466023\n",
      "\n",
      "Final cost is :  1.4660227\n",
      "\n",
      "Train accuracy :  0.99628574\n",
      "Test accuracy :  0.9493333\n",
      "\n",
      "**********\n",
      "\n",
      "dropout probability :  0.9\n",
      "\n",
      "At Iteration : 100 Cost is 1.485363\n",
      "At Iteration : 200 Cost is 1.471656\n",
      "At Iteration : 300 Cost is 1.467772\n",
      "At Iteration : 400 Cost is 1.466899\n",
      "At Iteration : 500 Cost is 1.466508\n",
      "\n",
      "Final cost is :  1.4665084\n",
      "\n",
      "Train accuracy :  0.99457145\n",
      "Test accuracy :  0.94733334\n",
      "\n",
      "**********\n",
      "\n",
      "dropout probability :  1\n",
      "\n",
      "At Iteration : 100 Cost is 1.482555\n",
      "At Iteration : 200 Cost is 1.476842\n",
      "At Iteration : 300 Cost is 1.474979\n",
      "At Iteration : 400 Cost is 1.474534\n",
      "At Iteration : 500 Cost is 1.474091\n",
      "\n",
      "Final cost is :  1.4740914\n",
      "\n",
      "Train accuracy :  0.98285717\n",
      "Test accuracy :  0.92733335\n",
      "\n",
      "**********\n",
      "\n"
     ]
    }
   ],
   "source": [
    "for dropout in dropout_probabilities:\n",
    "    count = 0\n",
    "    print(\"dropout probability : \",dropout)\n",
    "    print (\"\")\n",
    "    with tf.Session() as sess:\n",
    "        sess.run(init)\n",
    "        while count < iterations:\n",
    "            result = sess.run((optimizer, cost), feed_dict = {X: X_train, Y: Y_train_one_hot, dropout_prob: dropout})\n",
    "            count +=1\n",
    "            if count % 100 == 0:\n",
    "                print (\"At Iteration : %d Cost is %f\" % (count,result[1]))\n",
    "\n",
    "        print (\"\")\n",
    "        print(\"Final cost is : \", result[1])      \n",
    "\n",
    "        train_prediction = np.argmax(sess.run(forward_result, feed_dict = {X: X_train, Y: Y_train_one_hot, dropout_prob: 1.0}),1)\n",
    "        test_prediction = np.argmax(sess.run(forward_result, feed_dict = {X: X_test, Y: Y_test_one_hot, dropout_prob: 1.0}),1)\n",
    "\n",
    "        Y_train_labels = np.argmax(Y_train_one_hot,1)\n",
    "        Y_test_labels = np.argmax(Y_test_one_hot,1)\n",
    "        train_accuracy = sess.run(tf.reduce_mean(tf.cast(sess.run(tf.equal(train_prediction,Y_train_labels)), tf.float32)))\n",
    "        test_accuracy = sess.run(tf.reduce_mean(tf.cast(sess.run(tf.equal(test_prediction,Y_test_labels)), tf.float32)))\n",
    "\n",
    "        print (\"\")\n",
    "        print(\"Train accuracy : \", train_accuracy)\n",
    "        print(\"Test accuracy : \", test_accuracy)\n",
    "\n",
    "        plot_object[dropout] = {}\n",
    "        plot_object[dropout]['cost'] = result[1]\n",
    "        plot_object[dropout]['train_accuracy'] = train_accuracy\n",
    "        plot_object[dropout]['test_accuracy'] = test_accuracy\n",
    "\n",
    "        print (\"\")\n",
    "        print (\"**********\")\n",
    "        print (\"\")\n",
    "        sess.close()\n"
   ]
  },
  {
   "cell_type": "raw",
   "metadata": {},
   "source": [
    "Actual Output :\n",
    "\n",
    "dropout probability :  0.3\n",
    "\n",
    "At Iteration : 100 Cost is 1.558365\n",
    "At Iteration : 200 Cost is 1.516962\n",
    "At Iteration : 300 Cost is 1.503135\n",
    "At Iteration : 400 Cost is 1.493450\n",
    "At Iteration : 500 Cost is 1.488309\n",
    "\n",
    "Final cost is :  1.4883093\n",
    "\n",
    "Train accuracy :  0.99114287\n",
    "Test accuracy :  0.9393333\n",
    "\n",
    "**********\n",
    "\n",
    "dropout probability :  0.7\n",
    "\n",
    "At Iteration : 100 Cost is 1.492669\n",
    "At Iteration : 200 Cost is 1.473863\n",
    "At Iteration : 300 Cost is 1.468959\n",
    "At Iteration : 400 Cost is 1.466908\n",
    "At Iteration : 500 Cost is 1.466023\n",
    "\n",
    "Final cost is :  1.4660227\n",
    "\n",
    "Train accuracy :  0.99628574\n",
    "Test accuracy :  0.9493333\n",
    "\n",
    "**********\n",
    "\n",
    "dropout probability :  0.9\n",
    "\n",
    "At Iteration : 100 Cost is 1.485363\n",
    "At Iteration : 200 Cost is 1.471656\n",
    "At Iteration : 300 Cost is 1.467772\n",
    "At Iteration : 400 Cost is 1.466899\n",
    "At Iteration : 500 Cost is 1.466508\n",
    "\n",
    "Final cost is :  1.4665084\n",
    "\n",
    "Train accuracy :  0.99457145\n",
    "Test accuracy :  0.94733334\n",
    "\n",
    "**********\n",
    "\n",
    "dropout probability :  1\n",
    "\n",
    "At Iteration : 100 Cost is 1.482555\n",
    "At Iteration : 200 Cost is 1.476842\n",
    "At Iteration : 300 Cost is 1.474979\n",
    "At Iteration : 400 Cost is 1.474534\n",
    "At Iteration : 500 Cost is 1.474091\n",
    "\n",
    "Final cost is :  1.4740914\n",
    "\n",
    "Train accuracy :  0.98285717\n",
    "Test accuracy :  0.92733335\n",
    "\n",
    "**********"
   ]
  },
  {
   "cell_type": "markdown",
   "metadata": {},
   "source": [
    "## 6. (20pts) Optimization\n",
    "Please optimize your model using various probability in drop out."
   ]
  },
  {
   "cell_type": "code",
   "execution_count": 19,
   "metadata": {},
   "outputs": [
    {
     "data": {
      "image/png": "[encoded data removed]",
      "text/plain": [
       "<Figure size 720x432 with 1 Axes>"
      ]
     },
     "metadata": {},
     "output_type": "display_data"
    }
   ],
   "source": [
    "train = []\n",
    "test = []\n",
    "keys = []\n",
    "plt.figure(figsize=(10,6))\n",
    "plt.xlabel('Dropout')\n",
    "plt.ylabel('Training accuracy')\n",
    "plt.title(\"Dropout v Accuracy\")\n",
    "for key, value in plot_object.items():\n",
    "    keys.append(key)\n",
    "    train.append(plot_object[key]['train_accuracy'])\n",
    "    test.append(plot_object[key]['test_accuracy'])\n",
    "plt.scatter(keys,train)\n",
    "plt.scatter(keys,test)\n",
    "plt.plot(keys,train,label='Training accuracy')\n",
    "plt.plot(keys,test,label='Testing accuracy')\n",
    "plt.legend()\n",
    "plt.show()"
   ]
  }
 ],
 "metadata": {
  "kernelspec": {
   "display_name": "Python 3",
   "language": "python",
   "name": "python3"
  },
  "language_info": {
   "codemirror_mode": {
    "name": "ipython",
    "version": 3
   },
   "file_extension": ".py",
   "mimetype": "text/x-python",
   "name": "python",
   "nbconvert_exporter": "python",
   "pygments_lexer": "ipython3",
   "version": "3.6.5"
  }
 },
 "nbformat": 4,
 "nbformat_minor": 2
}
