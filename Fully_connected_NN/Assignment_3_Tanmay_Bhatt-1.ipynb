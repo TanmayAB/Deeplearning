{
 "cells": [
  {
   "cell_type": "markdown",
   "metadata": {},
   "source": [
    "### Tanmay Bhatt\n",
    "### 011499072\n",
    "CMPE 258 <br />\n",
    "Assignmnt - 3 <br />\n",
    "Date: 03/11/2018 <br />"
   ]
  },
  {
   "cell_type": "code",
   "execution_count": 1,
   "metadata": {},
   "outputs": [],
   "source": [
    "import numpy as np\n",
    "import pandas as pd\n",
    "import matplotlib.pyplot as plt\n",
    "from numpy.random import uniform, seed"
   ]
  },
  {
   "cell_type": "markdown",
   "metadata": {},
   "source": [
    "## 1. (40pts) Define functions\n",
    "Please define the following functions.\n",
    "One-hot encoding\n",
    "Sigmoid\n",
    "Forward propagation\n",
    "Backward propagation\n",
    "Gradient descent\n",
    "Softmax"
   ]
  },
  {
   "cell_type": "code",
   "execution_count": 2,
   "metadata": {},
   "outputs": [],
   "source": [
    "def sigmoid(z):\n",
    "    return 1/(1 + np.exp(-z))"
   ]
  },
  {
   "cell_type": "code",
   "execution_count": 3,
   "metadata": {},
   "outputs": [],
   "source": [
    "def sigmoid_derivative(a):\n",
    "    return a * (1-a)"
   ]
  },
  {
   "cell_type": "code",
   "execution_count": 4,
   "metadata": {},
   "outputs": [],
   "source": [
    "def softmax(z):\n",
    "    ez = np.exp(z)\n",
    "    return (ez/np.sum(ez,axis=1).reshape(-1,1))"
   ]
  },
  {
   "cell_type": "code",
   "execution_count": 5,
   "metadata": {},
   "outputs": [],
   "source": [
    "def forward_pass(X_mat):\n",
    "    \n",
    "    global neural_dict\n",
    "    W1 = neural_dict['W1']\n",
    "    W2 = neural_dict['W2']\n",
    "    B1 = neural_dict['B1']\n",
    "    B2 = neural_dict['B2']\n",
    "    \n",
    "    z1 = np.dot(X_mat,W1.T).T + B1\n",
    "    a1 = sigmoid(z1)\n",
    "    z2 = (np.dot(W2, a1)+ B2)\n",
    "    a2 = sigmoid(z2).T\n",
    "    neural_dict['a1'] = a1\n",
    "    neural_dict['a2'] = a2"
   ]
  },
  {
   "cell_type": "code",
   "execution_count": 6,
   "metadata": {},
   "outputs": [],
   "source": [
    "def one_hot_encoding(mat):\n",
    "    list_of_list = []\n",
    "    for i in range(0,len(mat)):\n",
    "        small_list = np.zeros(np.max(mat)+1)\n",
    "        small_list[mat[i]] = 1\n",
    "        list_of_list.append(small_list)\n",
    "    result = np.array(list_of_list)\n",
    "    return result"
   ]
  },
  {
   "cell_type": "code",
   "execution_count": 7,
   "metadata": {},
   "outputs": [],
   "source": [
    "def backward_pass():\n",
    "    m = X_train.shape[0]\n",
    "    y = Y_train_onehot\n",
    "    W1 = neural_dict['W1']\n",
    "    W2 = neural_dict['W2']\n",
    "    B1 = neural_dict['B1']\n",
    "    B2 = neural_dict['B2']\n",
    "    a1 = neural_dict['a1']\n",
    "    a2 = neural_dict['a2']\n",
    "\n",
    "    dl_dz2 = a2-y\n",
    "    dl_dw2 = np.dot(dl_dz2.T, a1.T)/m\n",
    "    dl_db2 = np.sum(dl_dz2.T, axis=1, keepdims=True)/m\n",
    "    dl_da1 = np.dot(dl_dz2, W2)\n",
    "    dl_dz1 = np.multiply(dl_da1.T,sigmoid_derivative(a1))\n",
    "    dl_dw1 = np.dot(dl_dz1, X_train)/m\n",
    "    dl_db1 = np.sum(dl_dz1, axis=1, keepdims=True)/m\n",
    "    \n",
    "    return dl_dw1, dl_dw2, dl_db1, dl_db2"
   ]
  },
  {
   "cell_type": "code",
   "execution_count": 8,
   "metadata": {},
   "outputs": [],
   "source": [
    "def calculate_loss():\n",
    "    a = neural_dict['a2']\n",
    "    y = Y_train_onehot\n",
    "    return (np.multiply(y,np.log(a)) + np.multiply((1-y),np.log(1-a)))"
   ]
  },
  {
   "cell_type": "code",
   "execution_count": 9,
   "metadata": {},
   "outputs": [],
   "source": [
    "def calculate_cost():\n",
    "    m = X_train.shape[0]\n",
    "    cost = -np.sum(calculate_loss())\n",
    "    return cost/m"
   ]
  },
  {
   "cell_type": "code",
   "execution_count": 10,
   "metadata": {},
   "outputs": [],
   "source": [
    "def gradient_descent(X_train,learning_rate,iterations=1000):\n",
    "   \n",
    "    global plot_object\n",
    "    global neural_dict\n",
    "    \n",
    "    neural_dict['W1'] = W1\n",
    "    neural_dict['W2'] = W2\n",
    "    neural_dict['B1'] = B1\n",
    "    neural_dict['B2'] = B2\n",
    "\n",
    "    all_costs = []\n",
    "    count = 0\n",
    "    forward_pass(X_train)\n",
    "    new_cost = calculate_cost()\n",
    "    current_cost = float(\"inf\")\n",
    "    while new_cost <= current_cost and count < iterations:\n",
    "        all_costs.append(new_cost)\n",
    "        count += 1        \n",
    "        dl_dw1, dl_dw2, dl_db1, dl_db2 = backward_pass()\n",
    "        \n",
    "        \n",
    "        neural_dict['W1'] = neural_dict['W1'] - (learning_rate * dl_dw1)\n",
    "        neural_dict['W2'] = neural_dict['W2'] - (learning_rate * dl_dw2)\n",
    "        neural_dict['B1'] = neural_dict['B1'] - (learning_rate * dl_db1)\n",
    "        neural_dict['B2'] = neural_dict['B2'] - (learning_rate * dl_db2)\n",
    "        \n",
    "        current_cost = new_cost\n",
    "        forward_pass(X_train)\n",
    "        new_cost = calculate_cost()\n",
    "        count +=1\n",
    "    plot_object[learning_rate] = all_costs\n",
    "    print \"Final cost : \",\n",
    "    print new_cost\n",
    "    print \"Iternations : %d\" % count"
   ]
  },
  {
   "cell_type": "code",
   "execution_count": 11,
   "metadata": {},
   "outputs": [],
   "source": [
    "\"\"\"\n",
    "Predicting results by performing Softmax on the result of forward pass on the testing data\n",
    "\"\"\"\n",
    "\n",
    "def predict(X_mat):\n",
    "    global neural_dict\n",
    "    \n",
    "    W1 = neural_dict['W1']\n",
    "    W2 = neural_dict['W2']\n",
    "    B1 = neural_dict['B1']\n",
    "    B2 = neural_dict['B2']\n",
    "    \n",
    "    z1 = np.dot(X_mat,W1.T).T + B1\n",
    "    a1 = sigmoid(z1)\n",
    "    z2 = (np.dot(W2, a1)+ B2)\n",
    "    a2 = softmax(z2).T\n",
    "    prediction = []\n",
    "    for i in a2:\n",
    "        prediction.append(np.argmax(i))\n",
    "    return prediction"
   ]
  },
  {
   "cell_type": "code",
   "execution_count": 12,
   "metadata": {},
   "outputs": [],
   "source": [
    "def calculate_accuracy(actual,predicted):\n",
    "    count = 0.0\n",
    "    for i in range(0,len(actual)):\n",
    "        if predicted[i] == actual[i]:\n",
    "            count+= 1\n",
    "    return count/len(actual)"
   ]
  },
  {
   "cell_type": "code",
   "execution_count": 13,
   "metadata": {},
   "outputs": [],
   "source": [
    "plot_object = {}"
   ]
  },
  {
   "cell_type": "markdown",
   "metadata": {},
   "source": [
    "## 2. (5pts) Split data\n",
    "Please split each data (Train & Test) set as input (x) and output (y) set.\n",
    "Input set is the columns starting 0 to 399.\n",
    "Output set is the column of ‘y’."
   ]
  },
  {
   "cell_type": "code",
   "execution_count": 14,
   "metadata": {},
   "outputs": [],
   "source": [
    "train_data = pd.read_csv(\"./ex3_train.csv\")\n",
    "test_data = pd.read_csv(\"./ex3_test.csv\")\n",
    "\n",
    "X_train = train_data.iloc[:,:(train_data.shape[1] -1 )]\n",
    "X_test =  test_data.iloc[:,:(test_data.shape[1] -1 )]\n",
    "\n",
    "Y_train = train_data['y']\n",
    "Y_test =test_data['y']\n",
    "Y_train_onehot = one_hot_encoding(Y_train)\n",
    "Y_test_onehot = one_hot_encoding(Y_test)\n",
    "\n",
    "Y_train = Y_train.tolist()\n",
    "Y_test = Y_test.tolist()"
   ]
  },
  {
   "cell_type": "markdown",
   "metadata": {},
   "source": [
    "## 3. (5pts) Initialize parameters\n",
    "Please use np.random.seed(1) when weight coefficients is initialized.\n",
    "Please set as zeros for bias terms."
   ]
  },
  {
   "cell_type": "code",
   "execution_count": 15,
   "metadata": {},
   "outputs": [],
   "source": [
    "hidden_neurons = 25\n",
    "output_neurons = 10\n",
    "np.random.seed(1)\n",
    "\n",
    "W1 = []\n",
    "for i in range(0,hidden_neurons):\n",
    "    sampl = np.random.uniform(low=-1, high=1, size=(X_train.shape[1]))\n",
    "    W1.append(sampl)\n",
    "W2 = []\n",
    "for i in range(0,output_neurons):\n",
    "    sampl = np.random.uniform(low=-1, high=1, size=(hidden_neurons))\n",
    "    W2.append(sampl)\n",
    "B1 = []\n",
    "for i in range(0,hidden_neurons):\n",
    "    B1.append([0])\n",
    "B2 = []\n",
    "for i in range(0,output_neurons):\n",
    "    B2.append([0])\n",
    "    \n",
    "W1 = np.array(W1)\n",
    "W2 = np.array(W2)\n",
    "B1 = np.array(B1)\n",
    "B2 = np.array(B2)"
   ]
  },
  {
   "cell_type": "markdown",
   "metadata": {},
   "source": [
    "## 4. (20pts) Neural Network model with 1 hidden layer\n",
    "Please build neural network model using input layer (400 neurons), 1 hidden layer (25 neurons), and output layer (10\n",
    "neurons) using training data set."
   ]
  },
  {
   "cell_type": "code",
   "execution_count": 16,
   "metadata": {},
   "outputs": [],
   "source": [
    "neural_dict = {}"
   ]
  },
  {
   "cell_type": "code",
   "execution_count": 17,
   "metadata": {},
   "outputs": [
    {
     "name": "stdout",
     "output_type": "stream",
     "text": [
      "Final cost :  3.32102945016\n",
      "Iternations : 500\n",
      "Learning rate : 0.010000\n",
      "Training accuracy : 0.140857 \n",
      "\n",
      "************\n",
      "\n",
      "Final cost :  2.18525907906\n",
      "Iternations : 500\n",
      "Learning rate : 0.100000\n",
      "Training accuracy : 0.619429 \n",
      "\n",
      "************\n",
      "\n",
      "Final cost :  1.09508005459\n",
      "Iternations : 500\n",
      "Learning rate : 0.500000\n",
      "Training accuracy : 0.836857 \n",
      "\n",
      "************\n",
      "\n",
      "Final cost :  0.917439042255\n",
      "Iternations : 500\n",
      "Learning rate : 0.700000\n",
      "Training accuracy : 0.866000 \n",
      "\n",
      "************\n",
      "\n",
      "Final cost :  0.766041218141\n",
      "Iternations : 500\n",
      "Learning rate : 1.000000\n",
      "Training accuracy : 0.897143 \n",
      "\n",
      "************\n",
      "\n"
     ]
    }
   ],
   "source": [
    "learning_rates = [0.01,0.1,0.5,0.7,1]\n",
    "plot_object = {}\n",
    "for rate in learning_rates:\n",
    "    gradient_descent(X_train,rate,500)\n",
    "    Y_pred = np.array(np.argmax(neural_dict['a2'], axis=1))\n",
    "    print \"Learning rate : %f\" % rate\n",
    "    print \"Training accuracy : %f \" % calculate_accuracy(Y_train,Y_pred)\n",
    "    print\n",
    "    print \"************\"\n",
    "    print"
   ]
  },
  {
   "cell_type": "markdown",
   "metadata": {},
   "source": [
    "## 5. (10pts) Predictions\n",
    "Please predict digit using softmax function.\n",
    "Please calculate accuracy for the prediction using training data set and testing data set."
   ]
  },
  {
   "cell_type": "code",
   "execution_count": 18,
   "metadata": {},
   "outputs": [
    {
     "name": "stdout",
     "output_type": "stream",
     "text": [
      "Final cost :  0.107004221111\n",
      "Iternations : 8000\n",
      "Training accuracy : 0.993429 \n",
      "Testing accuracy : 0.910667 \n"
     ]
    }
   ],
   "source": [
    "'''Would take about 2 Minutes'''\n",
    "\n",
    "gradient_descent(X_train,1,8000)\n",
    "Y_pred_train = np.array(np.argmax(neural_dict['a2'], axis=1))\n",
    "Y_pred_test = predict(X_test)\n",
    "print \"Training accuracy : %f \" % calculate_accuracy(Y_train,Y_pred_train)\n",
    "print \"Testing accuracy : %f \" % calculate_accuracy(Y_test,Y_pred_test)"
   ]
  },
  {
   "cell_type": "markdown",
   "metadata": {},
   "source": [
    "## 6. (20pts) Optimization\n",
    "Please optimize your model using various learning rate and number of iteration.\n",
    "Please plot cost versus number of iteration with different learning rate for training data set.\n",
    "Please print out the optimized accuracy for testing data set."
   ]
  },
  {
   "cell_type": "code",
   "execution_count": 19,
   "metadata": {},
   "outputs": [
    {
     "name": "stdout",
     "output_type": "stream",
     "text": [
      "Final cost :  3.11273973701\n",
      "Iternations : 1000\n",
      "Learning rate : 0.010000\n",
      "Training accuracy : 0.215143 \n",
      "Testing accuracy : 0.220000 \n",
      "\n",
      "************\n",
      "\n",
      "Final cost :  0.354720557248\n",
      "Iternations : 1000\n",
      "Learning rate : 2.000000\n",
      "Training accuracy : 0.955143 \n",
      "Testing accuracy : 0.907333 \n",
      "\n",
      "************\n",
      "\n",
      "Final cost :  0.529825934313\n",
      "Iternations : 1000\n",
      "Learning rate : 1.000000\n",
      "Training accuracy : 0.934000 \n",
      "Testing accuracy : 0.896667 \n",
      "\n",
      "************\n",
      "\n"
     ]
    }
   ],
   "source": [
    "learning_rates = [0.01,2,1]\n",
    "plot_object = {}\n",
    "# iterations = [500,700,1000,5000]\n",
    "train_results = []\n",
    "test_results = []\n",
    "for rate in learning_rates:\n",
    "#     for it in iterations:\n",
    "    gradient_descent(X_train,rate,1000)   #,it)\n",
    "    Y_pred_train = np.array(np.argmax(neural_dict['a2'], axis=1))\n",
    "    Y_pred_test = predict(X_test)\n",
    "    train_results.append(calculate_accuracy(Y_train,Y_pred_train))\n",
    "    test_results.append(calculate_accuracy(Y_test,Y_pred_test))\n",
    "    print \"Learning rate : %f\" % rate\n",
    "    print \"Training accuracy : %f \" % train_results[-1]\n",
    "    print \"Testing accuracy : %f \" % test_results[-1]\n",
    "    print\n",
    "    print \"************\"\n",
    "    print"
   ]
  },
  {
   "cell_type": "code",
   "execution_count": 20,
   "metadata": {},
   "outputs": [
    {
     "data": {
      "text/plain": [
       "<matplotlib.legend.Legend at 0x106609b90>"
      ]
     },
     "execution_count": 20,
     "metadata": {},
     "output_type": "execute_result"
    },
    {
     "data": {
      "image/png": "[encoded data removed]",
      "text/plain": [
       "<matplotlib.figure.Figure at 0x109ef4810>"
      ]
     },
     "metadata": {},
     "output_type": "display_data"
    }
   ],
   "source": [
    "plt.figure(figsize=(10,6))\n",
    "plt.xlabel('Iternations')\n",
    "plt.ylabel('Cost')\n",
    "plt.title(\"Cost v Iterations\")\n",
    "for key, value in plot_object.items():\n",
    "    plt.plot(range(0,len(value)),sorted(value,reverse=True),label='Learning rate' + str(key))\n",
    "plt.legend(learning_rates,title=\"Learning rates\")"
   ]
  },
  {
   "cell_type": "code",
   "execution_count": 21,
   "metadata": {},
   "outputs": [
    {
     "data": {
      "image/png": "[encoded data removed]",
      "text/plain": [
       "<matplotlib.figure.Figure at 0x10a1d6890>"
      ]
     },
     "metadata": {},
     "output_type": "display_data"
    }
   ],
   "source": [
    "N = len(learning_rates)\n",
    "\n",
    "\n",
    "ind = np.arange(N)  # the x locations for the groups\n",
    "width = 0.35       # the width of the bars\n",
    "\n",
    "\n",
    "fig, ax = plt.subplots()\n",
    "rects1 = ax.bar(ind, train_results, width, color='b', yerr=train_results)\n",
    "\n",
    "rects2 = ax.bar(ind + width, test_results, width, color='g', yerr=test_results)\n",
    "\n",
    "\n",
    "fig.set_figheight(8)\n",
    "fig.set_figwidth(10)\n",
    "\n",
    "# add some text for labels, title and axes ticks\n",
    "ax.set_ylabel('Scores')\n",
    "ax.set_title('Scores by group and gender')\n",
    "ax.set_xticks(ind + width / 2)\n",
    "ax.set_xticklabels((learning_rates))\n",
    "ax.set_ylim([0,1])\n",
    "\n",
    "ax.legend((rects1[0], rects2[0]), ('train', 'test'))\n",
    "\n",
    "plt.show()"
   ]
  },
  {
   "cell_type": "markdown",
   "metadata": {},
   "source": [
    "### Best accuracy achieved with rate 1 and Iterations 8000\n",
    "\n",
    "Final cost :  0.107004221111 <br />\n",
    "Iternations : 8000<br />\n",
    "Learning rate : 1<br />\n",
    "Training accuracy : 0.993429<br /> \n",
    "Testing accuracy : 0.910667 <br />\n",
    "\n",
    "### Quick second Best accuracy achieved with rate 2 and Iterations 1200\n",
    "Final cost :  0.3136009954 <br />\n",
    "Iternations : 1200 <br />\n",
    "Learning rate : 2<br />\n",
    "Training accuracy : 0.961714  <br />\n",
    "Testing accuracy : 0.908000 <br /> "
   ]
  }
 ],
 "metadata": {
  "kernelspec": {
   "display_name": "Python 2",
   "language": "python",
   "name": "python2"
  },
  "language_info": {
   "codemirror_mode": {
    "name": "ipython",
    "version": 2
   },
   "file_extension": ".py",
   "mimetype": "text/x-python",
   "name": "python",
   "nbconvert_exporter": "python",
   "pygments_lexer": "ipython2",
   "version": "2.7.14"
  }
 },
 "nbformat": 4,
 "nbformat_minor": 2
}
