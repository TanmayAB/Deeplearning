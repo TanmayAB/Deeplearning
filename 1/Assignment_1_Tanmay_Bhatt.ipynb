{
 "cells": [
  {
   "cell_type": "markdown",
   "metadata": {},
   "source": [
    "#### Tanmay Bhatt\n",
    "011499072\n",
    "CMPE 258\n",
    "Assignment 1"
   ]
  },
  {
   "cell_type": "markdown",
   "metadata": {},
   "source": [
    "### Import statements"
   ]
  },
  {
   "cell_type": "code",
   "execution_count": 55,
   "metadata": {},
   "outputs": [],
   "source": [
    "import numpy as np\n",
    "import matplotlib.pyplot as plt\n",
    "import pandas as pd\n",
    "from math import sqrt\n",
    "from sklearn.linear_model import LinearRegression\n",
    "from __future__ import division\n",
    "import tensorflow as tf\n",
    "from sklearn.metrics import mean_squared_error"
   ]
  },
  {
   "cell_type": "markdown",
   "metadata": {},
   "source": [
    "## 1 (10pts). Linear regression with one variable from scratch\n",
    "Using Jupyter notebook, load the data (ex1data1.csv). Visualize data using scatter plot.\n",
    "The first column is Population of City in 10,000s, and the second column is profit of food truck in 10,000.\n",
    "In order to predict the profit, fit the data using gradient descent method (without matrix). You need to calculate\n",
    "cost function and update weight using gradient descent method. Try several different learning rate. Please print\n",
    "Root Mean Squared Error (RMSE) after optimization."
   ]
  },
  {
   "cell_type": "code",
   "execution_count": 56,
   "metadata": {},
   "outputs": [],
   "source": [
    "data = pd.read_csv('./ex1data1.csv', header=None)"
   ]
  },
  {
   "cell_type": "code",
   "execution_count": 57,
   "metadata": {},
   "outputs": [
    {
     "name": "stdout",
     "output_type": "stream",
     "text": [
      "97\n"
     ]
    }
   ],
   "source": [
    "X = data[0]\n",
    "Y = data[1]\n",
    "m = len(data)\n",
    "print m"
   ]
  },
  {
   "cell_type": "code",
   "execution_count": 58,
   "metadata": {},
   "outputs": [],
   "source": [
    "def predict(x):\n",
    "    return w0 + w1*x\n",
    "\n",
    "def calculate_cost(Y_pred):\n",
    "    result = 0\n",
    "    for y_pred,y in zip(Y_pred,Y):\n",
    "        result += (y_pred - y)**2\n",
    "    result /=m\n",
    "    return result\n",
    "\n",
    "def cost_derivative_0(Y_pred):\n",
    "    result = 0\n",
    "    for y_pred,y in zip(Y_pred,Y):\n",
    "        result += (y_pred - y)\n",
    "    result *=2\n",
    "    result /=m\n",
    "    return result\n",
    "\n",
    "def cost_derivative_1(Y_pred):\n",
    "    result = 0\n",
    "    for y_pred,y,x in zip(Y_pred,Y,X):\n",
    "        result += (y_pred - y) * x\n",
    "    result *=2\n",
    "    result /=m\n",
    "    return result\n",
    "\n",
    "def calculate_weights(rate,Y_pred):\n",
    "    global w0\n",
    "    global w1\n",
    "    w0 = w0 - rate * cost_derivative_0(Y_pred)\n",
    "    w1 = w1 - rate * cost_derivative_1(Y_pred)"
   ]
  },
  {
   "cell_type": "code",
   "execution_count": 59,
   "metadata": {},
   "outputs": [
    {
     "name": "stdout",
     "output_type": "stream",
     "text": [
      "('RMSE before gradient descent', 8.009086574317406)\n"
     ]
    }
   ],
   "source": [
    "w0 = 0\n",
    "w1 = 0\n",
    "count = 0\n",
    "learning_rates = [0.1,0.01,0.001,0.0001,0.00001]\n",
    "max_count = 1000\n",
    "Y_pred = []\n",
    "for x in X:\n",
    "    Y_pred.append(predict(x))\n",
    "print(\"RMSE before gradient descent\",sqrt(calculate_cost(Y_pred)))"
   ]
  },
  {
   "cell_type": "code",
   "execution_count": 60,
   "metadata": {
    "scrolled": false
   },
   "outputs": [
    {
     "name": "stdout",
     "output_type": "stream",
     "text": [
      "Iterations : 1000\n",
      "Last Cost : 8.956041\n",
      "Second Last Cost : 8.956057 \n",
      "Learning rate : 0.010000 \n",
      "w0 : -3.788419 \n",
      "w1 : 1.182248\n",
      "RMSE : 2.992665\n",
      "\n",
      "\n"
     ]
    }
   ],
   "source": [
    "for rate  in learning_rates:\n",
    "    w0 = 0\n",
    "    w1 = 0\n",
    "    count = 0\n",
    "    max_count = 1000\n",
    "    w0 = 0\n",
    "    Y_pred = []\n",
    "    for x in X:\n",
    "        Y_pred.append(predict(x))\n",
    "    current_cost = calculate_cost(Y_pred)\n",
    "    new_cost = 1\n",
    "\n",
    "    while new_cost < current_cost and count < max_count:\n",
    "        current_cost = calculate_cost(Y_pred)\n",
    "        calculate_weights(rate,Y_pred)\n",
    "        Y_pred = []\n",
    "        for x in X:\n",
    "            Y_pred.append(predict(x))\n",
    "        new_cost = calculate_cost(Y_pred)\n",
    "        count += 1\n",
    "    print \"Iterations : %d\" % count\n",
    "    print \"Last Cost : %f\" % new_cost\n",
    "    print \"Second Last Cost : %f \" % current_cost \n",
    "    print \"Learning rate : %f \" % rate\n",
    "    print \"w0 : %f \" % w0\n",
    "    print \"w1 : %f\" % w1\n",
    "    print \"RMSE : %f\" % sqrt(calculate_cost(Y_pred))\n",
    "    print \"\\n\""
   ]
  },
  {
   "cell_type": "markdown",
   "metadata": {},
   "source": [
    "### Best Result with Learning rate : 0.010000 \n",
    "\n",
    "Iterations : 1000 <br />\n",
    "Last Cost : 8.956041 <br />\n",
    "Second Last Cost : 8.956057 <br /> \n",
    "Learning rate : 0.010000 <br />\n",
    "w0 : -3.788419 <br />\n",
    "w1 : 1.182248 <br />\n",
    "RMSE : 2.992665 <br />"
   ]
  },
  {
   "cell_type": "code",
   "execution_count": 61,
   "metadata": {},
   "outputs": [
    {
     "data": {
      "image/png": "[encoded data removed]",
      "text/plain": [
       "<matplotlib.figure.Figure at 0x113318b90>"
      ]
     },
     "metadata": {},
     "output_type": "display_data"
    }
   ],
   "source": [
    "plt.scatter(data[0],data[1])\n",
    "plt.plot(data[0],Y_pred)\n",
    "plt.show()"
   ]
  },
  {
   "cell_type": "markdown",
   "metadata": {},
   "source": [
    "## 2(30pts). Linear regression with two variables from scratch\n",
    "Using Jupyter notebook, load the data (ex1data2.csv). Visualize data.\n",
    "The first column is the size of the house (in square feet), the second column is the number of bedrooms, and the\n",
    "third column is the price of the house.\n",
    "In order to predict the housing price, fit the data using gradient descent method (without matrix). You need to\n",
    "normalize variables. You need to calculate cost function and update weight using gradient descent method. Try\n",
    "several different learning rate. Please print the Root Mean Squared Error (RMSE) after optimization."
   ]
  },
  {
   "cell_type": "code",
   "execution_count": 62,
   "metadata": {},
   "outputs": [],
   "source": [
    "data = pd.read_csv('ex1data2.csv', header=None)"
   ]
  },
  {
   "cell_type": "code",
   "execution_count": 63,
   "metadata": {},
   "outputs": [],
   "source": [
    "X1 = data[0]\n",
    "X2 = data[1]\n",
    "Y = data[2]\n",
    "m = len(data)\n",
    "\n",
    "X1 = X1.astype(float) \n",
    "X2 = X2.astype(float)"
   ]
  },
  {
   "cell_type": "code",
   "execution_count": 64,
   "metadata": {},
   "outputs": [
    {
     "name": "stdout",
     "output_type": "stream",
     "text": [
      "852.0\n",
      "4478.0\n"
     ]
    }
   ],
   "source": [
    "X1_min = X1.min()\n",
    "print (X1_min)\n",
    "X1_max = X1.max()\n",
    "print X1_max"
   ]
  },
  {
   "cell_type": "code",
   "execution_count": 65,
   "metadata": {},
   "outputs": [],
   "source": [
    "X1_min = X1.min()\n",
    "X1_max = X1.max()\n",
    "X2_min = X2.min()\n",
    "X2_max = X2.max()\n",
    "i = 0\n",
    "for x1,x2 in zip(X1,X2):\n",
    "    X1[i] = ((x1 - X1_min)/(X1_max - X1_min))\n",
    "    X2[i] = ((x2 - X2_min)/(X2_max - X2_min))\n",
    "    i += 1"
   ]
  },
  {
   "cell_type": "code",
   "execution_count": 66,
   "metadata": {},
   "outputs": [],
   "source": [
    "def predict(x1,x2):\n",
    "    return w0 + w1*x1 + w2*x2\n",
    "\n",
    "def calculate_cost(Y_pred):\n",
    "    result = 0\n",
    "    for y_pred,y in zip(Y_pred,Y):\n",
    "        result += (y_pred - y)**2\n",
    "    result /=m\n",
    "    return result\n",
    "\n",
    "def cost_derivative_0(Y_pred):\n",
    "    result = 0\n",
    "    for y_pred,y in zip(Y_pred,Y):\n",
    "        result += (y_pred - y)\n",
    "    result *=2\n",
    "    result /=m\n",
    "    return result\n",
    "\n",
    "def cost_derivative_1(Y_pred):\n",
    "    result = 0\n",
    "    for y_pred,y,x1 in zip(Y_pred,Y,X1):\n",
    "        result += (y_pred - y) * x1\n",
    "    result *=2\n",
    "    result /=m\n",
    "    return result\n",
    "def cost_derivative_2(Y_pred):\n",
    "    result = 0\n",
    "    for y_pred,y,x2 in zip(Y_pred,Y,X2):\n",
    "        result += (y_pred - y) * x2\n",
    "    result *=2\n",
    "    result /=m\n",
    "    return result\n",
    "\n",
    "def calculate_weights(rate,Y_pred):\n",
    "    global w0\n",
    "    global w1\n",
    "    global w2\n",
    "    w0 = w0 - rate * cost_derivative_0(Y_pred)\n",
    "    w1 = w1 - rate * cost_derivative_1(Y_pred)\n",
    "    w2 = w2 - rate * cost_derivative_2(Y_pred)"
   ]
  },
  {
   "cell_type": "code",
   "execution_count": 67,
   "metadata": {},
   "outputs": [
    {
     "name": "stdout",
     "output_type": "stream",
     "text": [
      "('RMSE before gradient descent', 362192.17480415246)\n"
     ]
    }
   ],
   "source": [
    "w0 = 0\n",
    "w1 = 0\n",
    "w2 = 0\n",
    "count = 0\n",
    "learning_rates = [0.1,0.01,0.001,0.0001,0.00001,0.000001,0.0000001,0.00000000001]\n",
    "max_count = 1000\n",
    "Y_pred = []\n",
    "for x1,x2 in zip(X1,X2):\n",
    "    Y_pred.append(predict(x1,x2))\n",
    "print(\"RMSE before gradient descent\",sqrt(calculate_cost(Y_pred)))"
   ]
  },
  {
   "cell_type": "code",
   "execution_count": 68,
   "metadata": {},
   "outputs": [
    {
     "name": "stdout",
     "output_type": "stream",
     "text": [
      "Iterations : 1000\n",
      "Last Cost : 4089308608.459870\n",
      "Second Last Cost : 4089326941.073368 \n",
      "Learning rate : 0.100000 \n",
      "w0 : 196128.655623 \n",
      "w1 : 497677.618939\n",
      "w2 : -24754.055071\n",
      "RMSE : 63947.702136\n",
      "\n",
      "\n"
     ]
    }
   ],
   "source": [
    "for rate  in learning_rates:\n",
    "    w0 = 0\n",
    "    w1 = 0\n",
    "    w2 = 0\n",
    "    count = 0\n",
    "    max_count = 1000\n",
    "    Y_pred = []\n",
    "    for x1,x2 in zip(X1,X2):\n",
    "        Y_pred.append(predict(x1,x2))\n",
    "    len(Y_pred)\n",
    "    current_cost = calculate_cost(Y_pred)\n",
    "    new_cost = 1\n",
    "\n",
    "    while new_cost < current_cost and count < max_count:\n",
    "        current_cost = calculate_cost(Y_pred)\n",
    "        calculate_weights(rate,Y_pred)\n",
    "        Y_pred = []\n",
    "        for x1,x2 in zip(X1,X2):\n",
    "            Y_pred.append(predict(x1,x2))\n",
    "        new_cost = calculate_cost(Y_pred)\n",
    "        count += 1\n",
    "    print \"Iterations : %d\" % count\n",
    "    print \"Last Cost : %lf\" % new_cost\n",
    "    print \"Second Last Cost : %f \" % current_cost \n",
    "    print \"Learning rate : %f \" % rate\n",
    "    print \"w0 : %f \" % w0\n",
    "    print \"w1 : %f\" % w1\n",
    "    print \"w2 : %f\" % w2\n",
    "    print \"RMSE : %f\" % sqrt(calculate_cost(Y_pred))\n",
    "    print \"\\n\""
   ]
  },
  {
   "cell_type": "markdown",
   "metadata": {},
   "source": [
    "### Best Result with Learning rate : 0.10000 \n",
    "\n",
    "Iterations : 1000 <br />\n",
    "Last Cost : 4089308608.459870 <br />\n",
    "Second Last Cost : 4089326941.073368 <br />\n",
    "Learning rate : 0.100000 <br />\n",
    "w0 : 196128.655623 <br />\n",
    "w1 : 497677.618939 <br />\n",
    "w2 : -24754.055071 <br />\n",
    "RMSE : 63947.702136 <br />"
   ]
  },
  {
   "cell_type": "code",
   "execution_count": 69,
   "metadata": {},
   "outputs": [
    {
     "data": {
      "text/plain": [
       "[<matplotlib.lines.Line2D at 0x1a27a04910>]"
      ]
     },
     "execution_count": 69,
     "metadata": {},
     "output_type": "execute_result"
    },
    {
     "data": {
      "image/png": "[encoded data removed]",
      "text/plain": [
       "<matplotlib.figure.Figure at 0x1a27a04610>"
      ]
     },
     "metadata": {},
     "output_type": "display_data"
    }
   ],
   "source": [
    "plt.scatter(data[0],data[1])\n",
    "plt.plot(data[0],Y_pred)"
   ]
  },
  {
   "cell_type": "markdown",
   "metadata": {},
   "source": [
    "## 2-1. Linear regression with two variables using matrix\n",
    "Fit the data (ex1data2.csv) using matrix calculation. You need to normalize variables. You need to calculate\n",
    "cost function and update weight.\n",
    "Please print the Root Mean Squared Error (RMSE) after optimization."
   ]
  },
  {
   "cell_type": "code",
   "execution_count": 16,
   "metadata": {},
   "outputs": [],
   "source": [
    "X1 = data[0]\n",
    "X2 = data[1]\n",
    "Y = data[2]\n",
    "m = len(data)\n",
    "\n",
    "X1 = X1.astype(float) \n",
    "X2 = X2.astype(float)"
   ]
  },
  {
   "cell_type": "code",
   "execution_count": 17,
   "metadata": {},
   "outputs": [],
   "source": [
    "X1_min = X1.min()\n",
    "X1_max = X1.max()\n",
    "X2_min = X2.min()\n",
    "X2_max = X2.max()\n",
    "i = 0\n",
    "for x1,x2 in zip(X1,X2):\n",
    "    X1[i] = ((x1 - X1_min)/(X1_max - X1_min))\n",
    "    X2[i] = ((x2 - X2_min)/(X2_max - X2_min))\n",
    "    i += 1"
   ]
  },
  {
   "cell_type": "code",
   "execution_count": 18,
   "metadata": {},
   "outputs": [],
   "source": [
    "temp = pd.Series( (1 for i in range(0,len(data))) )"
   ]
  },
  {
   "cell_type": "code",
   "execution_count": 19,
   "metadata": {},
   "outputs": [],
   "source": [
    "X_mat = np.asmatrix((np.column_stack((temp,X1,X2))))\n",
    "W_mat = np.asmatrix(np.array([0., 0., 0.])).T\n",
    "Y_mat = np.asmatrix((np.row_stack((Y))))\n",
    "learning_rates = [0.1,0.01,0.001,0.0001,0.00001,0.000001,0.0000001,0.00000000001]"
   ]
  },
  {
   "cell_type": "code",
   "execution_count": 20,
   "metadata": {},
   "outputs": [
    {
     "name": "stdout",
     "output_type": "stream",
     "text": [
      "(47, 3)\n",
      "(47, 1)\n",
      "(3, 1)\n"
     ]
    }
   ],
   "source": [
    "print(X_mat).shape\n",
    "print(Y_mat).shape\n",
    "print(W_mat).shape"
   ]
  },
  {
   "cell_type": "code",
   "execution_count": 21,
   "metadata": {},
   "outputs": [],
   "source": [
    "def calculate_cost():\n",
    "    result =  np.dot((np.matmul(X_mat,W_mat) - Y_mat).T,(np.matmul(X_mat,W_mat) - Y_mat))\n",
    "    result /=m\n",
    "    return float(result)\n",
    "\n",
    "def cost_derivative():\n",
    "    result = (np.matmul(np.matmul(X_mat.T,X_mat),W_mat)-(np.matmul(X_mat.T,Y_mat)))\n",
    "    result *= 2\n",
    "    result /=m\n",
    "    return result\n",
    "\n",
    "def calculate_weights(rate):\n",
    "    global W_mat\n",
    "    W_mat = W_mat - rate*cost_derivative()"
   ]
  },
  {
   "cell_type": "code",
   "execution_count": 22,
   "metadata": {},
   "outputs": [
    {
     "name": "stdout",
     "output_type": "stream",
     "text": [
      "Iterations : 1000\n",
      "Last Cost : 4089308608.459871\n",
      "Second Last Cost : 4089326941.073368 \n",
      "Learning rate : 0.100000 \n",
      "w0 : 196128.655623 \n",
      "w1 : 497677.618939\n",
      "w2 : -24754.055071\n",
      "RMSE : 63947.702136\n",
      "\n",
      "\n",
      "Iterations : 1000\n",
      "Last Cost : 5748738122.622198\n",
      "Second Last Cost : 5750576554.169697 \n",
      "Learning rate : 0.010000 \n",
      "w0 : 184853.786354 \n",
      "w1 : 278567.520649\n",
      "w2 : 126710.056154\n",
      "RMSE : 75820.433411\n",
      "\n",
      "\n",
      "Iterations : 1000\n",
      "Last Cost : 9796267918.101746\n",
      "Second Last Cost : 9799444614.727167 \n",
      "Learning rate : 0.001000 \n",
      "w0 : 220503.260541 \n",
      "w1 : 105019.575118\n",
      "w2 : 130537.263266\n",
      "RMSE : 98976.097711\n",
      "\n",
      "\n",
      "Iterations : 1000\n",
      "Last Cost : 78893814028.973938\n",
      "Second Last Cost : 78932753412.426193 \n",
      "Learning rate : 0.000100 \n",
      "w0 : 59194.384597 \n",
      "w1 : 23144.181378\n",
      "w2 : 33994.496394\n",
      "RMSE : 280880.426568\n",
      "\n",
      "\n",
      "Iterations : 1000\n",
      "Last Cost : 124532273309.633743\n",
      "Second Last Cost : 124538738613.938934 \n",
      "Learning rate : 0.000010 \n",
      "w0 : 6711.735791 \n",
      "w1 : 2582.754669\n",
      "w2 : 3845.450319\n",
      "RMSE : 352891.305234\n",
      "\n",
      "\n",
      "Iterations : 1000\n",
      "Last Cost : 130501084928.845078\n",
      "Second Last Cost : 130501765095.757126 \n",
      "Learning rate : 0.000001 \n",
      "w0 : 679.852159 \n",
      "w1 : 261.213596\n",
      "w2 : 389.429800\n",
      "RMSE : 361249.339001\n",
      "\n",
      "\n",
      "Iterations : 1000\n",
      "Last Cost : 131114789685.871964\n",
      "Second Last Cost : 131114858048.413910 \n",
      "Learning rate : 0.000000 \n",
      "w0 : 68.072811 \n",
      "w1 : 26.151014\n",
      "w2 : 38.992283\n",
      "RMSE : 362097.762608\n",
      "\n",
      "\n",
      "Iterations : 1000\n",
      "Last Cost : 131183164649.254089\n",
      "Second Last Cost : 131183164656.094162 \n",
      "Learning rate : 0.000000 \n",
      "w0 : 0.006808 \n",
      "w1 : 0.002615\n",
      "w2 : 0.003900\n",
      "RMSE : 362192.165362\n",
      "\n",
      "\n"
     ]
    }
   ],
   "source": [
    "for rate  in learning_rates:\n",
    "    W_mat = np.asmatrix(np.array([0., 0., 0.])).T\n",
    "    count = 0\n",
    "    max_count = 1000\n",
    "    current_cost = calculate_cost()\n",
    "    new_cost = 0\n",
    "    while new_cost < current_cost and count < max_count:\n",
    "        current_cost = calculate_cost()\n",
    "        calculate_weights(rate)\n",
    "        new_cost = calculate_cost()\n",
    "        count += 1\n",
    "    print \"Iterations : %d\" % count\n",
    "    print \"Last Cost : %lf\" % new_cost\n",
    "    print \"Second Last Cost : %f \" % current_cost \n",
    "    print \"Learning rate : %f \" % rate\n",
    "    print \"w0 : %f \" % W_mat[0]\n",
    "    print \"w1 : %f\" % W_mat[1]\n",
    "    print \"w2 : %f\" % W_mat[2]\n",
    "    print \"RMSE : %f\" % sqrt(calculate_cost())\n",
    "    print \"\\n\""
   ]
  },
  {
   "cell_type": "markdown",
   "metadata": {},
   "source": [
    "## Best Result with Learning rate : 0.10000 \n",
    "\n",
    "Iterations : 1000 <br/>\n",
    "Last Cost : 4089308608.459870 <br/>\n",
    "Second Last Cost : 4089326941.073366 <br/> \n",
    "Learning rate : 0.100000 <br/>\n",
    "w0 : 196128.655623 <br/>\n",
    "w1 : 497677.618939<br/>\n",
    "w2 : -24754.055071<br/>\n",
    "RMSE : 63947.702136<br/>\n"
   ]
  },
  {
   "cell_type": "markdown",
   "metadata": {},
   "source": [
    "## 2-2. Linear regression with two variables using Normal equation\n",
    "Fit the data (ex1data2.csv) using Normal equation. You need to calculate cost function and update weight"
   ]
  },
  {
   "cell_type": "code",
   "execution_count": 23,
   "metadata": {},
   "outputs": [],
   "source": [
    "X1 = data[0]\n",
    "X2 = data[1]\n",
    "Y = data[2]\n",
    "m = len(data)\n",
    "\n",
    "X1 = X1.astype(float) \n",
    "X2 = X2.astype(float)"
   ]
  },
  {
   "cell_type": "code",
   "execution_count": 24,
   "metadata": {},
   "outputs": [],
   "source": [
    "X1_min = X1.min()\n",
    "X1_max = X1.max()\n",
    "X2_min = X2.min()\n",
    "X2_max = X2.max()\n",
    "i = 0\n",
    "for x1,x2 in zip(X1,X2):\n",
    "    X1[i] = ((x1 - X1_min)/(X1_max - X1_min))\n",
    "    X2[i] = ((x2 - X2_min)/(X2_max - X2_min))\n",
    "    i += 1"
   ]
  },
  {
   "cell_type": "code",
   "execution_count": 25,
   "metadata": {},
   "outputs": [],
   "source": [
    "temp = pd.Series( (1 for i in range(0,len(data))) )"
   ]
  },
  {
   "cell_type": "code",
   "execution_count": 26,
   "metadata": {},
   "outputs": [],
   "source": [
    "X_mat = np.asmatrix((np.column_stack((temp,X1,X2))))\n",
    "W_mat = np.asmatrix(np.array([0., 0., 0.])).T\n",
    "Y_mat = np.asmatrix((np.row_stack((Y))))"
   ]
  },
  {
   "cell_type": "code",
   "execution_count": 27,
   "metadata": {},
   "outputs": [
    {
     "name": "stdout",
     "output_type": "stream",
     "text": [
      "(47, 3)\n",
      "(47, 1)\n",
      "(3, 1)\n"
     ]
    }
   ],
   "source": [
    "print(X_mat).shape\n",
    "print(Y_mat).shape\n",
    "print(W_mat).shape"
   ]
  },
  {
   "cell_type": "code",
   "execution_count": 28,
   "metadata": {},
   "outputs": [],
   "source": [
    "def weight_function():\n",
    "    global Y_mat\n",
    "    result = np.matmul(np.matmul(np.matmul(X_mat.T,X_mat).I,X_mat.T),Y_mat)\n",
    "    \n",
    "    return result\n",
    "def predict_Y(theta):\n",
    "    result = np.matmul(X_mat,theta)\n",
    "    return result\n",
    "def calculate_cost(Y_pred):\n",
    "    result = 0\n",
    "    for i in range(0,len(Y_pred)):\n",
    "        result += (Y_pred[i] - Y_mat[i])**2\n",
    "    result /=m\n",
    "    return result   "
   ]
  },
  {
   "cell_type": "code",
   "execution_count": 29,
   "metadata": {},
   "outputs": [],
   "source": [
    "theta = weight_function()\n",
    "Y_pred = predict_Y(theta)"
   ]
  },
  {
   "cell_type": "code",
   "execution_count": 30,
   "metadata": {},
   "outputs": [
    {
     "name": "stdout",
     "output_type": "stream",
     "text": [
      "w0 : 199467.311263 \n",
      "w1 : 504777.761242\n",
      "w2 : -34951.661681\n",
      "RMSE : 63926.214926\n",
      "\n",
      "\n"
     ]
    }
   ],
   "source": [
    "print \"w0 : %f \" % theta[0]\n",
    "print \"w1 : %f\" % theta[1]\n",
    "print \"w2 : %f\" % theta[2]\n",
    "print \"RMSE : %f\" % sqrt(calculate_cost(Y_pred))\n",
    "print \"\\n\""
   ]
  },
  {
   "cell_type": "markdown",
   "metadata": {},
   "source": [
    "## Result for Normal equation\n",
    "\n",
    "w0 : 199467.311263 <br />\n",
    "w1 : 504777.761242 <br />\n",
    "w2 : -34951.661681 <br />\n",
    "RMSE : 63926.214926 <br />"
   ]
  },
  {
   "cell_type": "markdown",
   "metadata": {},
   "source": [
    "## 3(60pts). Linear regression with multiple variables\n",
    "Using Jupyter notebook, load the data (ex1data3.csv).\n",
    "This is California housing dataset. The original database is available from http://lib.stat.cmu.edu\n",
    "The data contains 20,640 observations on 9 variables. This dataset contains the average house value as target\n",
    "variable and the following input variables (features): average income, housing average age, average rooms,\n",
    "average bedrooms, population, average occupation, latitude, and longitude\n",
    "(R. Kelley and Ronald Barry, Sparse Spatial Autoregressions,\\nStatistics and Probability Letters, 33 (1997)\n",
    "291-297) ."
   ]
  },
  {
   "cell_type": "markdown",
   "metadata": {},
   "source": [
    "## 3-1. Linear regression with multiple variables using matrix\n",
    "Fit the data (ex1data3.csv) using matrix calculation. You need to calculate cost function and update weight.\n",
    "You need to normalize variables. Please print the Root Mean Squared Error (RMSE) after optimization."
   ]
  },
  {
   "cell_type": "code",
   "execution_count": 31,
   "metadata": {},
   "outputs": [],
   "source": [
    "data = pd.read_csv('./ex1data3.csv', header=None)"
   ]
  },
  {
   "cell_type": "code",
   "execution_count": 32,
   "metadata": {},
   "outputs": [],
   "source": [
    "X1 = data[0]\n",
    "X2 = data[1]\n",
    "X3 = data[2]\n",
    "X4 = data[3]\n",
    "X5 = data[4]\n",
    "X6 = data[5]\n",
    "X7 = data[6]\n",
    "X8 = data[7]\n",
    "Y = data[8]\n",
    "m = len(data)\n",
    "\n",
    "X1 = X1.astype(float) \n",
    "X2 = X2.astype(float)\n",
    "X3 = X3.astype(float) \n",
    "X4 = X4.astype(float)\n",
    "X5 = X5.astype(float) \n",
    "X6 = X6.astype(float)\n",
    "X7 = X7.astype(float) \n",
    "X8 = X8.astype(float)"
   ]
  },
  {
   "cell_type": "code",
   "execution_count": 33,
   "metadata": {},
   "outputs": [],
   "source": [
    "X1_min = X1.min()\n",
    "X2_min = X2.min()\n",
    "X3_min = X3.min()\n",
    "X4_min = X4.min()\n",
    "X5_min = X5.min()\n",
    "X6_min = X6.min()\n",
    "X7_min = X7.min()\n",
    "X8_min = X8.min()\n",
    "X1_max = X1.max()\n",
    "X2_max = X2.max()\n",
    "X3_max = X3.max()\n",
    "X4_max = X4.max()\n",
    "X5_max = X5.max()\n",
    "X6_max = X6.max()\n",
    "X7_max = X7.max()\n",
    "X8_max = X8.max()"
   ]
  },
  {
   "cell_type": "code",
   "execution_count": 34,
   "metadata": {},
   "outputs": [],
   "source": [
    "i = 0\n",
    "for x1,x2,x3,x4,x5,x6,x7,x8 in zip(X1,X2,X3,X4,X5,X6,X7,X8):\n",
    "    X1[i] = ((x1 - X1_min)/(X1_max - X1_min))\n",
    "    X2[i] = ((x2 - X2_min)/(X2_max - X2_min))\n",
    "    X3[i] = ((x3 - X3_min)/(X3_max - X3_min))\n",
    "    X4[i] = ((x4 - X4_min)/(X4_max - X4_min))\n",
    "    X5[i] = ((x5 - X5_min)/(X5_max - X5_min))\n",
    "    X6[i] = ((x6 - X6_min)/(X6_max - X6_min))\n",
    "    X7[i] = ((x7 - X7_min)/(X7_max - X7_min))\n",
    "    X8[i] = ((x8 - X8_min)/(X8_max - X8_min))\n",
    "    i += 1"
   ]
  },
  {
   "cell_type": "code",
   "execution_count": 35,
   "metadata": {},
   "outputs": [],
   "source": [
    "temp = pd.Series( (1 for i in range(0,len(data))) )"
   ]
  },
  {
   "cell_type": "code",
   "execution_count": 36,
   "metadata": {},
   "outputs": [],
   "source": [
    "X_mat = np.asmatrix((np.column_stack((temp,X1,X2,X3,X4,X5,X6,X7,X8))))\n",
    "W_mat = np.asmatrix(np.array([0., 0., 0., 0., 0., 0., 0., 0., 0.])).T\n",
    "Y_mat = np.asmatrix((np.row_stack((Y))))\n",
    "learning_rates = [0.1,0.01,0.001,0.0001,0.00001,0.000001,0.0000001,0.00000000001]"
   ]
  },
  {
   "cell_type": "code",
   "execution_count": 37,
   "metadata": {},
   "outputs": [],
   "source": [
    "def calculate_cost():\n",
    "    result =  np.dot((np.matmul(X_mat,W_mat) - Y_mat).T,(np.matmul(X_mat,W_mat) - Y_mat))\n",
    "    result /=m\n",
    "    return float(result)\n",
    "\n",
    "def cost_derivative():\n",
    "    result = (np.matmul(np.matmul(X_mat.T,X_mat),W_mat)-(np.matmul(X_mat.T,Y_mat)))\n",
    "    result *= 2\n",
    "    result /=m\n",
    "    return result\n",
    "\n",
    "def calculate_weights(rate):\n",
    "    global W_mat\n",
    "    W_mat = W_mat - rate*cost_derivative()"
   ]
  },
  {
   "cell_type": "code",
   "execution_count": 38,
   "metadata": {
    "scrolled": false
   },
   "outputs": [
    {
     "name": "stdout",
     "output_type": "stream",
     "text": [
      "Iterations : 1000\n",
      "Last Cost : 0.579215\n",
      "Second Last Cost : 0.579251 \n",
      "Learning rate : 0.100000 \n",
      "w0 : 1.703980 \n",
      "w1 : 5.861136\n",
      "w2 : 0.776703\n",
      "w3 : 0.154956 \n",
      "w4 : 0.072752\n",
      "w5 : 0.142323\n",
      "w6 : -0.063152 \n",
      "w7 : -1.788810\n",
      "w8 : -1.780212\n",
      "RMSE : 0.761062\n",
      "\n",
      "\n",
      "Iterations : 1000\n",
      "Last Cost : 0.959612\n",
      "Second Last Cost : 0.959848 \n",
      "Learning rate : 0.010000 \n",
      "w0 : 1.191202 \n",
      "w1 : 2.005130\n",
      "w2 : 0.626023\n",
      "w3 : 0.089956 \n",
      "w4 : 0.016753\n",
      "w5 : 0.053652\n",
      "w6 : -0.003183 \n",
      "w7 : -0.103988\n",
      "w8 : 0.213868\n",
      "RMSE : 0.979598\n",
      "\n",
      "\n",
      "Iterations : 1000\n",
      "Last Cost : 1.258245\n",
      "Second Last Cost : 1.258322 \n",
      "Learning rate : 0.001000 \n",
      "w0 : 1.176971 \n",
      "w1 : 0.476372\n",
      "w2 : 0.645939\n",
      "w3 : 0.044408 \n",
      "w4 : 0.025288\n",
      "w5 : 0.047160\n",
      "w6 : 0.001749 \n",
      "w7 : 0.319798\n",
      "w8 : 0.533617\n",
      "RMSE : 1.121715\n",
      "\n",
      "\n",
      "Iterations : 1000\n",
      "Last Cost : 3.482436\n",
      "Second Last Cost : 3.483925 \n",
      "Learning rate : 0.000100 \n",
      "w0 : 0.350871 \n",
      "w1 : 0.102299\n",
      "w2 : 0.195047\n",
      "w3 : 0.012016 \n",
      "w4 : 0.007792\n",
      "w5 : 0.013852\n",
      "w6 : 0.000625 \n",
      "w7 : 0.107888\n",
      "w8 : 0.164840\n",
      "RMSE : 1.866129\n",
      "\n",
      "\n",
      "Iterations : 1000\n",
      "Last Cost : 5.327325\n",
      "Second Last Cost : 5.327598 \n",
      "Learning rate : 0.000010 \n",
      "w0 : 0.040678 \n",
      "w1 : 0.011536\n",
      "w2 : 0.022634\n",
      "w3 : 0.001383 \n",
      "w4 : 0.000905\n",
      "w5 : 0.001604\n",
      "w6 : 0.000073 \n",
      "w7 : 0.012612\n",
      "w8 : 0.019155\n",
      "RMSE : 2.308100\n",
      "\n",
      "\n",
      "Iterations : 1000\n",
      "Last Cost : 5.581297\n",
      "Second Last Cost : 5.581326 \n",
      "Learning rate : 0.000001 \n",
      "w0 : 0.004130 \n",
      "w1 : 0.001168\n",
      "w2 : 0.002298\n",
      "w3 : 0.000140 \n",
      "w4 : 0.000092\n",
      "w5 : 0.000163\n",
      "w6 : 0.000007 \n",
      "w7 : 0.001282\n",
      "w8 : 0.001945\n",
      "RMSE : 2.362477\n",
      "\n",
      "\n",
      "Iterations : 1000\n",
      "Last Cost : 5.607556\n",
      "Second Last Cost : 5.607559 \n",
      "Learning rate : 0.000000 \n",
      "w0 : 0.000414 \n",
      "w1 : 0.000117\n",
      "w2 : 0.000230\n",
      "w3 : 0.000014 \n",
      "w4 : 0.000009\n",
      "w5 : 0.000016\n",
      "w6 : 0.000001 \n",
      "w7 : 0.000128\n",
      "w8 : 0.000195\n",
      "RMSE : 2.368028\n",
      "\n",
      "\n",
      "Iterations : 1000\n",
      "Last Cost : 5.610483\n",
      "Second Last Cost : 5.610483 \n",
      "Learning rate : 0.000000 \n",
      "w0 : 0.000000 \n",
      "w1 : 0.000000\n",
      "w2 : 0.000000\n",
      "w3 : 0.000000 \n",
      "w4 : 0.000000\n",
      "w5 : 0.000000\n",
      "w6 : 0.000000 \n",
      "w7 : 0.000000\n",
      "w8 : 0.000000\n",
      "RMSE : 2.368646\n",
      "\n",
      "\n"
     ]
    }
   ],
   "source": [
    "for rate  in learning_rates:\n",
    "    W_mat = np.asmatrix(np.array([0., 0., 0., 0., 0., 0., 0., 0., 0.])).T\n",
    "    count = 0\n",
    "    max_count = 1000\n",
    "    current_cost = calculate_cost()\n",
    "    new_cost = 0\n",
    "    while new_cost < current_cost and count < max_count:\n",
    "        current_cost = calculate_cost()\n",
    "        calculate_weights(rate)\n",
    "        new_cost = calculate_cost()\n",
    "        count += 1\n",
    "    print \"Iterations : %d\" % count\n",
    "    print \"Last Cost : %lf\" % new_cost\n",
    "    print \"Second Last Cost : %f \" % current_cost \n",
    "    print \"Learning rate : %f \" % rate\n",
    "    print \"w0 : %f \" % W_mat[0]\n",
    "    print \"w1 : %f\" % W_mat[1]\n",
    "    print \"w2 : %f\" % W_mat[2]\n",
    "    print \"w3 : %f \" % W_mat[3]\n",
    "    print \"w4 : %f\" % W_mat[4]\n",
    "    print \"w5 : %f\" % W_mat[5]\n",
    "    print \"w6 : %f \" % W_mat[6]\n",
    "    print \"w7 : %f\" % W_mat[7]\n",
    "    print \"w8 : %f\" % W_mat[8]\n",
    "    print \"RMSE : %f\" % sqrt(calculate_cost())\n",
    "    print \"\\n\""
   ]
  },
  {
   "cell_type": "markdown",
   "metadata": {},
   "source": [
    "## Best Result with Learning rate : 0.10000 \n",
    "\n",
    "Iterations : 1000 <br />\n",
    "Last Cost : 0.579215 <br />\n",
    "Second Last Cost : 0.579251 <br /> \n",
    "Learning rate : 0.100000 <br />\n",
    "w0 : 1.703980 <br />\n",
    "w1 : 5.861136<br />\n",
    "w2 : 0.776703<br />\n",
    "w3 : 0.154956 <br />\n",
    "w4 : 0.072752<br />\n",
    "w5 : 0.142323<br />\n",
    "w6 : -0.063152 <br />\n",
    "w7 : -1.788810<br />\n",
    "w8 : -1.780212<br />\n",
    "RMSE : 0.761062<br />"
   ]
  },
  {
   "cell_type": "markdown",
   "metadata": {},
   "source": [
    "## 3-2. Linear regression with multiple variables using Normal equation\n",
    "Fit the data (ex1data3.csv) using Normal equation. You need to calculate cost function and update weight.\n",
    "Please print the best Root Mean Squared Error (RMSE) after optimization."
   ]
  },
  {
   "cell_type": "code",
   "execution_count": 39,
   "metadata": {},
   "outputs": [],
   "source": [
    "X1 = data[0]\n",
    "X2 = data[1]\n",
    "X3 = data[2]\n",
    "X4 = data[3]\n",
    "X5 = data[4]\n",
    "X6 = data[5]\n",
    "X7 = data[6]\n",
    "X8 = data[7]\n",
    "Y = data[8]\n",
    "m = len(data)\n",
    "\n",
    "X1 = X1.astype(float) \n",
    "X2 = X2.astype(float)\n",
    "X3 = X3.astype(float) \n",
    "X4 = X4.astype(float)\n",
    "X5 = X5.astype(float) \n",
    "X6 = X6.astype(float)\n",
    "X7 = X7.astype(float) \n",
    "X8 = X8.astype(float)"
   ]
  },
  {
   "cell_type": "code",
   "execution_count": 40,
   "metadata": {},
   "outputs": [],
   "source": [
    "X1_min = X1.min()\n",
    "X2_min = X2.min()\n",
    "X3_min = X3.min()\n",
    "X4_min = X4.min()\n",
    "X5_min = X5.min()\n",
    "X6_min = X6.min()\n",
    "X7_min = X7.min()\n",
    "X8_min = X8.min()\n",
    "X1_max = X1.max()\n",
    "X2_max = X2.max()\n",
    "X3_max = X3.max()\n",
    "X4_max = X4.max()\n",
    "X5_max = X5.max()\n",
    "X6_max = X6.max()\n",
    "X7_max = X7.max()\n",
    "X8_max = X8.max()"
   ]
  },
  {
   "cell_type": "code",
   "execution_count": 41,
   "metadata": {},
   "outputs": [],
   "source": [
    "i = 0\n",
    "for x1,x2,x3,x4,x5,x6,x7,x8 in zip(X1,X2,X3,X4,X5,X6,X7,X8):\n",
    "    X1[i] = ((x1 - X1_min)/(X1_max - X1_min))\n",
    "    X2[i] = ((x2 - X2_min)/(X2_max - X2_min))\n",
    "    X3[i] = ((x3 - X3_min)/(X3_max - X3_min))\n",
    "    X4[i] = ((x4 - X4_min)/(X4_max - X4_min))\n",
    "    X5[i] = ((x5 - X5_min)/(X5_max - X5_min))\n",
    "    X6[i] = ((x6 - X6_min)/(X6_max - X6_min))\n",
    "    X7[i] = ((x7 - X7_min)/(X7_max - X7_min))\n",
    "    X8[i] = ((x8 - X8_min)/(X8_max - X8_min))\n",
    "    i += 1"
   ]
  },
  {
   "cell_type": "code",
   "execution_count": 42,
   "metadata": {},
   "outputs": [],
   "source": [
    "temp = pd.Series( (1 for i in range(0,len(data))) )"
   ]
  },
  {
   "cell_type": "code",
   "execution_count": 43,
   "metadata": {},
   "outputs": [],
   "source": [
    "X_mat = np.asmatrix((np.column_stack((temp,X1,X2,X3,X4,X5,X6,X7,X8))))\n",
    "W_mat = np.asmatrix(np.array([0., 0., 0., 0., 0., 0., 0., 0., 0.])).T\n",
    "Y_mat = np.asmatrix((np.row_stack((Y))))\n",
    "learning_rates = [0.1,0.01,0.001,0.0001,0.00001,0.000001,0.0000001,0.00000000001]"
   ]
  },
  {
   "cell_type": "code",
   "execution_count": 44,
   "metadata": {},
   "outputs": [],
   "source": [
    "def weight_function():\n",
    "    global Y_mat\n",
    "    result = np.matmul(np.matmul(np.matmul(X_mat.T,X_mat).I,X_mat.T),Y_mat)\n",
    "    return result\n",
    "def predict_Y(theta):\n",
    "    result = np.matmul(X_mat,theta)\n",
    "    return result\n",
    "def calculate_cost(Y_pred):\n",
    "    result = 0\n",
    "    for i in range(0,len(Y_pred)):\n",
    "        result += (Y_pred[i] - Y_mat[i])**2\n",
    "    result /=m\n",
    "    return result   "
   ]
  },
  {
   "cell_type": "code",
   "execution_count": 45,
   "metadata": {},
   "outputs": [],
   "source": [
    "theta = weight_function()\n",
    "Y_pred = predict_Y(theta)"
   ]
  },
  {
   "cell_type": "code",
   "execution_count": 46,
   "metadata": {},
   "outputs": [
    {
     "name": "stdout",
     "output_type": "stream",
     "text": [
      "w0 : 3.729612 \n",
      "w1 : 6.332140\n",
      "w2 : 0.481225\n",
      "w3 : -15.139162\n",
      "w4 : 21.760216\n",
      "w5 : -0.141874\n",
      "w6 : -4.705313\n",
      "w7 : -3.964568\n",
      "w8 : -4.362518\n",
      "RMSE : 0.724100\n",
      "\n",
      "\n"
     ]
    }
   ],
   "source": [
    "print \"w0 : %f \" % theta[0]\n",
    "print \"w1 : %f\" % theta[1]\n",
    "print \"w2 : %f\" % theta[2]\n",
    "print \"w3 : %f\" % theta[3]\n",
    "print \"w4 : %f\" % theta[4]\n",
    "print \"w5 : %f\" % theta[5]\n",
    "print \"w6 : %f\" % theta[6]\n",
    "print \"w7 : %f\" % theta[7]\n",
    "print \"w8 : %f\" % theta[8]\n",
    "print \"RMSE : %f\" % sqrt(calculate_cost(Y_pred))\n",
    "print \"\\n\""
   ]
  },
  {
   "cell_type": "markdown",
   "metadata": {},
   "source": [
    "## Result of Normal Equation:\n",
    "w0 : 3.729612 <br /> \n",
    "w1 : 6.332140 <br />\n",
    "w2 : 0.481225<br />\n",
    "w3 : -15.139162<br />\n",
    "w4 : 21.760216<br />\n",
    "w5 : -0.141874<br />\n",
    "w6 : -4.705313<br />\n",
    "w7 : -3.964568<br />\n",
    "w8 : -4.362518<br />\n",
    "RMSE : 0.724100<br />"
   ]
  },
  {
   "cell_type": "markdown",
   "metadata": {},
   "source": [
    "## Linear regression with multiple variables using scikit-learn linear regression model\n",
    "Fit the data (ex1data3.csv) using linear regression from scikit-learn library. You need to calculate cost function\n",
    "and update weight.\n",
    "Please print the best Root Mean Squared Error (RMSE) after optimization."
   ]
  },
  {
   "cell_type": "markdown",
   "metadata": {},
   "source": [
    "### Done a Min-Max Normalization using code from above."
   ]
  },
  {
   "cell_type": "code",
   "execution_count": 47,
   "metadata": {},
   "outputs": [],
   "source": [
    "my_model = LinearRegression()"
   ]
  },
  {
   "cell_type": "code",
   "execution_count": 48,
   "metadata": {},
   "outputs": [],
   "source": [
    "my_model.fit(X_mat,Y_mat)\n",
    "result = my_model.predict(X_mat)"
   ]
  },
  {
   "cell_type": "code",
   "execution_count": 49,
   "metadata": {},
   "outputs": [
    {
     "name": "stdout",
     "output_type": "stream",
     "text": [
      "RMSE is 0.724100 \n"
     ]
    }
   ],
   "source": [
    "print \"RMSE is %f \" % sqrt(mean_squared_error(Y_mat,result))"
   ]
  },
  {
   "cell_type": "markdown",
   "metadata": {},
   "source": [
    "## Result of Scikit learn Linear Regression\n",
    "\n",
    "RMSE is : 0.724100"
   ]
  },
  {
   "cell_type": "markdown",
   "metadata": {},
   "source": [
    "## 3-4. Linear regression with multiple variables using TensorFlow\n",
    "Fit the data (ex1data3.csv) using linear regression using TensorFlow. You need to normalize variables. You\n",
    "need to calculate cost function and update weight using gradient descent method instead of Normal equation.\n",
    "Please print the best Root Mean Squared Error (RMSE) after optimization."
   ]
  },
  {
   "cell_type": "code",
   "execution_count": 50,
   "metadata": {},
   "outputs": [],
   "source": [
    "import numpy as np\n",
    "from sklearn.datasets import fetch_california_housing\n",
    "housing = fetch_california_housing()\n",
    "m, n = housing.data.shape\n",
    "X = tf.constant(X_mat, dtype=tf.float32, name=\"X\")\n",
    "y = tf.constant(Y_mat, dtype=tf.float32, name=\"y\")\n",
    "XT = tf.transpose(X)\n",
    "theta = tf.matmul(tf.matmul(tf.matrix_inverse(tf.matmul(XT, X)), XT), y)\n",
    "with tf.Session() as sess:\n",
    "    theta_value = theta.eval()"
   ]
  },
  {
   "cell_type": "code",
   "execution_count": 51,
   "metadata": {},
   "outputs": [
    {
     "data": {
      "text/plain": [
       "array([[  3.72974086],\n",
       "       [  6.33249378],\n",
       "       [  0.48119265],\n",
       "       [-15.14693642],\n",
       "       [ 21.76514816],\n",
       "       [ -0.14191604],\n",
       "       [ -4.70538664],\n",
       "       [ -3.96461535],\n",
       "       [ -4.3626194 ]], dtype=float32)"
      ]
     },
     "execution_count": 51,
     "metadata": {},
     "output_type": "execute_result"
    }
   ],
   "source": [
    "theta_value"
   ]
  },
  {
   "cell_type": "code",
   "execution_count": 52,
   "metadata": {},
   "outputs": [
    {
     "data": {
      "text/plain": [
       "9"
      ]
     },
     "execution_count": 52,
     "metadata": {},
     "output_type": "execute_result"
    }
   ],
   "source": [
    "(X_mat.shape[1])"
   ]
  },
  {
   "cell_type": "code",
   "execution_count": 53,
   "metadata": {},
   "outputs": [
    {
     "name": "stdout",
     "output_type": "stream",
     "text": [
      "('Epoch', 0, 'RMSE =', 2.5471997)\n",
      "('Epoch', 100, 'RMSE =', 0.96276641)\n",
      "('Epoch', 200, 'RMSE =', 0.87829679)\n",
      "('Epoch', 300, 'RMSE =', 0.83100903)\n",
      "('Epoch', 400, 'RMSE =', 0.80427802)\n",
      "('Epoch', 500, 'RMSE =', 0.78879064)\n",
      "('Epoch', 600, 'RMSE =', 0.77936673)\n",
      "('Epoch', 700, 'RMSE =', 0.77321076)\n",
      "('Epoch', 800, 'RMSE =', 0.76884234)\n",
      "('Epoch', 900, 'RMSE =', 0.76548481)\n"
     ]
    }
   ],
   "source": [
    "n_epochs = 1000\n",
    "learning_rate = 0.1\n",
    "X = tf.constant(X_mat, dtype=tf.float32, name=\"X\")\n",
    "y = tf.constant(Y_mat, dtype=tf.float32, name=\"y\")\n",
    "theta = tf.Variable(tf.random_uniform([X_mat.shape[1], 1], -1.0, 1.0), name=\"theta\")\n",
    "y_pred = tf.matmul(X, theta, name=\"predictions\")\n",
    "error = y_pred - y\n",
    "rmse = tf.sqrt(tf.reduce_mean(tf.square(error), name=\"rmse\"))\n",
    "gradients = 2/m * tf.matmul(tf.transpose(X), error)\n",
    "training_op = tf.assign(theta, theta - learning_rate * gradients)\n",
    "init = tf.global_variables_initializer()\n",
    "with tf.Session() as sess:\n",
    "    sess.run(init)\n",
    "    for epoch in range(n_epochs):\n",
    "        if epoch % 100 == 0:\n",
    "            print(\"Epoch\", epoch, \"RMSE =\", rmse.eval())\n",
    "        sess.run(training_op)\n",
    "    best_theta = theta.eval()"
   ]
  },
  {
   "cell_type": "markdown",
   "metadata": {},
   "source": [
    "## Result of Tensor flow Gradient descent:\n",
    "Iterations : 1000 <br />\n",
    "\n",
    "Learning rate : 0.1 <br />\n",
    "\n",
    "RMSE : 0.76548481<br />"
   ]
  }
 ],
 "metadata": {
  "kernelspec": {
   "display_name": "Python 2",
   "language": "python",
   "name": "python2"
  },
  "language_info": {
   "codemirror_mode": {
    "name": "ipython",
    "version": 2
   },
   "file_extension": ".py",
   "mimetype": "text/x-python",
   "name": "python",
   "nbconvert_exporter": "python",
   "pygments_lexer": "ipython2",
   "version": "2.7.14"
  }
 },
 "nbformat": 4,
 "nbformat_minor": 2
}
