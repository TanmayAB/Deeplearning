{
 "cells": [
  {
   "cell_type": "markdown",
   "metadata": {},
   "source": [
    "### Tanmay Bhatt\n",
    "### 011499072\n",
    "CMPE 258 <br />\n",
    "Mid term exam - 1 <br />\n",
    "Date: 03/10/2018 <br />"
   ]
  },
  {
   "cell_type": "code",
   "execution_count": 1,
   "metadata": {},
   "outputs": [],
   "source": [
    "import numpy as np\n",
    "import pandas as pd\n",
    "import matplotlib.pyplot as plt\n",
    "from numpy.random import uniform, seed"
   ]
  },
  {
   "cell_type": "markdown",
   "metadata": {},
   "source": [
    "## 1. (30pts) Define functions\n",
    "Please define the following functions.\n",
    "One-hot encoding\n",
    "Activation function(s)\n",
    "Forward propagation with regularization\n",
    "Backward propagation with regularization\n",
    "Gradient descent with regularization\n",
    "Softmax"
   ]
  },
  {
   "cell_type": "code",
   "execution_count": 2,
   "metadata": {},
   "outputs": [],
   "source": [
    "def sigmoid(z):\n",
    "    return 1/(1 + np.exp(-z))"
   ]
  },
  {
   "cell_type": "code",
   "execution_count": 3,
   "metadata": {},
   "outputs": [],
   "source": [
    "def ReLU(z):\n",
    "    return abs(z) * (z > 0)"
   ]
  },
  {
   "cell_type": "code",
   "execution_count": 4,
   "metadata": {},
   "outputs": [],
   "source": [
    "def sigmoid_derivative(a):\n",
    "    return a * (1-a)"
   ]
  },
  {
   "cell_type": "code",
   "execution_count": 5,
   "metadata": {},
   "outputs": [],
   "source": [
    "def softmax(z):\n",
    "    ez = np.exp(z)\n",
    "    return (ez/np.sum(ez,axis=1).reshape(-1,1))"
   ]
  },
  {
   "cell_type": "code",
   "execution_count": 6,
   "metadata": {},
   "outputs": [],
   "source": [
    "def forward_pass(X_mat):\n",
    "    \n",
    "    global neural_dict\n",
    "    W1 = neural_dict['W1']\n",
    "    W2 = neural_dict['W2']\n",
    "    W3 = neural_dict['W3']\n",
    "    B1 = neural_dict['B1']\n",
    "    B2 = neural_dict['B2']\n",
    "    B3 = neural_dict['B3']\n",
    "\n",
    "    '''Layer 1'''\n",
    "    z1 = np.dot(X_mat,W1.T).T + B1\n",
    "    a1 = sigmoid(z1)\n",
    "    \n",
    "    '''Layer 2'''\n",
    "    z2 = np.dot(W2, a1)+ B2\n",
    "    a2 = sigmoid(z2)\n",
    "    \n",
    "    '''Layer 3'''\n",
    "    z3 = np.dot(W3,a2) + B3\n",
    "    a3 = sigmoid(z3).T\n",
    "    neural_dict['a1'] = a1\n",
    "    neural_dict['a2'] = a2\n",
    "    neural_dict['a3'] = a3"
   ]
  },
  {
   "cell_type": "code",
   "execution_count": 7,
   "metadata": {},
   "outputs": [],
   "source": [
    "def backward_pass():\n",
    "    \n",
    "    m = X_train.shape[0]\n",
    "    W1 = neural_dict['W1']\n",
    "    W2 = neural_dict['W2']\n",
    "    W3 = neural_dict['W3']\n",
    "    B1 = neural_dict['B1']\n",
    "    B2 = neural_dict['B2']\n",
    "    B3 = neural_dict['B3']\n",
    "    a1 = neural_dict['a1']\n",
    "    a2 = neural_dict['a2']\n",
    "    a3 = neural_dict['a3']\n",
    "\n",
    "    '''Layer 3'''\n",
    "    dl_dz3 = a3 - Y_train_onehot\n",
    "    dl_dw3 = np.dot(dl_dz3.T, a2.T)/m\n",
    "    dl_db3 = np.sum(dl_dz3.T, axis=1, keepdims=True)/m\n",
    "    \n",
    "    '''Layer 2'''\n",
    "    dl_da2 = np.dot(dl_dz3,W3)\n",
    "    dl_dz2 = np.multiply(dl_da2.T,sigmoid_derivative(a2))\n",
    "    dl_dw2 = np.dot(dl_dz2, a1.T)/m\n",
    "    dl_db2 = np.sum(dl_dz2, axis=1, keepdims=True)/m\n",
    "    \n",
    "    '''Layer 1'''\n",
    "    dl_da1 = np.dot(dl_dz2.T, W2)\n",
    "    dl_dz1 = np.multiply(dl_da1.T,sigmoid_derivative(a1))\n",
    "    dl_dw1 = np.dot(dl_dz1, X_train)/m\n",
    "    dl_db1 = np.sum(dl_dz1, axis=1, keepdims=True)/m\n",
    "    \n",
    "    return dl_dw1, dl_dw2, dl_dw3, dl_db1, dl_db2, dl_db3"
   ]
  },
  {
   "cell_type": "code",
   "execution_count": 8,
   "metadata": {},
   "outputs": [],
   "source": [
    "def one_hot_encoding(mat):\n",
    "    list_of_list = []\n",
    "    for i in range(0,len(mat)):\n",
    "        small_list = np.zeros(np.max(mat)+1)\n",
    "        small_list[mat[i]] = 1\n",
    "        list_of_list.append(small_list)\n",
    "    result = np.array(list_of_list)\n",
    "    return result"
   ]
  },
  {
   "cell_type": "code",
   "execution_count": 9,
   "metadata": {},
   "outputs": [],
   "source": [
    "def calculate_loss():\n",
    "    a = neural_dict['a3']\n",
    "    return (np.multiply(Y_train_onehot,np.log(a)) + np.multiply((1-Y_train_onehot),np.log(1-a)))"
   ]
  },
  {
   "cell_type": "code",
   "execution_count": 10,
   "metadata": {},
   "outputs": [],
   "source": [
    "def calculate_cost():\n",
    "    m = X_train.shape[0]\n",
    "    cost = -np.sum(calculate_loss())\n",
    "    return cost/m"
   ]
  },
  {
   "cell_type": "code",
   "execution_count": 11,
   "metadata": {},
   "outputs": [],
   "source": [
    "\"\"\"\n",
    "Predicting results by performing Softmax on the result of forward pass on the testing data\n",
    "\"\"\"\n",
    "\n",
    "def predict(X_max):\n",
    "    global neural_dict\n",
    "    forward_pass(X_max)\n",
    "    sof = softmax(neural_dict['a3'])\n",
    "    prediction = []\n",
    "    for i in sof:\n",
    "        prediction.append(np.argmax(i))\n",
    "    return prediction"
   ]
  },
  {
   "cell_type": "code",
   "execution_count": 12,
   "metadata": {},
   "outputs": [],
   "source": [
    "'''Expects python - list of actual and predicted results'''\n",
    "\n",
    "def calculate_accuracy(actual,predicted):\n",
    "    count = 0.0\n",
    "    for i in range(0,len(actual)):\n",
    "        if predicted[i] == actual[i]:\n",
    "            count+= 1\n",
    "    return count/len(actual)"
   ]
  },
  {
   "cell_type": "code",
   "execution_count": 13,
   "metadata": {},
   "outputs": [],
   "source": [
    "def gradient_descent(X_train,learning_rate=1,iterations=1000):\n",
    "   \n",
    "    global plot_object\n",
    "    global neural_dict\n",
    "    \n",
    "    neural_dict['W1'] = W1\n",
    "    neural_dict['W2'] = W2\n",
    "    neural_dict['W3'] = W3\n",
    "    neural_dict['B1'] = B1\n",
    "    neural_dict['B2'] = B2\n",
    "    neural_dict['B3'] = B3\n",
    "\n",
    "    all_costs = []\n",
    "    count = 0\n",
    "    forward_pass(X_train)\n",
    "    new_cost = calculate_cost()\n",
    "    current_cost = float(\"inf\")\n",
    "    while new_cost < current_cost and count < iterations:\n",
    "        all_costs.append(new_cost)\n",
    "        count += 1        \n",
    "        dl_dw1, dl_dw2, dl_dw3, dl_db1, dl_db2, dl_db3 = backward_pass()\n",
    "        \n",
    "        neural_dict['W1'] = neural_dict['W1'] - (learning_rate * dl_dw1)\n",
    "        neural_dict['W2'] = neural_dict['W2'] - (learning_rate * dl_dw2)\n",
    "        neural_dict['W3'] = neural_dict['W3'] - (learning_rate * dl_dw3)\n",
    "\n",
    "        neural_dict['B1'] = neural_dict['B1'] - (learning_rate * dl_db1)\n",
    "        neural_dict['B2'] = neural_dict['B2'] - (learning_rate * dl_db2)\n",
    "        neural_dict['B3'] = neural_dict['B3'] - (learning_rate * dl_db3)\n",
    "        \n",
    "        current_cost = new_cost\n",
    "        forward_pass(X_train)\n",
    "        new_cost = calculate_cost()\n",
    "        count +=1\n",
    "    plot_object[learning_rate] = all_costs\n",
    "    print \"Final cost : \",\n",
    "    print new_cost\n",
    "    print \"Iternations : %d\" % count"
   ]
  },
  {
   "cell_type": "markdown",
   "metadata": {},
   "source": [
    "## 2. Split data\n",
    "Please split each data (Train & Test) set as input (x) and output (y) set.\n",
    "Input set is the columns starting 0 to 399.\n",
    "Output set is the column of ‘y’."
   ]
  },
  {
   "cell_type": "code",
   "execution_count": 14,
   "metadata": {},
   "outputs": [],
   "source": [
    "train_data = pd.read_csv(\"./exam1_train.csv\",index_col=0)\n",
    "test_data = pd.read_csv(\"./exam1_test.csv\",index_col=0)\n",
    "\n",
    "X_train = train_data.iloc[:,:(train_data.shape[1] -1 )]\n",
    "X_test =  test_data.iloc[:,:(test_data.shape[1] -1 )]\n",
    "\n",
    "Y_train = train_data['y']\n",
    "Y_test =test_data['y']\n",
    "\n",
    "Y_train_onehot = one_hot_encoding(Y_train)\n",
    "\n",
    "Y_train = Y_train.tolist()\n",
    "Y_test = Y_test.tolist()"
   ]
  },
  {
   "cell_type": "code",
   "execution_count": 15,
   "metadata": {},
   "outputs": [
    {
     "name": "stdout",
     "output_type": "stream",
     "text": [
      "X_train shape (3500, 400)\n",
      "X_test shape (1500, 400)\n"
     ]
    }
   ],
   "source": [
    "print \"X_train shape\",\n",
    "print X_train.shape\n",
    "print \"X_test shape\",\n",
    "print X_test.shape"
   ]
  },
  {
   "cell_type": "code",
   "execution_count": 16,
   "metadata": {},
   "outputs": [
    {
     "name": "stdout",
     "output_type": "stream",
     "text": [
      "Y_train shape 3500\n",
      "Y_test shape 1500\n"
     ]
    }
   ],
   "source": [
    "print \"Y_train shape\",\n",
    "print len(Y_train)\n",
    "print \"Y_test shape\",\n",
    "print len(Y_test)"
   ]
  },
  {
   "cell_type": "code",
   "execution_count": 17,
   "metadata": {},
   "outputs": [],
   "source": [
    "plot_object = {}"
   ]
  },
  {
   "cell_type": "markdown",
   "metadata": {},
   "source": [
    "## 3. (10pts) Initialize parameters\n",
    "Please initialize weight coefficients and bias terms for each layer properly. You can use any initializing methods as you\n",
    "wish."
   ]
  },
  {
   "cell_type": "code",
   "execution_count": 18,
   "metadata": {},
   "outputs": [],
   "source": [
    "neural_dict = {}"
   ]
  },
  {
   "cell_type": "code",
   "execution_count": 19,
   "metadata": {},
   "outputs": [],
   "source": [
    "'''\n",
    "Number of Hidden Neurons is configurable.\n",
    "'''\n",
    "\n",
    "hidden_neurons1 = 70\n",
    "hidden_neurons2 = 40\n",
    "\n",
    "output_neurons = 10\n",
    "np.random.seed(1)\n",
    "\n",
    "W1 = []\n",
    "for i in range(0,hidden_neurons1):\n",
    "    sampl = np.random.uniform(low=-1, high=1, size=(X_train.shape[1]))\n",
    "    W1.append(sampl)\n",
    "\n",
    "W2 = []\n",
    "for i in range(0,hidden_neurons2):\n",
    "    sampl = np.random.uniform(low=-1, high=1, size=(hidden_neurons1))\n",
    "    W2.append(sampl)\n",
    "    \n",
    "W3 = []\n",
    "for i in range(0,output_neurons):\n",
    "    sampl = np.random.uniform(low=-1, high=1, size=(hidden_neurons2))\n",
    "    W3.append(sampl)\n",
    "    \n",
    "B1 = []\n",
    "for i in range(0,hidden_neurons1):\n",
    "    B1.append([0])\n",
    "    \n",
    "B2 = []\n",
    "for i in range(0,hidden_neurons2):\n",
    "    B2.append([0])\n",
    "    \n",
    "B3 = []\n",
    "for i in range(0,output_neurons):\n",
    "    B3.append([0])\n",
    "    \n",
    "W1 = np.array(W1)\n",
    "W2 = np.array(W2)\n",
    "W3 = np.array(W3)\n",
    "\n",
    "B1 = np.array(B1)\n",
    "B2 = np.array(B2)\n",
    "B3 = np.array(B3)"
   ]
  },
  {
   "cell_type": "markdown",
   "metadata": {},
   "source": [
    "## 4. (30pts) Deep Neural Network model with more than 2 hidden layers\n",
    "Please build neural network model using input layer (400 neurons), many (at least two) hidden layers, and output layer (10\n",
    "neurons) using training data set. For each hidden layer, you can assign many neurons as you wish. For activation functions\n",
    "and regularization methods, you can use any method as you wish."
   ]
  },
  {
   "cell_type": "code",
   "execution_count": 20,
   "metadata": {},
   "outputs": [],
   "source": [
    "neural_dict = {}"
   ]
  },
  {
   "cell_type": "code",
   "execution_count": 21,
   "metadata": {},
   "outputs": [
    {
     "name": "stdout",
     "output_type": "stream",
     "text": [
      "Final cost :  1.79342798345\n",
      "Iternations : 68\n",
      "Learning rate\n",
      "Training accuracy is : 0.725714 \n",
      "\n"
     ]
    }
   ],
   "source": [
    "learning_rates = [1.2]\n",
    "for rate in learning_rates:\n",
    "    gradient_descent(X_train,rate,3500)\n",
    "    Y_pred = np.array(np.argmax(neural_dict['a3'], axis=1))\n",
    "    print \"Learning rate\"\n",
    "    print \"Training accuracy is : %f \" % calculate_accuracy(Y_train,Y_pred)\n",
    "    print"
   ]
  },
  {
   "cell_type": "markdown",
   "metadata": {},
   "source": [
    "## 5. (10pts) Predictions\n",
    "Please predict digit using softmax function.\n",
    "Please calculate accuracy for the prediction using training data set and testing data set"
   ]
  },
  {
   "cell_type": "code",
   "execution_count": 22,
   "metadata": {},
   "outputs": [
    {
     "name": "stdout",
     "output_type": "stream",
     "text": [
      "Testing accuracy is : 0.722000 \n"
     ]
    }
   ],
   "source": [
    "'''\n",
    "Predicting using softmax\n",
    "'''\n",
    "\n",
    "Y_pred_test = predict(X_test)\n",
    "print \"Testing accuracy is : %f \" % calculate_accuracy(Y_test,Y_pred_test)"
   ]
  },
  {
   "cell_type": "markdown",
   "metadata": {},
   "source": [
    "## 6. (20pts) Optimization\n",
    "Please optimize your model using various hyper parameters such as number of hidden layer, number of neurons in hidden\n",
    "layer, activation function, regularization method, initialization method, learning rate, and number of iteration.\n",
    "Please print out the optimized accuracy for training and testing data set."
   ]
  },
  {
   "cell_type": "code",
   "execution_count": 23,
   "metadata": {},
   "outputs": [
    {
     "name": "stdout",
     "output_type": "stream",
     "text": [
      "Final cost :  2.58990035659\n",
      "Iternations : 30\n",
      "Learning rate : 1.500000 \n",
      "Training accuracy : 0.450571 \n",
      "Testing accuracy : 0.446667 \n",
      "\n",
      "************\n",
      "\n",
      "Final cost :  2.33702542427\n",
      "Iternations : 3500\n",
      "Learning rate : 0.010000 \n",
      "Training accuracy : 0.596000 \n",
      "Testing accuracy : 0.579333 \n",
      "\n",
      "************\n",
      "\n",
      "Final cost :  0.0588784623812\n",
      "Iternations : 3500\n",
      "Learning rate : 1.000000 \n",
      "Training accuracy : 0.998000 \n",
      "Testing accuracy : 0.913333 \n",
      "\n",
      "************\n",
      "\n"
     ]
    }
   ],
   "source": [
    "'''It could take about 3 minutes'''\n",
    "'''Reduce number of Iterations - last parameter to gradient descent if it is taking very long. \n",
    "   Would hurt the accuracy at the cost of faster result '''\n",
    "\n",
    "learning_rates = [1.5,0.01,1]\n",
    "# iterations = [500,1000,5000]\n",
    "train_results = []\n",
    "test_results = []\n",
    "for rate in learning_rates:\n",
    "    #for it in iterations:\n",
    "    gradient_descent(X_train,rate,3500)  #,it)\n",
    "    Y_pred_train = np.array(np.argmax(neural_dict['a3'], axis=1))\n",
    "    Y_pred_test = predict(X_test)\n",
    "    train_results.append(calculate_accuracy(Y_train,Y_pred_train))\n",
    "    test_results.append(calculate_accuracy(Y_test,Y_pred_test))\n",
    "    print \"Learning rate : %f \" % rate\n",
    "    print \"Training accuracy : %f \" % train_results[-1]\n",
    "    print \"Testing accuracy : %f \" % test_results[-1]\n",
    "    print\n",
    "    print \"************\"\n",
    "    print"
   ]
  },
  {
   "cell_type": "code",
   "execution_count": 24,
   "metadata": {},
   "outputs": [
    {
     "data": {
      "text/plain": [
       "<matplotlib.legend.Legend at 0x10805edd0>"
      ]
     },
     "execution_count": 24,
     "metadata": {},
     "output_type": "execute_result"
    },
    {
     "data": {
      "image/png": "[encoded data removed]",
      "text/plain": [
       "<matplotlib.figure.Figure at 0x1074d24d0>"
      ]
     },
     "metadata": {},
     "output_type": "display_data"
    }
   ],
   "source": [
    "plt.figure(figsize=(10,6))\n",
    "plt.xlabel('Iternations')\n",
    "plt.ylabel('Cost')\n",
    "plt.title(\"Cost v Iterations\")\n",
    "for key, value in plot_object.items():\n",
    "    plt.plot(range(0,len(value)),sorted(value,reverse=True),label='Learning rate' + str(key))\n",
    "plt.legend(learning_rates,title=\"Learning rates\")"
   ]
  },
  {
   "cell_type": "code",
   "execution_count": 25,
   "metadata": {},
   "outputs": [
    {
     "data": {
      "image/png": "[encoded data removed]",
      "text/plain": [
       "<matplotlib.figure.Figure at 0x10625f150>"
      ]
     },
     "metadata": {},
     "output_type": "display_data"
    }
   ],
   "source": [
    "N = len(learning_rates)\n",
    "\n",
    "\n",
    "ind = np.arange(N)  # the x locations for the groups\n",
    "width = 0.35       # the width of the bars\n",
    "\n",
    "\n",
    "fig, ax = plt.subplots()\n",
    "rects1 = ax.bar(ind, train_results, width, color='b', yerr=train_results)\n",
    "\n",
    "rects2 = ax.bar(ind + width, test_results, width, color='g', yerr=test_results)\n",
    "\n",
    "\n",
    "fig.set_figheight(8)\n",
    "fig.set_figwidth(10)\n",
    "\n",
    "# add some text for labels, title and axes ticks\n",
    "ax.set_ylabel('Accuracy scores')\n",
    "ax.set_title('Scores by group and gender')\n",
    "ax.set_xticks(ind + width / 2)\n",
    "ax.set_xticklabels((learning_rates))\n",
    "ax.set_ylim([0,1])\n",
    "\n",
    "ax.legend((rects1[0], rects2[0]), ('train', 'test'))\n",
    "\n",
    "plt.show()"
   ]
  },
  {
   "cell_type": "markdown",
   "metadata": {},
   "source": [
    "## Noticed an inverse co-relation between number of neurons and accuracy\n",
    "\n",
    "### Increasing number of neurons results in lower accuracy\n",
    "\n",
    "1. hidden_neurons1 = 100   hidden_neurons2 = 50    training accuracy = 0.927333\n",
    "2. hidden_neurons1 = 200   hidden_neurons2 = 100   training accuracy = 0.432667 \n",
    "3. hidden_neurons1 = 400   hidden_neurons2 = 200   training accuracy = 0.102667\n",
    "3. hidden_neurons1 = 200   hidden_neurons2 = 300   training accuracy = 0.090667 \n",
    "4. hidden_neurons1 = 70    hidden_neurons2 = 40    training accuracy = 0.998000"
   ]
  }
 ],
 "metadata": {
  "kernelspec": {
   "display_name": "Python 2",
   "language": "python",
   "name": "python2"
  },
  "language_info": {
   "codemirror_mode": {
    "name": "ipython",
    "version": 2
   },
   "file_extension": ".py",
   "mimetype": "text/x-python",
   "name": "python",
   "nbconvert_exporter": "python",
   "pygments_lexer": "ipython2",
   "version": "2.7.14"
  }
 },
 "nbformat": 4,
 "nbformat_minor": 2
}
